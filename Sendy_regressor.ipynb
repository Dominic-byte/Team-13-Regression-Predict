{
  "nbformat": 4,
  "nbformat_minor": 0,
  "metadata": {
    "colab": {
      "name": "Sendy_regressor.ipynb",
      "provenance": [],
      "collapsed_sections": [],
      "include_colab_link": true
    },
    "kernelspec": {
      "name": "python3",
      "display_name": "Python 3"
    }
  },
  "cells": [
    {
      "cell_type": "markdown",
      "metadata": {
        "id": "view-in-github",
        "colab_type": "text"
      },
      "source": [
        "<a href=\"https://colab.research.google.com/github/Dominic-byte/Team-13-Regression-Predict/blob/master/Sendy_regressor.ipynb\" target=\"_parent\"><img src=\"https://colab.research.google.com/assets/colab-badge.svg\" alt=\"Open In Colab\"/></a>"
      ]
    },
    {
      "cell_type": "markdown",
      "metadata": {
        "id": "_vsUG8_gZS7O",
        "colab_type": "text"
      },
      "source": [
        "# Team 13 Sendy Logistics Challenge"
      ]
    },
    {
      "cell_type": "markdown",
      "metadata": {
        "id": "yg1-a7VuZhcE",
        "colab_type": "text"
      },
      "source": [
        "## Contents (finish sections 4, 5, 6, 7, 8, 9)"
      ]
    },
    {
      "cell_type": "markdown",
      "metadata": {
        "id": "jCOb5fnLldFU",
        "colab_type": "text"
      },
      "source": [
        "1. Introduction\n",
        "2. Imports\n",
        "3. Definitions\n",
        "4. Data cleaning and preprocessing\n",
        "5. Exploratoory data analysis\n",
        "6. Feature engineering and selection\n",
        "7. Model building\n",
        "8. Results interpretation\n",
        "9. Conclusion"
      ]
    },
    {
      "cell_type": "markdown",
      "metadata": {
        "id": "CVmo1d8VTmHx",
        "colab_type": "text"
      },
      "source": [
        "## 1. Introduction"
      ]
    },
    {
      "cell_type": "markdown",
      "metadata": {
        "id": "tH-uogFCVA0r",
        "colab_type": "text"
      },
      "source": [
        "**Problem Landscape**\n",
        "\n",
        "*About Sendy:* Sendy is a platform established to enable businesses to transport goods efficently across East Africa. Sendy focuses on on building practical solutions for Africa's transportation needs, from developing apps and web solutions, to providing dedicated support for goods on the move.\n",
        "\n",
        "*Problem* Sendy would like to be able to predict the estimated time of delivery of orders from the point of driver pickup to the point of arrival at final destination.\n",
        "\n",
        "*Value* This will help Sendy improve customer experience by enhancing customer communication and improving service reliability. In addition, the solution will enable the realisation of cost savings through improved resource management.\n",
        "\n",
        "*Problem Statement*: **Build** a model to predict the estimated time of delivery of orders from the **`point of driver pickup`** to the **`point of arrival at final destination`**."
      ]
    },
    {
      "cell_type": "markdown",
      "metadata": {
        "id": "9gyOJVvsa1uL",
        "colab_type": "text"
      },
      "source": [
        "## 2. Imports"
      ]
    },
    {
      "cell_type": "markdown",
      "metadata": {
        "id": "G4GDFAPE5xds",
        "colab_type": "text"
      },
      "source": [
        "Packages"
      ]
    },
    {
      "cell_type": "code",
      "metadata": {
        "id": "ZUDvR6NIZfP2",
        "colab_type": "code",
        "colab": {}
      },
      "source": [
        "%%capture\n",
        "# Standard Imports\n",
        "import numpy as np\n",
        "import pandas as pd\n",
        "\n",
        "# Visualisations\n",
        "import matplotlib.pyplot as plt\n",
        "import seaborn as sns\n",
        "\n",
        "# Modelling\n",
        "from sklearn.preprocessing import StandardScaler\n",
        "\n",
        "# Notebook Settings\n",
        "%matplotlib inline\n",
        "pd.options.display.max_columns = 60\n",
        "sns.set_style(\"whitegrid\")"
      ],
      "execution_count": 0,
      "outputs": []
    },
    {
      "cell_type": "markdown",
      "metadata": {
        "id": "8AL4-rdr51tr",
        "colab_type": "text"
      },
      "source": [
        "Data"
      ]
    },
    {
      "cell_type": "code",
      "metadata": {
        "id": "xkYuYEzfbQAP",
        "colab_type": "code",
        "colab": {}
      },
      "source": [
        "# URL to training and testing data\n",
        "trurl = 'https://raw.githubusercontent.com/Dominic-byte/Team-13-Regression-Predict/master/Train.csv'\n",
        "turl = 'https://raw.githubusercontent.com/Dominic-byte/Team-13-Regression-Predict/master/Test.csv'\n",
        "rurl = 'https://raw.githubusercontent.com/Dominic-byte/Team-13-Regression-Predict/master/Riders.csv'\n",
        "vurl = 'https://raw.githubusercontent.com/Dominic-byte/Team-13-Regression-Predict/master/VariableDefinitions.csv'\n",
        "\n",
        "# Loading datasets\n",
        "train_df = pd.read_csv(trurl, index_col=0)\n",
        "test_df = pd.read_csv(turl, index_col=0)\n",
        "riders_df = pd.read_csv(rurl)\n",
        "variables = pd.read_csv(vurl, index_col=0)"
      ],
      "execution_count": 0,
      "outputs": []
    },
    {
      "cell_type": "markdown",
      "metadata": {
        "id": "qYjMBH10fmFd",
        "colab_type": "text"
      },
      "source": [
        "## 3. Definitions"
      ]
    },
    {
      "cell_type": "code",
      "metadata": {
        "id": "LMN_CafzfwxW",
        "colab_type": "code",
        "outputId": "8af7ca51-5427-4360-f466-6b76df44116a",
        "colab": {
          "base_uri": "https://localhost:8080/",
          "height": 1000
        }
      },
      "source": [
        "pd.options.display.max_colwidth = 0\n",
        "variables"
      ],
      "execution_count": 3,
      "outputs": [
        {
          "output_type": "execute_result",
          "data": {
            "text/html": [
              "<div>\n",
              "<style scoped>\n",
              "    .dataframe tbody tr th:only-of-type {\n",
              "        vertical-align: middle;\n",
              "    }\n",
              "\n",
              "    .dataframe tbody tr th {\n",
              "        vertical-align: top;\n",
              "    }\n",
              "\n",
              "    .dataframe thead th {\n",
              "        text-align: right;\n",
              "    }\n",
              "</style>\n",
              "<table border=\"1\" class=\"dataframe\">\n",
              "  <thead>\n",
              "    <tr style=\"text-align: right;\">\n",
              "      <th></th>\n",
              "      <th>Unique number identifying the order</th>\n",
              "    </tr>\n",
              "    <tr>\n",
              "      <th>Order No</th>\n",
              "      <th></th>\n",
              "    </tr>\n",
              "  </thead>\n",
              "  <tbody>\n",
              "    <tr>\n",
              "      <th>User Id</th>\n",
              "      <td>Unique number identifying the customer on a platform</td>\n",
              "    </tr>\n",
              "    <tr>\n",
              "      <th>Vehicle Type</th>\n",
              "      <td>For this competition limited to bikes, however in practice Sendy service extends to trucks and vans</td>\n",
              "    </tr>\n",
              "    <tr>\n",
              "      <th>Platform Type</th>\n",
              "      <td>Platform used to place the order, there are 4 types</td>\n",
              "    </tr>\n",
              "    <tr>\n",
              "      <th>Personal or Business</th>\n",
              "      <td>Customer type</td>\n",
              "    </tr>\n",
              "    <tr>\n",
              "      <th>Placement - Day of Month</th>\n",
              "      <td>Placement - Day of Month i.e 1-31</td>\n",
              "    </tr>\n",
              "    <tr>\n",
              "      <th>Placement - Weekday (Mo = 1)</th>\n",
              "      <td>Placement - Weekday (Monday = 1)</td>\n",
              "    </tr>\n",
              "    <tr>\n",
              "      <th>Placement - Time</th>\n",
              "      <td>Placement - Time - Time of day the order was placed</td>\n",
              "    </tr>\n",
              "    <tr>\n",
              "      <th>Confirmation - Day of Month</th>\n",
              "      <td>Confirmation - Day of Month i.e 1-31</td>\n",
              "    </tr>\n",
              "    <tr>\n",
              "      <th>Confirmation - Weekday (Mo = 1)</th>\n",
              "      <td>Confirmation - Weekday (Monday = 1)</td>\n",
              "    </tr>\n",
              "    <tr>\n",
              "      <th>Confirmation - Time</th>\n",
              "      <td>Confirmation - Time - Time of day the order was confirmed by a rider</td>\n",
              "    </tr>\n",
              "    <tr>\n",
              "      <th>Arrival at Pickup - Day of Month</th>\n",
              "      <td>Arrival at Pickup - Day of Month i.e 1-31</td>\n",
              "    </tr>\n",
              "    <tr>\n",
              "      <th>Arrival at Pickup - Weekday (Mo = 1)</th>\n",
              "      <td>Arrival at Pickup - Weekday (Monday = 1)</td>\n",
              "    </tr>\n",
              "    <tr>\n",
              "      <th>Arrival at Pickup - Time</th>\n",
              "      <td>Time of day the the rider arrived at the location to pick up the order - as marked by the rider through the Sendy application</td>\n",
              "    </tr>\n",
              "    <tr>\n",
              "      <th>Pickup - Day of Month</th>\n",
              "      <td>Pickup - Day of Month i.e 1-31</td>\n",
              "    </tr>\n",
              "    <tr>\n",
              "      <th>Pickup - Weekday (Mo = 1)</th>\n",
              "      <td>Pickup - Weekday (Monday = 1)</td>\n",
              "    </tr>\n",
              "    <tr>\n",
              "      <th>Pickup - Time</th>\n",
              "      <td>Pickup - Time - Time of day the the rider picked up the order - as marked by the rider through the Sendy application</td>\n",
              "    </tr>\n",
              "    <tr>\n",
              "      <th>Arrival at Destination - Day of Month</th>\n",
              "      <td>Arrival at Delivery - Day of Month i.e 1-31</td>\n",
              "    </tr>\n",
              "    <tr>\n",
              "      <th>Arrival at Destination - Weekday (Mo = 1)</th>\n",
              "      <td>Arrival at Delivery - Weekday (Monday = 1)</td>\n",
              "    </tr>\n",
              "    <tr>\n",
              "      <th>Arrival at Destination - Time</th>\n",
              "      <td>Arrival at Delivery Time - Time of day the rider arrived at the destination to deliver the order - as marked by the rider through the Sendy application</td>\n",
              "    </tr>\n",
              "    <tr>\n",
              "      <th>Distance (KM)</th>\n",
              "      <td>The distance from Pickup to Destination</td>\n",
              "    </tr>\n",
              "    <tr>\n",
              "      <th>Temperature</th>\n",
              "      <td>Temperature at the time of order placement in Degrees Celsius (measured every three hours)</td>\n",
              "    </tr>\n",
              "    <tr>\n",
              "      <th>Precipitation in millimeters</th>\n",
              "      <td>Precipitation at the time of order placement (measured every three hours)</td>\n",
              "    </tr>\n",
              "    <tr>\n",
              "      <th>Pickup Lat</th>\n",
              "      <td>Latitude of pick up location</td>\n",
              "    </tr>\n",
              "    <tr>\n",
              "      <th>Pickup Long</th>\n",
              "      <td>Longitude of pick up location</td>\n",
              "    </tr>\n",
              "    <tr>\n",
              "      <th>Destination Lat</th>\n",
              "      <td>Latitude of delivery location</td>\n",
              "    </tr>\n",
              "    <tr>\n",
              "      <th>Destination Long</th>\n",
              "      <td>Longitude of delivery location</td>\n",
              "    </tr>\n",
              "    <tr>\n",
              "      <th>Rider Id</th>\n",
              "      <td>ID of the Rider who accepted the order</td>\n",
              "    </tr>\n",
              "    <tr>\n",
              "      <th>Time from Pickup to Arrival</th>\n",
              "      <td>Time in seconds between 'Pickup' and 'Arrival at Destination' - calculated from the columns for the purpose of facilitating the task</td>\n",
              "    </tr>\n",
              "    <tr>\n",
              "      <th>NaN</th>\n",
              "      <td>NaN</td>\n",
              "    </tr>\n",
              "    <tr>\n",
              "      <th>Rider Metrics</th>\n",
              "      <td>NaN</td>\n",
              "    </tr>\n",
              "    <tr>\n",
              "      <th>Rider Id</th>\n",
              "      <td>Unique number identifying the rider (same as in order details)</td>\n",
              "    </tr>\n",
              "    <tr>\n",
              "      <th>No_Of_Orders</th>\n",
              "      <td>Number of Orders the rider has delivered</td>\n",
              "    </tr>\n",
              "    <tr>\n",
              "      <th>Age</th>\n",
              "      <td>Number of days since the rider delivered the first order</td>\n",
              "    </tr>\n",
              "    <tr>\n",
              "      <th>Average_Rating</th>\n",
              "      <td>Average rating of the rider</td>\n",
              "    </tr>\n",
              "    <tr>\n",
              "      <th>No_of_Ratings</th>\n",
              "      <td>Number of ratings the rider has received. Rating an order is optional for the customer.</td>\n",
              "    </tr>\n",
              "  </tbody>\n",
              "</table>\n",
              "</div>"
            ],
            "text/plain": [
              "                                                                                                                                                               Unique number identifying the order\n",
              "Order No                                                                                                                                                                                          \n",
              "User Id                                    Unique number identifying the customer on a platform                                                                                                   \n",
              "Vehicle Type                               For this competition limited to bikes, however in practice Sendy service extends to trucks and vans                                                    \n",
              "Platform Type                              Platform used to place the order, there are 4 types                                                                                                    \n",
              "Personal or Business                       Customer type                                                                                                                                          \n",
              "Placement - Day of Month                   Placement - Day of Month i.e 1-31                                                                                                                      \n",
              "Placement - Weekday (Mo = 1)               Placement - Weekday (Monday = 1)                                                                                                                       \n",
              "Placement - Time                           Placement - Time - Time of day the order was placed                                                                                                    \n",
              "Confirmation - Day of Month                Confirmation - Day of Month i.e 1-31                                                                                                                   \n",
              "Confirmation - Weekday (Mo = 1)            Confirmation - Weekday (Monday = 1)                                                                                                                    \n",
              "Confirmation - Time                        Confirmation - Time - Time of day the order was confirmed by a rider                                                                                   \n",
              "Arrival at Pickup - Day of Month           Arrival at Pickup - Day of Month i.e 1-31                                                                                                              \n",
              "Arrival at Pickup - Weekday (Mo = 1)       Arrival at Pickup - Weekday (Monday = 1)                                                                                                               \n",
              "Arrival at Pickup - Time                   Time of day the the rider arrived at the location to pick up the order - as marked by the rider through the Sendy application                          \n",
              "Pickup - Day of Month                      Pickup - Day of Month i.e 1-31                                                                                                                         \n",
              "Pickup - Weekday (Mo = 1)                  Pickup - Weekday (Monday = 1)                                                                                                                          \n",
              "Pickup - Time                              Pickup - Time - Time of day the the rider picked up the order - as marked by the rider through the Sendy application                                   \n",
              "Arrival at Destination - Day of Month      Arrival at Delivery - Day of Month i.e 1-31                                                                                                            \n",
              "Arrival at Destination - Weekday (Mo = 1)  Arrival at Delivery - Weekday (Monday = 1)                                                                                                             \n",
              "Arrival at Destination - Time              Arrival at Delivery Time - Time of day the rider arrived at the destination to deliver the order - as marked by the rider through the Sendy application\n",
              "Distance (KM)                              The distance from Pickup to Destination                                                                                                                \n",
              "Temperature                                Temperature at the time of order placement in Degrees Celsius (measured every three hours)                                                             \n",
              "Precipitation in millimeters                Precipitation at the time of order placement (measured every three hours)                                                                             \n",
              "Pickup Lat                                 Latitude of pick up location                                                                                                                           \n",
              "Pickup Long                                Longitude of pick up location                                                                                                                          \n",
              "Destination Lat                            Latitude of delivery location                                                                                                                          \n",
              "Destination Long                           Longitude of delivery location                                                                                                                         \n",
              "Rider Id                                    ID of the Rider who accepted the order                                                                                                                \n",
              "Time from Pickup to Arrival                Time in seconds between 'Pickup' and 'Arrival at Destination' - calculated from the columns for the purpose of facilitating the task                   \n",
              "NaN                                        NaN                                                                                                                                                    \n",
              "Rider Metrics                              NaN                                                                                                                                                    \n",
              "Rider Id                                   Unique number identifying the rider (same as in order details)                                                                                         \n",
              "No_Of_Orders                                Number of Orders the rider has delivered                                                                                                              \n",
              "Age                                        Number of days since the rider delivered the first order                                                                                               \n",
              "Average_Rating                             Average rating of the rider                                                                                                                            \n",
              "No_of_Ratings                               Number of ratings the rider has received. Rating an order is optional for the customer.                                                               "
            ]
          },
          "metadata": {
            "tags": []
          },
          "execution_count": 3
        }
      ]
    },
    {
      "cell_type": "code",
      "metadata": {
        "id": "YzMq0AnTf1uB",
        "colab_type": "code",
        "colab": {}
      },
      "source": [
        "pd.options.display.max_colwidth = 50"
      ],
      "execution_count": 0,
      "outputs": []
    },
    {
      "cell_type": "code",
      "metadata": {
        "id": "o4kH1WhVGotN",
        "colab_type": "code",
        "colab": {}
      },
      "source": [
        "def col_rename(df):\n",
        "  \"\"\"Function that renames columns and drops columns that \n",
        "  were not used in the test set\n",
        "  Parameters\n",
        "  ----------\n",
        "  df: DataFrame\n",
        "          input df to rename columns for\n",
        "  Returns\n",
        "  -------\n",
        "  new_df: DataFrame\n",
        "          output df with renamed and dropped columns\n",
        "          as well as a printout of dropped columns\n",
        "  \"\"\"\n",
        "  static_dict = {\"Order No\":\"Order No\",\"User Id\":\"User Id\",\"Vehicle Type\":\"Vehicle Type\",\"Platform Type\":\"Platform\",\n",
        "        \"Personal or Business\":\"Pers Business\",\"Placement - Day of Month\":\"Place DoM\",\n",
        "        \"Placement - Weekday (Mo = 1)\":\"Place Weekday\",\"Placement - Time\":\"Place Time\",\n",
        "        \"Confirmation - Day of Month\":\"Confirm DoM\",\"Confirmation - Weekday (Mo = 1)\":\"Confirm Weekday\",\n",
        "        \"Confirmation - Time\":\"Confirm Time\",\"Arrival at Pickup - Day of Month\":\"Arr Pickup DoM\",\n",
        "        \"Arrival at Pickup - Weekday (Mo = 1)\":\"Arr Pickup Weekday\",\"Arrival at Pickup - Time\":\"Arr Pickup Time\",\n",
        "        \"Pickup - Day of Month\":\"Pickup DoM\",\"Pickup - Weekday (Mo = 1)\":\"Pickup Weekday\",\"Pickup - Time\":\"Pickup Time\",\n",
        "        \"Distance (KM)\":\"Distance KM\",\"Temperature\":\"Temperature\",\"Precipitation in millimeters\":\"Precipitation mm\",\n",
        "        \"Pickup Lat\":\"Pickup Lat\",\"Pickup Long\":\"Pickup Long\",\"Destination Lat\":\"Destination Lat\",\"Time from Pickup to Arrival\":\"Time from Pickup to Arrival\",\n",
        "        \"Destination Long\":\"Destination Long\",\"Rider Id\":\"Rider Id\"}\n",
        "  new_df = df.copy()\n",
        "  new_cols = {}\n",
        "  droplist = []\n",
        "  for col in new_df.columns:\n",
        "    if col in static_dict.keys():\n",
        "      new_cols[col] = static_dict[col].replace(\" \",\"_\")\n",
        "    else:\n",
        "      droplist.append(col)\n",
        "  new_df.rename(columns = new_cols, inplace=True)\n",
        "  for col in droplist:\n",
        "    if col in new_df.index:\n",
        "      return new_df.drop(columns=droplist, inplace=True)\n",
        "  return new_df"
      ],
      "execution_count": 0,
      "outputs": []
    },
    {
      "cell_type": "code",
      "metadata": {
        "id": "9qBdKFL4KiZG",
        "colab_type": "code",
        "colab": {}
      },
      "source": [
        "atrain_df  = col_rename(train_df)\n",
        "atest_df =  col_rename(test_df)\n",
        "ariders_df = col_rename(riders_df)"
      ],
      "execution_count": 0,
      "outputs": []
    },
    {
      "cell_type": "code",
      "metadata": {
        "id": "sIz79vKhZXHy",
        "colab_type": "code",
        "colab": {
          "base_uri": "https://localhost:8080/",
          "height": 68
        },
        "outputId": "f771498e-c16d-425b-d824-56e324009c54"
      },
      "source": [
        "for col in atrain_df.columns:\n",
        "    if col not in atest_df.columns and col != 'Time_from_Pickup_to_Arrival':\n",
        "        print(col)\n",
        "        atrain_df.drop(columns=col, inplace = True)"
      ],
      "execution_count": 7,
      "outputs": [
        {
          "output_type": "stream",
          "text": [
            "Arrival at Destination - Day of Month\n",
            "Arrival at Destination - Weekday (Mo = 1)\n",
            "Arrival at Destination - Time\n"
          ],
          "name": "stdout"
        }
      ]
    },
    {
      "cell_type": "code",
      "metadata": {
        "id": "Zygc5FEeTAGZ",
        "colab_type": "code",
        "colab": {
          "base_uri": "https://localhost:8080/",
          "height": 51
        },
        "outputId": "24b79f22-1b13-4f2d-c259-9423bc117004"
      },
      "source": [
        "# Storing variable names and test index\n",
        "train_columns = atrain_df.columns\n",
        "test_columns = atest_df.columns\n",
        "riders_columns = ariders_df.columns\n",
        "test_index = atest_df.index\n",
        "target = train_columns[-1]\n",
        "\n",
        "# Inspect data\n",
        "print(train_df.shape, test_df.shape, riders_df.shape)\n",
        "train_df.head(3)\n",
        "print(target)"
      ],
      "execution_count": 8,
      "outputs": [
        {
          "output_type": "stream",
          "text": [
            "(21201, 28) (7068, 24) (960, 5)\n",
            "Time_from_Pickup_to_Arrival\n"
          ],
          "name": "stdout"
        }
      ]
    },
    {
      "cell_type": "code",
      "metadata": {
        "id": "3RSLVgu9Zs_M",
        "colab_type": "code",
        "colab": {}
      },
      "source": [
        ""
      ],
      "execution_count": 0,
      "outputs": []
    },
    {
      "cell_type": "markdown",
      "metadata": {
        "id": "dsAYGVL6gf0l",
        "colab_type": "text"
      },
      "source": [
        "## 4. Data cleaning and preprocessing (BBP)"
      ]
    },
    {
      "cell_type": "code",
      "metadata": {
        "id": "S4NfA0gvgnza",
        "colab_type": "code",
        "outputId": "adc61e94-8e57-4270-c362-e5d190da4002",
        "colab": {
          "base_uri": "https://localhost:8080/",
          "height": 629
        }
      },
      "source": [
        "pd.merge(atrain_df, ariders_df, how='left', on='Rider_Id').info()"
      ],
      "execution_count": 9,
      "outputs": [
        {
          "output_type": "stream",
          "text": [
            "<class 'pandas.core.frame.DataFrame'>\n",
            "Int64Index: 21201 entries, 0 to 21200\n",
            "Data columns (total 29 columns):\n",
            " #   Column                       Non-Null Count  Dtype  \n",
            "---  ------                       --------------  -----  \n",
            " 0   User_Id                      21201 non-null  object \n",
            " 1   Vehicle_Type                 21201 non-null  object \n",
            " 2   Platform                     21201 non-null  int64  \n",
            " 3   Pers_Business                21201 non-null  object \n",
            " 4   Place_DoM                    21201 non-null  int64  \n",
            " 5   Place_Weekday                21201 non-null  int64  \n",
            " 6   Place_Time                   21201 non-null  object \n",
            " 7   Confirm_DoM                  21201 non-null  int64  \n",
            " 8   Confirm_Weekday              21201 non-null  int64  \n",
            " 9   Confirm_Time                 21201 non-null  object \n",
            " 10  Arr_Pickup_DoM               21201 non-null  int64  \n",
            " 11  Arr_Pickup_Weekday           21201 non-null  int64  \n",
            " 12  Arr_Pickup_Time              21201 non-null  object \n",
            " 13  Pickup_DoM                   21201 non-null  int64  \n",
            " 14  Pickup_Weekday               21201 non-null  int64  \n",
            " 15  Pickup_Time                  21201 non-null  object \n",
            " 16  Distance_KM                  21201 non-null  int64  \n",
            " 17  Temperature                  16835 non-null  float64\n",
            " 18  Precipitation_mm             552 non-null    float64\n",
            " 19  Pickup_Lat                   21201 non-null  float64\n",
            " 20  Pickup_Long                  21201 non-null  float64\n",
            " 21  Destination_Lat              21201 non-null  float64\n",
            " 22  Destination_Long             21201 non-null  float64\n",
            " 23  Rider_Id                     21201 non-null  object \n",
            " 24  Time_from_Pickup_to_Arrival  21201 non-null  int64  \n",
            " 25  No_Of_Orders                 21201 non-null  int64  \n",
            " 26  Age                          21201 non-null  int64  \n",
            " 27  Average_Rating               21201 non-null  float64\n",
            " 28  No_of_Ratings                21201 non-null  int64  \n",
            "dtypes: float64(7), int64(14), object(8)\n",
            "memory usage: 4.9+ MB\n"
          ],
          "name": "stdout"
        }
      ]
    },
    {
      "cell_type": "markdown",
      "metadata": {
        "id": "ebiohcLYg107",
        "colab_type": "text"
      },
      "source": [
        "### a. Data types"
      ]
    },
    {
      "cell_type": "markdown",
      "metadata": {
        "id": "MBHPWVZyk_zq",
        "colab_type": "text"
      },
      "source": [
        "**Numerical**\n",
        "- Ratio\n",
        "  - *Number of Orders*\n",
        "  - *Age*\n",
        "  - *Number of Ratings*\n",
        "  - *Time from pickup to arrival* - Target\n",
        "  - *Geospatial Distance*`\n",
        "- Interval\n",
        "  - *Time (Placement, Confimation, Arrival, etc)* \n",
        "  - *Distance (KM)*\n",
        "  - *Temperature*\n",
        "  - *Precipitation*\n",
        "  - *Co-ordinates*\n",
        "\n",
        "**Categorical**\n",
        "- Nominal\n",
        "  - *User Id*\n",
        "    - This is categorical as it only varies in the user that has\\\n",
        "      placed the order.\n",
        "    - It may be possible to determine the frequency of orders\\\n",
        "      placed by customers and determine their loyalty. This may\\\n",
        "      reflect a drivers motivation to provide higher quality\\\n",
        "      service to that user.\n",
        "  - *Vehicle Type*\n",
        "    - The type of vehicle used would ordinarily have an impact on\\\n",
        "      delivery time as a motorcycle would be faster than a truck.\n",
        "    - Since there is only one vehicle type to consider (bike)\\\n",
        "      there is no value to be gained from this data\n",
        "  - *Platform Type*\n",
        "    - The source of order placement is qualitative and may give\\\n",
        "      information about the level of service delivery for the\\\n",
        "      various platforms. More frequently used platforms may be\\\n",
        "      serviced better by drivers as they may provide a steady\\\n",
        "      stream of customers.\n",
        "    - The platform can only take on the values from 1 to 4 and\\\n",
        "      should be stored as an `int16`\n",
        "  - *Personal or Business*\n",
        "    - Business orders are likely to be frequent and and located\\\n",
        "      near central business district, whereas personal orders\\\n",
        "      may require further travel to suburban areas. This could\\\n",
        "      have an effect on the travel time.\n",
        "  - *Day of month (Placement, Confimation, Arrival, etc)*\n",
        "    - The day of month can only vary in its quality. There may\\\n",
        "      more or less orders placed on a given day of the month.\\\n",
        "    - Since the values of day of month can take on values between\\\n",
        "      1 and 31 it would be most effecient to store it as an `int16`\\\n",
        "      instead of `int64` which is for larger numbers.\n",
        "    - It may be that more orders are placed on certain days that\\\n",
        "      would result in longer delivery times.    \n",
        "  - *Weekday*\n",
        "    - Businesses typically operate on weekdays. It would logically\\\n",
        "      follow that weekdays are busier than weekends resulting in\\\n",
        "      longer delivery times due  to traffic or the volume of\\\n",
        "      orders.\n",
        "    - Since the weekday is represented by 1 to 7, it should be\\\n",
        "      stored as an `int16`\n",
        "    - *Rider Id*\n",
        "\n",
        "- Ordinal\n",
        "  - *Average rating*\n",
        "    - Drivers are usually rated on a scale from one to 5. As a driver\\\n",
        "      recieves more ratings, the will begin to settle around their\\\n",
        "      true score. This score could reflect the driver's performance\\\n",
        "      with respect to timeliness."
      ]
    },
    {
      "cell_type": "markdown",
      "metadata": {
        "id": "P5Op6JNbArOn",
        "colab_type": "text"
      },
      "source": [
        "### b. Cleaning functions"
      ]
    },
    {
      "cell_type": "code",
      "metadata": {
        "id": "BNpmt19EYwGM",
        "colab_type": "code",
        "colab": {}
      },
      "source": [
        "def data_preprocessing(df):\n",
        "  \"\"\"Function that preprocesses data used for predictions and testing\n",
        "  Parameters\n",
        "  ----------\n",
        "  df: DataFrame\n",
        "          DataFrame to preprocess.\n",
        "  Returns\n",
        "  -------\n",
        "  df: DataFrame\n",
        "          Preprocessed DataFrame\n",
        "\n",
        "  \"\"\"\n",
        "  cdf = df.copy()\n",
        "  old = cdf.memory_usage().sum()\n",
        "  # Create lists of columns to change\n",
        "  integers = [col for col in cdf.columns if cdf[col].dtypes == 'int64']\n",
        "  floats = [col for col in cdf.columns if cdf[col].dtypes == 'float64']\n",
        "  time_cols = [col for col in cdf.columns if col.endswith(\"Time\")]\n",
        "\n",
        "  # Reduce size of data storage types\n",
        "  cdf[integers] = cdf[integers].astype('int16')\n",
        "  cdf[floats] = cdf[floats].astype('float16')\n",
        "  for col in time_cols:\n",
        "    cdf[col] = pd.to_datetime(cdf[col]).dt.time\n",
        "  \n",
        "  # Correcting specific columns\n",
        "  if 'Distance (KM)' in cdf.columns:\n",
        "    cdf['Distance (KM)'] = cdf['Distance (KM)'].astype('float16') \n",
        "\n",
        "  new = cdf.memory_usage().sum()\n",
        "  print(\"Bytes\\t\",\"\\nOld:\\t\", str(old), \"\\nNew:\\t\", \"(\"+str(new)+\")\", \"\\nSaved:\\t\", str(old - new))\n",
        "  return cdf"
      ],
      "execution_count": 0,
      "outputs": []
    },
    {
      "cell_type": "code",
      "metadata": {
        "id": "cd6EF4eazKzB",
        "colab_type": "code",
        "colab": {}
      },
      "source": [
        "%%capture [--no-display]\n",
        "# Store transformations in EDA DataFrame\n",
        "eda_df, eda_test, eda_riders = data_preprocessing(atrain_df), data_preprocessing(atest_df), data_preprocessing(ariders_df)"
      ],
      "execution_count": 0,
      "outputs": []
    },
    {
      "cell_type": "markdown",
      "metadata": {
        "id": "bjIOpRPArj63",
        "colab_type": "text"
      },
      "source": [
        "## 5. Data Exploration and preparation"
      ]
    },
    {
      "cell_type": "markdown",
      "metadata": {
        "id": "EvKxCBEZ40F0",
        "colab_type": "text"
      },
      "source": [
        "### a. Exploratory data analysis\n"
      ]
    },
    {
      "cell_type": "markdown",
      "metadata": {
        "id": "Y-Z4j7DAvCHA",
        "colab_type": "text"
      },
      "source": [
        "#### 1. Target - Time from Pickup to Arrival"
      ]
    },
    {
      "cell_type": "code",
      "metadata": {
        "id": "brB30PHpvYS5",
        "colab_type": "code",
        "outputId": "b2d52391-f15c-43b6-e19a-ddef10f44a91",
        "colab": {
          "base_uri": "https://localhost:8080/",
          "height": 34
        }
      },
      "source": [
        "# Confirming the caluclation of the Target\n",
        "\n",
        "Target = pd.to_datetime(train_df['Arrival at Destination - Time']) - pd.to_datetime(train_df['Pickup - Time'])\n",
        "list(Target.dt.seconds[:]) == list(atrain_df[target][:])"
      ],
      "execution_count": 12,
      "outputs": [
        {
          "output_type": "execute_result",
          "data": {
            "text/plain": [
              "True"
            ]
          },
          "metadata": {
            "tags": []
          },
          "execution_count": 12
        }
      ]
    },
    {
      "cell_type": "code",
      "metadata": {
        "id": "NV_QVGhm5BLD",
        "colab_type": "code",
        "outputId": "df9ccafb-d186-45af-8fa3-cd42a25d5a63",
        "colab": {
          "base_uri": "https://localhost:8080/",
          "height": 170
        }
      },
      "source": [
        "eda_df[target].describe()"
      ],
      "execution_count": 13,
      "outputs": [
        {
          "output_type": "execute_result",
          "data": {
            "text/plain": [
              "count    21201.000000\n",
              "mean      1556.920947\n",
              "std        987.270788\n",
              "min          1.000000\n",
              "25%        882.000000\n",
              "50%       1369.000000\n",
              "75%       2040.000000\n",
              "max       7883.000000\n",
              "Name: Time_from_Pickup_to_Arrival, dtype: float64"
            ]
          },
          "metadata": {
            "tags": []
          },
          "execution_count": 13
        }
      ]
    },
    {
      "cell_type": "code",
      "metadata": {
        "id": "_Ha9Rp4Hy1Pq",
        "colab_type": "code",
        "outputId": "22763890-061f-4aa4-eb4e-4c0814906a2e",
        "colab": {
          "base_uri": "https://localhost:8080/",
          "height": 323
        }
      },
      "source": [
        "# Histogram\n",
        "fig = plt.figure(figsize=(12,4))\n",
        "sns.violinplot(eda_df[target]/60)\n",
        "plt.title('Distribution of Delivery times (target)\\n')\n",
        "plt.xlabel('\\n'+target+' in minutes')\n",
        "plt.ylabel(\"Probability\")\n",
        "plt.show()"
      ],
      "execution_count": 14,
      "outputs": [
        {
          "output_type": "display_data",
          "data": {
            "image/png": "[encoded data removed]",
            "text/plain": [
              "<Figure size 864x288 with 1 Axes>"
            ]
          },
          "metadata": {
            "tags": [],
            "needs_background": "light"
          }
        }
      ]
    },
    {
      "cell_type": "markdown",
      "metadata": {
        "id": "T3QVEaFi-ems",
        "colab_type": "text"
      },
      "source": [
        "#### 2. Univariate analysis (D)"
      ]
    },
    {
      "cell_type": "markdown",
      "metadata": {
        "id": "TuNV19PkhRKL",
        "colab_type": "text"
      },
      "source": [
        "2.1 Numerical"
      ]
    },
    {
      "cell_type": "code",
      "metadata": {
        "id": "0kh34pzciW3M",
        "colab_type": "code",
        "outputId": "917314c1-2d27-40af-8127-0bf23f44b5d6",
        "colab": {
          "base_uri": "https://localhost:8080/",
          "height": 317
        }
      },
      "source": [
        "#Analysing the features based on one variable type\n",
        "col_numerical = [col for col in eda_df.columns if eda_df[col].dtypes != 'object' and col !=target]\n",
        "eda_df[col_numerical].describe()"
      ],
      "execution_count": 15,
      "outputs": [
        {
          "output_type": "execute_result",
          "data": {
            "text/html": [
              "<div>\n",
              "<style scoped>\n",
              "    .dataframe tbody tr th:only-of-type {\n",
              "        vertical-align: middle;\n",
              "    }\n",
              "\n",
              "    .dataframe tbody tr th {\n",
              "        vertical-align: top;\n",
              "    }\n",
              "\n",
              "    .dataframe thead th {\n",
              "        text-align: right;\n",
              "    }\n",
              "</style>\n",
              "<table border=\"1\" class=\"dataframe\">\n",
              "  <thead>\n",
              "    <tr style=\"text-align: right;\">\n",
              "      <th></th>\n",
              "      <th>Platform</th>\n",
              "      <th>Place_DoM</th>\n",
              "      <th>Place_Weekday</th>\n",
              "      <th>Confirm_DoM</th>\n",
              "      <th>Confirm_Weekday</th>\n",
              "      <th>Arr_Pickup_DoM</th>\n",
              "      <th>Arr_Pickup_Weekday</th>\n",
              "      <th>Pickup_DoM</th>\n",
              "      <th>Pickup_Weekday</th>\n",
              "      <th>Distance_KM</th>\n",
              "      <th>Temperature</th>\n",
              "      <th>Precipitation_mm</th>\n",
              "      <th>Pickup_Lat</th>\n",
              "      <th>Pickup_Long</th>\n",
              "      <th>Destination_Lat</th>\n",
              "      <th>Destination_Long</th>\n",
              "    </tr>\n",
              "  </thead>\n",
              "  <tbody>\n",
              "    <tr>\n",
              "      <th>count</th>\n",
              "      <td>21201.000000</td>\n",
              "      <td>21201.000000</td>\n",
              "      <td>21201.000000</td>\n",
              "      <td>21201.000000</td>\n",
              "      <td>21201.000000</td>\n",
              "      <td>21201.000000</td>\n",
              "      <td>21201.000000</td>\n",
              "      <td>21201.000000</td>\n",
              "      <td>21201.000000</td>\n",
              "      <td>21201.000000</td>\n",
              "      <td>1.683500e+04</td>\n",
              "      <td>552.000000</td>\n",
              "      <td>21201.000000</td>\n",
              "      <td>2.120100e+04</td>\n",
              "      <td>21201.000000</td>\n",
              "      <td>2.120100e+04</td>\n",
              "    </tr>\n",
              "    <tr>\n",
              "      <th>mean</th>\n",
              "      <td>2.752182</td>\n",
              "      <td>15.653696</td>\n",
              "      <td>3.240083</td>\n",
              "      <td>15.653837</td>\n",
              "      <td>3.240225</td>\n",
              "      <td>15.653837</td>\n",
              "      <td>3.240225</td>\n",
              "      <td>15.653837</td>\n",
              "      <td>3.240225</td>\n",
              "      <td>9.506533</td>\n",
              "      <td>inf</td>\n",
              "      <td>7.906250</td>\n",
              "      <td>-1.281250</td>\n",
              "      <td>inf</td>\n",
              "      <td>-1.282227</td>\n",
              "      <td>inf</td>\n",
              "    </tr>\n",
              "    <tr>\n",
              "      <th>std</th>\n",
              "      <td>0.625178</td>\n",
              "      <td>8.798916</td>\n",
              "      <td>1.567295</td>\n",
              "      <td>8.798886</td>\n",
              "      <td>1.567228</td>\n",
              "      <td>8.798886</td>\n",
              "      <td>1.567228</td>\n",
              "      <td>8.798886</td>\n",
              "      <td>1.567228</td>\n",
              "      <td>5.668963</td>\n",
              "      <td>3.617188e+00</td>\n",
              "      <td>17.093750</td>\n",
              "      <td>0.030548</td>\n",
              "      <td>3.918457e-02</td>\n",
              "      <td>0.034851</td>\n",
              "      <td>4.562378e-02</td>\n",
              "    </tr>\n",
              "    <tr>\n",
              "      <th>min</th>\n",
              "      <td>1.000000</td>\n",
              "      <td>1.000000</td>\n",
              "      <td>1.000000</td>\n",
              "      <td>1.000000</td>\n",
              "      <td>1.000000</td>\n",
              "      <td>1.000000</td>\n",
              "      <td>1.000000</td>\n",
              "      <td>1.000000</td>\n",
              "      <td>1.000000</td>\n",
              "      <td>1.000000</td>\n",
              "      <td>1.120312e+01</td>\n",
              "      <td>0.099976</td>\n",
              "      <td>-1.438477</td>\n",
              "      <td>3.665625e+01</td>\n",
              "      <td>-1.430664</td>\n",
              "      <td>3.659375e+01</td>\n",
              "    </tr>\n",
              "    <tr>\n",
              "      <th>25%</th>\n",
              "      <td>3.000000</td>\n",
              "      <td>8.000000</td>\n",
              "      <td>2.000000</td>\n",
              "      <td>8.000000</td>\n",
              "      <td>2.000000</td>\n",
              "      <td>8.000000</td>\n",
              "      <td>2.000000</td>\n",
              "      <td>8.000000</td>\n",
              "      <td>2.000000</td>\n",
              "      <td>5.000000</td>\n",
              "      <td>2.059375e+01</td>\n",
              "      <td>1.074219</td>\n",
              "      <td>-1.300781</td>\n",
              "      <td>3.678125e+01</td>\n",
              "      <td>-1.300781</td>\n",
              "      <td>3.678125e+01</td>\n",
              "    </tr>\n",
              "    <tr>\n",
              "      <th>50%</th>\n",
              "      <td>3.000000</td>\n",
              "      <td>15.000000</td>\n",
              "      <td>3.000000</td>\n",
              "      <td>15.000000</td>\n",
              "      <td>3.000000</td>\n",
              "      <td>15.000000</td>\n",
              "      <td>3.000000</td>\n",
              "      <td>15.000000</td>\n",
              "      <td>3.000000</td>\n",
              "      <td>8.000000</td>\n",
              "      <td>2.350000e+01</td>\n",
              "      <td>2.900391</td>\n",
              "      <td>-1.279297</td>\n",
              "      <td>3.681250e+01</td>\n",
              "      <td>-1.284180</td>\n",
              "      <td>3.681250e+01</td>\n",
              "    </tr>\n",
              "    <tr>\n",
              "      <th>75%</th>\n",
              "      <td>3.000000</td>\n",
              "      <td>23.000000</td>\n",
              "      <td>5.000000</td>\n",
              "      <td>23.000000</td>\n",
              "      <td>5.000000</td>\n",
              "      <td>23.000000</td>\n",
              "      <td>5.000000</td>\n",
              "      <td>23.000000</td>\n",
              "      <td>5.000000</td>\n",
              "      <td>13.000000</td>\n",
              "      <td>2.600000e+01</td>\n",
              "      <td>4.898438</td>\n",
              "      <td>-1.256836</td>\n",
              "      <td>3.684375e+01</td>\n",
              "      <td>-1.260742</td>\n",
              "      <td>3.684375e+01</td>\n",
              "    </tr>\n",
              "    <tr>\n",
              "      <th>max</th>\n",
              "      <td>4.000000</td>\n",
              "      <td>31.000000</td>\n",
              "      <td>7.000000</td>\n",
              "      <td>31.000000</td>\n",
              "      <td>7.000000</td>\n",
              "      <td>31.000000</td>\n",
              "      <td>7.000000</td>\n",
              "      <td>31.000000</td>\n",
              "      <td>7.000000</td>\n",
              "      <td>49.000000</td>\n",
              "      <td>3.209375e+01</td>\n",
              "      <td>99.125000</td>\n",
              "      <td>-1.147461</td>\n",
              "      <td>3.700000e+01</td>\n",
              "      <td>-1.030273</td>\n",
              "      <td>3.703125e+01</td>\n",
              "    </tr>\n",
              "  </tbody>\n",
              "</table>\n",
              "</div>"
            ],
            "text/plain": [
              "           Platform     Place_DoM  Place_Weekday   Confirm_DoM  \\\n",
              "count  21201.000000  21201.000000   21201.000000  21201.000000   \n",
              "mean       2.752182     15.653696       3.240083     15.653837   \n",
              "std        0.625178      8.798916       1.567295      8.798886   \n",
              "min        1.000000      1.000000       1.000000      1.000000   \n",
              "25%        3.000000      8.000000       2.000000      8.000000   \n",
              "50%        3.000000     15.000000       3.000000     15.000000   \n",
              "75%        3.000000     23.000000       5.000000     23.000000   \n",
              "max        4.000000     31.000000       7.000000     31.000000   \n",
              "\n",
              "       Confirm_Weekday  Arr_Pickup_DoM  Arr_Pickup_Weekday    Pickup_DoM  \\\n",
              "count     21201.000000    21201.000000        21201.000000  21201.000000   \n",
              "mean          3.240225       15.653837            3.240225     15.653837   \n",
              "std           1.567228        8.798886            1.567228      8.798886   \n",
              "min           1.000000        1.000000            1.000000      1.000000   \n",
              "25%           2.000000        8.000000            2.000000      8.000000   \n",
              "50%           3.000000       15.000000            3.000000     15.000000   \n",
              "75%           5.000000       23.000000            5.000000     23.000000   \n",
              "max           7.000000       31.000000            7.000000     31.000000   \n",
              "\n",
              "       Pickup_Weekday   Distance_KM   Temperature  Precipitation_mm  \\\n",
              "count    21201.000000  21201.000000  1.683500e+04        552.000000   \n",
              "mean         3.240225      9.506533           inf          7.906250   \n",
              "std          1.567228      5.668963  3.617188e+00         17.093750   \n",
              "min          1.000000      1.000000  1.120312e+01          0.099976   \n",
              "25%          2.000000      5.000000  2.059375e+01          1.074219   \n",
              "50%          3.000000      8.000000  2.350000e+01          2.900391   \n",
              "75%          5.000000     13.000000  2.600000e+01          4.898438   \n",
              "max          7.000000     49.000000  3.209375e+01         99.125000   \n",
              "\n",
              "         Pickup_Lat   Pickup_Long  Destination_Lat  Destination_Long  \n",
              "count  21201.000000  2.120100e+04     21201.000000      2.120100e+04  \n",
              "mean      -1.281250           inf        -1.282227               inf  \n",
              "std        0.030548  3.918457e-02         0.034851      4.562378e-02  \n",
              "min       -1.438477  3.665625e+01        -1.430664      3.659375e+01  \n",
              "25%       -1.300781  3.678125e+01        -1.300781      3.678125e+01  \n",
              "50%       -1.279297  3.681250e+01        -1.284180      3.681250e+01  \n",
              "75%       -1.256836  3.684375e+01        -1.260742      3.684375e+01  \n",
              "max       -1.147461  3.700000e+01        -1.030273      3.703125e+01  "
            ]
          },
          "metadata": {
            "tags": []
          },
          "execution_count": 15
        }
      ]
    },
    {
      "cell_type": "code",
      "metadata": {
        "id": "DWJXKDYf6zPe",
        "colab_type": "code",
        "outputId": "cb515ec3-eabb-42af-8449-150e5c4708bd",
        "colab": {
          "base_uri": "https://localhost:8080/",
          "height": 1000
        }
      },
      "source": [
        "#Plot histogram of numerical values\n",
        "def histogram_plot(df,cols,bins = 10):\n",
        "\n",
        "  \"\"\"Function creates histogram of all numerical columns\n",
        "  Parameters\n",
        "  ----------\n",
        "  df: DataFrame\n",
        "          DataFrame to preprocess.\n",
        "  cols: list\n",
        "          list of numerical columns or object columns\n",
        "  bins: string\n",
        "          number of bins you want histogram to create\n",
        "  Returns\n",
        "  -------\n",
        "  {Plot}: Returns plot of column histograms for analysis\n",
        "          \n",
        "  \"\"\"\n",
        "  df[cols].hist(bins = bins, figsize  = (20,20))\n",
        "  return plt.show()\n",
        "histogram_plot(eda_df,col_numerical,30)"
      ],
      "execution_count": 16,
      "outputs": [
        {
          "output_type": "display_data",
          "data": {
            "image/png": "[encoded data removed]",
            "text/plain": [
              "<Figure size 1440x1440 with 16 Axes>"
            ]
          },
          "metadata": {
            "tags": [],
            "needs_background": "light"
          }
        }
      ]
    },
    {
      "cell_type": "code",
      "metadata": {
        "id": "Q7fpkzRJ-DpP",
        "colab_type": "code",
        "outputId": "64defac0-9b31-4afd-80f9-917bd75005be",
        "colab": {
          "base_uri": "https://localhost:8080/",
          "height": 729
        }
      },
      "source": [
        "#Plot Boxplot of graphs\n",
        "def box_plot(df,cols):\n",
        "  \"\"\"Function creates histogram of all numerical columns\n",
        "  Parameters\n",
        "  ----------\n",
        "  df: DataFrame\n",
        "          DataFrame to preprocess.\n",
        "  cols: list\n",
        "          list of numerical columns\n",
        "  Returns\n",
        "  -------\n",
        "  {Plot}: Returns plot of boxplot for dataframe\n",
        "          \n",
        "  \"\"\"\n",
        "  plt.figure(figsize=(22,10))\n",
        "  ax = sns.boxplot(data = df[cols])\n",
        "  ax.set_xticklabels(ax.get_xticklabels(), rotation=40, ha=\"right\")\n",
        "  plt.tight_layout()\n",
        "  return plt.show()\n",
        "box_plot(eda_df,col_numerical)"
      ],
      "execution_count": 17,
      "outputs": [
        {
          "output_type": "display_data",
          "data": {
            "image/png": "[encoded data removed]",
            "text/plain": [
              "<Figure size 1584x720 with 1 Axes>"
            ]
          },
          "metadata": {
            "tags": [],
            "needs_background": "light"
          }
        }
      ]
    },
    {
      "cell_type": "markdown",
      "metadata": {
        "id": "Rd1_jPhzp4Qm",
        "colab_type": "text"
      },
      "source": [
        "**Analysis:** **Histogram**\n",
        "\n",
        "From the individual numerical data plots, You can see that all the weekday varaibles follow uniform distribution except for Saturday and Sunday. Those appear to be very low compared to deliveries in the week.  \n",
        "\n",
        "All data for days of the month follow a multimodal distribution and the peaks vary throughout the month, but day 30 seems to have an exceedingly high peak compared to the rest of the days. \n",
        "\n",
        "Destination lat and long show normal distribution with most of the deliveries going to approximately (-1.28,36.85)\n",
        "\n",
        "Pickup lat follows a normal distribution with a peak of (-1.27) and Pickup long shows a skewed left distribution which means most of the observations are happening around coordinate (36.9). Approximately between these two coordinates seem to be where most of the pickups happen.\n",
        "\n",
        "The platform type distribution is left skewed showing that most of the deliveries by a substantial amount happen on platform 3. \n",
        "\n",
        "Temperature follows a normal distribution with the peak being 23.5. Distance and precipitation show a skewed right distribution with most of the kilometres ranging between 0-15km and most precipitation ranging from 0-5mm of rain.\n",
        "\n",
        "**Analysis:** **Boxplot**\n",
        "\n",
        "From looking at the box plot, all numerical values range differently from the plot above therefore might have to do some standardisation/normalisation for the models that depend on scaling for accuracy, the GPS range is very small since a changing the decimal coordinates slightly takes you to a new area. The distance and precipitation show outliers that may affect our results so we need to pay close attention to these two variables.\n",
        "\n"
      ]
    },
    {
      "cell_type": "markdown",
      "metadata": {
        "id": "RQSfzuBxpkZo",
        "colab_type": "text"
      },
      "source": [
        "2.2 Objects"
      ]
    },
    {
      "cell_type": "code",
      "metadata": {
        "id": "Q5Ub-MJCptVP",
        "colab_type": "code",
        "outputId": "45010d21-5ef9-44ae-d592-c611d65aaf7e",
        "colab": {
          "base_uri": "https://localhost:8080/",
          "height": 317
        }
      },
      "source": [
        "# Number of orders of personal or business\n",
        "eda_df['Pers_Business'].value_counts().plot(kind='bar')"
      ],
      "execution_count": 18,
      "outputs": [
        {
          "output_type": "execute_result",
          "data": {
            "text/plain": [
              "<matplotlib.axes._subplots.AxesSubplot at 0x7faf984e6550>"
            ]
          },
          "metadata": {
            "tags": []
          },
          "execution_count": 18
        },
        {
          "output_type": "display_data",
          "data": {
            "image/png": "[encoded data removed]",
            "text/plain": [
              "<Figure size 432x288 with 1 Axes>"
            ]
          },
          "metadata": {
            "tags": [],
            "needs_background": "light"
          }
        }
      ]
    },
    {
      "cell_type": "markdown",
      "metadata": {
        "id": "IqR9NDxjS-Bg",
        "colab_type": "text"
      },
      "source": [
        "**Analysis on histogram plot for object type**\n",
        "\n",
        "From looking at the results, it shows that mainly businesses used their delivery platforms to order."
      ]
    },
    {
      "cell_type": "markdown",
      "metadata": {
        "id": "0b_3FhKPu8_X",
        "colab_type": "text"
      },
      "source": [
        "#### 3. Bivariate analysis (AB)"
      ]
    },
    {
      "cell_type": "code",
      "metadata": {
        "id": "aLjxQ4xgUh_C",
        "colab_type": "code",
        "outputId": "b52e7ee3-4859-41d2-e862-e17486219703",
        "colab": {
          "base_uri": "https://localhost:8080/",
          "height": 873
        }
      },
      "source": [
        "corr= eda_df.drop(target, axis='columns').corr()\n",
        "from statsmodels.graphics.correlation import plot_corr\n",
        "\n",
        "fig = plt.figure(figsize=(12,12));\n",
        "ax = fig.add_subplot(111);\n",
        "plot_corr(corr, xnames = corr.columns, ax = ax);"
      ],
      "execution_count": 19,
      "outputs": [
        {
          "output_type": "display_data",
          "data": {
            "image/png": "[encoded data removed]",
            "text/plain": [
              "<Figure size 864x864 with 1 Axes>"
            ]
          },
          "metadata": {
            "tags": [],
            "needs_background": "light"
          }
        }
      ]
    },
    {
      "cell_type": "markdown",
      "metadata": {
        "id": "_ePtIGsmdNC0",
        "colab_type": "text"
      },
      "source": [
        "From the above correlation matrix some features are strongly postively and negatively correlated, suggesting that these features may lead to an increased standard error as well as a difficulty to determine the effect of any one predictor variable on the response variable. This could lead to the removal of some if not all of these features."
      ]
    },
    {
      "cell_type": "markdown",
      "metadata": {
        "id": "BtyUrLZDNIQB",
        "colab_type": "text"
      },
      "source": [
        "#### 4. Remove Collinearity\n"
      ]
    },
    {
      "cell_type": "code",
      "metadata": {
        "id": "4XvLoVEyiwrT",
        "colab_type": "code",
        "colab": {}
      },
      "source": [
        "def collinear(df):\n",
        "  \"\"\"Function that drops chosen columns\n",
        "  Parameters\n",
        "  ----------\n",
        "  df: DataFrame\n",
        "          DataFrame to drop columns from\n",
        "  cols: list-like\n",
        "          Names of columns to be dropped from\n",
        "  Returns\n",
        "  -------\n",
        "  col_df: DataFrame\n",
        "          Modified DataFrame\n",
        "  \"\"\"\n",
        "  col_df = df.copy()\n",
        "  droplist = ['Place_DoM', 'Place_Weekday',\n",
        "              'Place_Time', 'Confirm_DoM', \n",
        "              'Confirm_Weekday', 'Confirm_Time',\n",
        "              'Arr_Pickup_DoM', 'Arr_Pickup_Weekday',\n",
        "              'Arr_Pickup_Time']\n",
        "  if droplist[0] in col_df.columns:\n",
        "    col_df = col_df.drop(columns=droplist)\n",
        "  \n",
        "  return col_df\n"
      ],
      "execution_count": 0,
      "outputs": []
    },
    {
      "cell_type": "code",
      "metadata": {
        "id": "dnQsqmmlqVi7",
        "colab_type": "code",
        "colab": {}
      },
      "source": [
        "btrain = collinear(eda_df)\n",
        "btest = collinear(eda_test)\n",
        "briders = collinear(eda_riders) "
      ],
      "execution_count": 0,
      "outputs": []
    },
    {
      "cell_type": "markdown",
      "metadata": {
        "id": "LvlASK7niu8b",
        "colab_type": "text"
      },
      "source": [
        "6. Missing values treatment (HELPER FUNCTIONS)"
      ]
    },
    {
      "cell_type": "code",
      "metadata": {
        "id": "mtQ-ZtwJyflt",
        "colab_type": "code",
        "colab": {}
      },
      "source": [
        "def null(df, na_thresh = 1.0 , strategy = \"median\"):\n",
        "  \"\"\"Function that drops columns with more than na_thresh null from\n",
        "  \n",
        "  \"\"\"\n",
        "  no_null=df.copy()\n",
        "  # Dropping NaN's\n",
        "  for col in no_null.columns:\n",
        "    missing = no_null[col].isnull().sum()/len(no_null)\n",
        "    if missing > na_thresh:\n",
        "      no_null.drop(columns=col, inplace=True)\n",
        "    \n",
        "  # Filling NaN's\n",
        "  for col in no_null.columns:\n",
        "    if no_null[col].isnull().sum() > 0:\n",
        "      if no_null[col].dtypes == 'object':\n",
        "        no_null[col].fillna(no_null[col].mode(), inplace=True) \n",
        "      elif strategy == 'mean':\n",
        "        no_null[col].fillna(round(no_null[col].mean()), inplace=True)\n",
        "      elif strategy == 'median':\n",
        "        no_null[col].fillna(round(no_null[col].median()), inplace=True)\n",
        "      elif strategy == 'rolling':\n",
        "        no_null[col].fillna(no_null[col].rolling(7).mean(), inplace=True)\n",
        "      else:\n",
        "        raise ValueError\n",
        "  return no_null"
      ],
      "execution_count": 0,
      "outputs": []
    },
    {
      "cell_type": "code",
      "metadata": {
        "id": "EFxEX5xngktb",
        "colab_type": "code",
        "colab": {}
      },
      "source": [
        "ctrain = null(btrain)\n",
        "ctest = null(btest)\n",
        "criders = null(briders)"
      ],
      "execution_count": 0,
      "outputs": []
    },
    {
      "cell_type": "markdown",
      "metadata": {
        "id": "M6d9e3j1rqTI",
        "colab_type": "text"
      },
      "source": [
        "b. Feature engineering and selection (B)\n"
      ]
    },
    {
      "cell_type": "markdown",
      "metadata": {
        "id": "2SfhOdovuiCo",
        "colab_type": "text"
      },
      "source": [
        "1. Variable transformation"
      ]
    },
    {
      "cell_type": "code",
      "metadata": {
        "id": "0WmDnwVOFspz",
        "colab_type": "code",
        "colab": {
          "base_uri": "https://localhost:8080/",
          "height": 476
        },
        "outputId": "7ab65dfe-3c48-4582-b48f-9b646201261e"
      },
      "source": [
        "pd.merge(ctrain, criders, how='left', on='Rider_Id').info()"
      ],
      "execution_count": 26,
      "outputs": [
        {
          "output_type": "stream",
          "text": [
            "<class 'pandas.core.frame.DataFrame'>\n",
            "Int64Index: 21201 entries, 0 to 21200\n",
            "Data columns (total 20 columns):\n",
            " #   Column                       Non-Null Count  Dtype  \n",
            "---  ------                       --------------  -----  \n",
            " 0   User_Id                      21201 non-null  object \n",
            " 1   Vehicle_Type                 21201 non-null  object \n",
            " 2   Platform                     21201 non-null  int16  \n",
            " 3   Pers_Business                21201 non-null  object \n",
            " 4   Pickup_DoM                   21201 non-null  int16  \n",
            " 5   Pickup_Weekday               21201 non-null  int16  \n",
            " 6   Pickup_Time                  21201 non-null  object \n",
            " 7   Distance_KM                  21201 non-null  int16  \n",
            " 8   Temperature                  21201 non-null  float16\n",
            " 9   Precipitation_mm             21201 non-null  float16\n",
            " 10  Pickup_Lat                   21201 non-null  float16\n",
            " 11  Pickup_Long                  21201 non-null  float16\n",
            " 12  Destination_Lat              21201 non-null  float16\n",
            " 13  Destination_Long             21201 non-null  float16\n",
            " 14  Rider_Id                     21201 non-null  object \n",
            " 15  Time_from_Pickup_to_Arrival  21201 non-null  int16  \n",
            " 16  No_Of_Orders                 21201 non-null  int16  \n",
            " 17  Age                          21201 non-null  int16  \n",
            " 18  Average_Rating               21201 non-null  float16\n",
            " 19  No_of_Ratings                21201 non-null  int16  \n",
            "dtypes: float16(7), int16(8), object(5)\n",
            "memory usage: 1.6+ MB\n"
          ],
          "name": "stdout"
        }
      ]
    },
    {
      "cell_type": "markdown",
      "metadata": {
        "id": "iCEgkxoauoww",
        "colab_type": "text"
      },
      "source": [
        "2. Variable creation"
      ]
    },
    {
      "cell_type": "markdown",
      "metadata": {
        "id": "7qC02bUDTQ5I",
        "colab_type": "text"
      },
      "source": [
        "### 6. Model building"
      ]
    },
    {
      "cell_type": "code",
      "metadata": {
        "id": "nMDModiCvRdH",
        "colab_type": "code",
        "colab": {}
      },
      "source": [
        ""
      ],
      "execution_count": 0,
      "outputs": []
    },
    {
      "cell_type": "code",
      "metadata": {
        "id": "DwkAp-lzvTff",
        "colab_type": "code",
        "colab": {}
      },
      "source": [
        ""
      ],
      "execution_count": 0,
      "outputs": []
    },
    {
      "cell_type": "code",
      "metadata": {
        "id": "HjefPc-vvTV2",
        "colab_type": "code",
        "colab": {}
      },
      "source": [
        ""
      ],
      "execution_count": 0,
      "outputs": []
    },
    {
      "cell_type": "code",
      "metadata": {
        "id": "U57Fg1OcvTKv",
        "colab_type": "code",
        "colab": {}
      },
      "source": [
        ""
      ],
      "execution_count": 0,
      "outputs": []
    },
    {
      "cell_type": "code",
      "metadata": {
        "id": "LcViHaArvS8G",
        "colab_type": "code",
        "colab": {}
      },
      "source": [
        ""
      ],
      "execution_count": 0,
      "outputs": []
    },
    {
      "cell_type": "markdown",
      "metadata": {
        "id": "m4yi7wvk48hF",
        "colab_type": "text"
      },
      "source": [
        "## 6. Results interpretation"
      ]
    },
    {
      "cell_type": "markdown",
      "metadata": {
        "id": "R1Q-kort485Q",
        "colab_type": "text"
      },
      "source": [
        "## 7. Conclusion"
      ]
    }
  ]
}