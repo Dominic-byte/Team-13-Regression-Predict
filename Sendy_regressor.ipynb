{
  "nbformat": 4,
  "nbformat_minor": 0,
  "metadata": {
    "colab": {
      "name": "Sendy_regressor.ipynb",
      "provenance": [],
      "collapsed_sections": [
        "qYjMBH10fmFd"
      ],
      "toc_visible": true,
      "authorship_tag": "ABX9TyOuO1WiFuPPy5NWIPOC2RYQ",
      "include_colab_link": true
    },
    "kernelspec": {
      "name": "python3",
      "display_name": "Python 3"
    }
  },
  "cells": [
    {
      "cell_type": "markdown",
      "metadata": {
        "id": "view-in-github",
        "colab_type": "text"
      },
      "source": [
        "<a href=\"https://colab.research.google.com/github/Dominic-byte/Team-13-Regression-Predict/blob/master/Sendy_regressor.ipynb\" target=\"_parent\"><img src=\"https://colab.research.google.com/assets/colab-badge.svg\" alt=\"Open In Colab\"/></a>"
      ]
    },
    {
      "cell_type": "markdown",
      "metadata": {
        "id": "_vsUG8_gZS7O",
        "colab_type": "text"
      },
      "source": [
        "# Team 13 Sendy Logistics Challenge"
      ]
    },
    {
      "cell_type": "markdown",
      "metadata": {
        "id": "yg1-a7VuZhcE",
        "colab_type": "text"
      },
      "source": [
        "## Contents (finish sections 1, 3, 4, 5, 6, 7, 8, 9)\n",
        "\n",
        "1. Introduction\n",
        "2. Imports\n",
        "3. Definitions\n",
        "4. Data cleaning and preprocessing\n",
        "5. Exploratoory data analysis\n",
        "6. Feature engineering and selection\n",
        "7. Model building\n",
        "8. Results interpretation\n",
        "9. Conclusion"
      ]
    },
    {
      "cell_type": "markdown",
      "metadata": {
        "id": "CVmo1d8VTmHx",
        "colab_type": "text"
      },
      "source": [
        "## 1. Introduction"
      ]
    },
    {
      "cell_type": "code",
      "metadata": {
        "id": "DKsHn-UFT5yJ",
        "colab_type": "code",
        "colab": {}
      },
      "source": [
        ""
      ],
      "execution_count": 0,
      "outputs": []
    },
    {
      "cell_type": "markdown",
      "metadata": {
        "id": "9gyOJVvsa1uL",
        "colab_type": "text"
      },
      "source": [
        "## 2. Imports"
      ]
    },
    {
      "cell_type": "markdown",
      "metadata": {
        "id": "G4GDFAPE5xds",
        "colab_type": "text"
      },
      "source": [
        "Packages"
      ]
    },
    {
      "cell_type": "code",
      "metadata": {
        "id": "ZUDvR6NIZfP2",
        "colab_type": "code",
        "colab": {}
      },
      "source": [
        "%%capture\n",
        "import numpy as np\n",
        "import matplotlib.pyplot as plt\n",
        "import pandas as pd\n",
        "import seaborn as sns\n",
        "%matplotlib inline\n",
        "pd.options.display.max_columns = 60\n",
        "sns.set_style(\"whitegrid\")"
      ],
      "execution_count": 0,
      "outputs": []
    },
    {
      "cell_type": "markdown",
      "metadata": {
        "id": "8AL4-rdr51tr",
        "colab_type": "text"
      },
      "source": [
        "Data"
      ]
    },
    {
      "cell_type": "code",
      "metadata": {
        "id": "xkYuYEzfbQAP",
        "colab_type": "code",
        "outputId": "ebfa04f9-dac5-4343-ed09-e8994479bffa",
        "colab": {
          "base_uri": "https://localhost:8080/",
          "height": 363
        }
      },
      "source": [
        "# URL to training and testing data\n",
        "trurl = 'https://raw.githubusercontent.com/Dominic-byte/Team-13-Regression-Predict/master/Train.csv'\n",
        "turl = 'https://raw.githubusercontent.com/Dominic-byte/Team-13-Regression-Predict/master/Test.csv'\n",
        "rurl = 'https://raw.githubusercontent.com/Dominic-byte/Team-13-Regression-Predict/master/Riders.csv'\n",
        "vurl = 'https://raw.githubusercontent.com/Dominic-byte/Team-13-Regression-Predict/master/VariableDefinitions.csv'\n",
        "\n",
        "# Loading datasets\n",
        "train_df = pd.read_csv(trurl, index_col=0)\n",
        "test_df = pd.read_csv(turl, index_col=0)\n",
        "riders_df = pd.read_csv(rurl, index_col=0)\n",
        "variables = pd.read_csv(vurl, index_col=0)\n",
        "\n",
        "# Storing variable names and test index\n",
        "columns = train_df.columns\n",
        "test_index = test_df.index\n",
        "\n",
        "# Inspect data\n",
        "print(train_df.shape, test_df.shape, riders_df.shape)\n",
        "train_df.head(3)"
      ],
      "execution_count": 0,
      "outputs": [
        {
          "output_type": "stream",
          "text": [
            "(21201, 28) (7068, 24) (960, 4)\n"
          ],
          "name": "stdout"
        },
        {
          "output_type": "execute_result",
          "data": {
            "text/html": [
              "<div>\n",
              "<style scoped>\n",
              "    .dataframe tbody tr th:only-of-type {\n",
              "        vertical-align: middle;\n",
              "    }\n",
              "\n",
              "    .dataframe tbody tr th {\n",
              "        vertical-align: top;\n",
              "    }\n",
              "\n",
              "    .dataframe thead th {\n",
              "        text-align: right;\n",
              "    }\n",
              "</style>\n",
              "<table border=\"1\" class=\"dataframe\">\n",
              "  <thead>\n",
              "    <tr style=\"text-align: right;\">\n",
              "      <th></th>\n",
              "      <th>User Id</th>\n",
              "      <th>Vehicle Type</th>\n",
              "      <th>Platform Type</th>\n",
              "      <th>Personal or Business</th>\n",
              "      <th>Placement - Day of Month</th>\n",
              "      <th>Placement - Weekday (Mo = 1)</th>\n",
              "      <th>Placement - Time</th>\n",
              "      <th>Confirmation - Day of Month</th>\n",
              "      <th>Confirmation - Weekday (Mo = 1)</th>\n",
              "      <th>Confirmation - Time</th>\n",
              "      <th>Arrival at Pickup - Day of Month</th>\n",
              "      <th>Arrival at Pickup - Weekday (Mo = 1)</th>\n",
              "      <th>Arrival at Pickup - Time</th>\n",
              "      <th>Pickup - Day of Month</th>\n",
              "      <th>Pickup - Weekday (Mo = 1)</th>\n",
              "      <th>Pickup - Time</th>\n",
              "      <th>Arrival at Destination - Day of Month</th>\n",
              "      <th>Arrival at Destination - Weekday (Mo = 1)</th>\n",
              "      <th>Arrival at Destination - Time</th>\n",
              "      <th>Distance (KM)</th>\n",
              "      <th>Temperature</th>\n",
              "      <th>Precipitation in millimeters</th>\n",
              "      <th>Pickup Lat</th>\n",
              "      <th>Pickup Long</th>\n",
              "      <th>Destination Lat</th>\n",
              "      <th>Destination Long</th>\n",
              "      <th>Rider Id</th>\n",
              "      <th>Time from Pickup to Arrival</th>\n",
              "    </tr>\n",
              "    <tr>\n",
              "      <th>Order No</th>\n",
              "      <th></th>\n",
              "      <th></th>\n",
              "      <th></th>\n",
              "      <th></th>\n",
              "      <th></th>\n",
              "      <th></th>\n",
              "      <th></th>\n",
              "      <th></th>\n",
              "      <th></th>\n",
              "      <th></th>\n",
              "      <th></th>\n",
              "      <th></th>\n",
              "      <th></th>\n",
              "      <th></th>\n",
              "      <th></th>\n",
              "      <th></th>\n",
              "      <th></th>\n",
              "      <th></th>\n",
              "      <th></th>\n",
              "      <th></th>\n",
              "      <th></th>\n",
              "      <th></th>\n",
              "      <th></th>\n",
              "      <th></th>\n",
              "      <th></th>\n",
              "      <th></th>\n",
              "      <th></th>\n",
              "      <th></th>\n",
              "    </tr>\n",
              "  </thead>\n",
              "  <tbody>\n",
              "    <tr>\n",
              "      <th>Order_No_4211</th>\n",
              "      <td>User_Id_633</td>\n",
              "      <td>Bike</td>\n",
              "      <td>3</td>\n",
              "      <td>Business</td>\n",
              "      <td>9</td>\n",
              "      <td>5</td>\n",
              "      <td>9:35:46 AM</td>\n",
              "      <td>9</td>\n",
              "      <td>5</td>\n",
              "      <td>9:40:10 AM</td>\n",
              "      <td>9</td>\n",
              "      <td>5</td>\n",
              "      <td>10:04:47 AM</td>\n",
              "      <td>9</td>\n",
              "      <td>5</td>\n",
              "      <td>10:27:30 AM</td>\n",
              "      <td>9</td>\n",
              "      <td>5</td>\n",
              "      <td>10:39:55 AM</td>\n",
              "      <td>4</td>\n",
              "      <td>20.4</td>\n",
              "      <td>NaN</td>\n",
              "      <td>-1.317755</td>\n",
              "      <td>36.830370</td>\n",
              "      <td>-1.300406</td>\n",
              "      <td>36.829741</td>\n",
              "      <td>Rider_Id_432</td>\n",
              "      <td>745</td>\n",
              "    </tr>\n",
              "    <tr>\n",
              "      <th>Order_No_25375</th>\n",
              "      <td>User_Id_2285</td>\n",
              "      <td>Bike</td>\n",
              "      <td>3</td>\n",
              "      <td>Personal</td>\n",
              "      <td>12</td>\n",
              "      <td>5</td>\n",
              "      <td>11:16:16 AM</td>\n",
              "      <td>12</td>\n",
              "      <td>5</td>\n",
              "      <td>11:23:21 AM</td>\n",
              "      <td>12</td>\n",
              "      <td>5</td>\n",
              "      <td>11:40:22 AM</td>\n",
              "      <td>12</td>\n",
              "      <td>5</td>\n",
              "      <td>11:44:09 AM</td>\n",
              "      <td>12</td>\n",
              "      <td>5</td>\n",
              "      <td>12:17:22 PM</td>\n",
              "      <td>16</td>\n",
              "      <td>26.4</td>\n",
              "      <td>NaN</td>\n",
              "      <td>-1.351453</td>\n",
              "      <td>36.899315</td>\n",
              "      <td>-1.295004</td>\n",
              "      <td>36.814358</td>\n",
              "      <td>Rider_Id_856</td>\n",
              "      <td>1993</td>\n",
              "    </tr>\n",
              "    <tr>\n",
              "      <th>Order_No_1899</th>\n",
              "      <td>User_Id_265</td>\n",
              "      <td>Bike</td>\n",
              "      <td>3</td>\n",
              "      <td>Business</td>\n",
              "      <td>30</td>\n",
              "      <td>2</td>\n",
              "      <td>12:39:25 PM</td>\n",
              "      <td>30</td>\n",
              "      <td>2</td>\n",
              "      <td>12:42:44 PM</td>\n",
              "      <td>30</td>\n",
              "      <td>2</td>\n",
              "      <td>12:49:34 PM</td>\n",
              "      <td>30</td>\n",
              "      <td>2</td>\n",
              "      <td>12:53:03 PM</td>\n",
              "      <td>30</td>\n",
              "      <td>2</td>\n",
              "      <td>1:00:38 PM</td>\n",
              "      <td>3</td>\n",
              "      <td>NaN</td>\n",
              "      <td>NaN</td>\n",
              "      <td>-1.308284</td>\n",
              "      <td>36.843419</td>\n",
              "      <td>-1.300921</td>\n",
              "      <td>36.828195</td>\n",
              "      <td>Rider_Id_155</td>\n",
              "      <td>455</td>\n",
              "    </tr>\n",
              "  </tbody>\n",
              "</table>\n",
              "</div>"
            ],
            "text/plain": [
              "                     User Id Vehicle Type  Platform Type Personal or Business  \\\n",
              "Order No                                                                        \n",
              "Order_No_4211    User_Id_633         Bike              3             Business   \n",
              "Order_No_25375  User_Id_2285         Bike              3             Personal   \n",
              "Order_No_1899    User_Id_265         Bike              3             Business   \n",
              "\n",
              "                Placement - Day of Month  Placement - Weekday (Mo = 1)  \\\n",
              "Order No                                                                 \n",
              "Order_No_4211                          9                             5   \n",
              "Order_No_25375                        12                             5   \n",
              "Order_No_1899                         30                             2   \n",
              "\n",
              "               Placement - Time  Confirmation - Day of Month  \\\n",
              "Order No                                                       \n",
              "Order_No_4211        9:35:46 AM                            9   \n",
              "Order_No_25375      11:16:16 AM                           12   \n",
              "Order_No_1899       12:39:25 PM                           30   \n",
              "\n",
              "                Confirmation - Weekday (Mo = 1) Confirmation - Time  \\\n",
              "Order No                                                              \n",
              "Order_No_4211                                 5          9:40:10 AM   \n",
              "Order_No_25375                                5         11:23:21 AM   \n",
              "Order_No_1899                                 2         12:42:44 PM   \n",
              "\n",
              "                Arrival at Pickup - Day of Month  \\\n",
              "Order No                                           \n",
              "Order_No_4211                                  9   \n",
              "Order_No_25375                                12   \n",
              "Order_No_1899                                 30   \n",
              "\n",
              "                Arrival at Pickup - Weekday (Mo = 1) Arrival at Pickup - Time  \\\n",
              "Order No                                                                        \n",
              "Order_No_4211                                      5              10:04:47 AM   \n",
              "Order_No_25375                                     5              11:40:22 AM   \n",
              "Order_No_1899                                      2              12:49:34 PM   \n",
              "\n",
              "                Pickup - Day of Month  Pickup - Weekday (Mo = 1)  \\\n",
              "Order No                                                           \n",
              "Order_No_4211                       9                          5   \n",
              "Order_No_25375                     12                          5   \n",
              "Order_No_1899                      30                          2   \n",
              "\n",
              "               Pickup - Time  Arrival at Destination - Day of Month  \\\n",
              "Order No                                                              \n",
              "Order_No_4211    10:27:30 AM                                      9   \n",
              "Order_No_25375   11:44:09 AM                                     12   \n",
              "Order_No_1899    12:53:03 PM                                     30   \n",
              "\n",
              "                Arrival at Destination - Weekday (Mo = 1)  \\\n",
              "Order No                                                    \n",
              "Order_No_4211                                           5   \n",
              "Order_No_25375                                          5   \n",
              "Order_No_1899                                           2   \n",
              "\n",
              "               Arrival at Destination - Time  Distance (KM)  Temperature  \\\n",
              "Order No                                                                   \n",
              "Order_No_4211                    10:39:55 AM              4         20.4   \n",
              "Order_No_25375                   12:17:22 PM             16         26.4   \n",
              "Order_No_1899                     1:00:38 PM              3          NaN   \n",
              "\n",
              "                Precipitation in millimeters  Pickup Lat  Pickup Long  \\\n",
              "Order No                                                                \n",
              "Order_No_4211                            NaN   -1.317755    36.830370   \n",
              "Order_No_25375                           NaN   -1.351453    36.899315   \n",
              "Order_No_1899                            NaN   -1.308284    36.843419   \n",
              "\n",
              "                Destination Lat  Destination Long      Rider Id  \\\n",
              "Order No                                                          \n",
              "Order_No_4211         -1.300406         36.829741  Rider_Id_432   \n",
              "Order_No_25375        -1.295004         36.814358  Rider_Id_856   \n",
              "Order_No_1899         -1.300921         36.828195  Rider_Id_155   \n",
              "\n",
              "                Time from Pickup to Arrival  \n",
              "Order No                                     \n",
              "Order_No_4211                           745  \n",
              "Order_No_25375                         1993  \n",
              "Order_No_1899                           455  "
            ]
          },
          "metadata": {
            "tags": []
          },
          "execution_count": 67
        }
      ]
    },
    {
      "cell_type": "markdown",
      "metadata": {
        "id": "qYjMBH10fmFd",
        "colab_type": "text"
      },
      "source": [
        "## 3. Definitions"
      ]
    },
    {
      "cell_type": "code",
      "metadata": {
        "id": "LMN_CafzfwxW",
        "colab_type": "code",
        "outputId": "45664119-a591-4740-ad10-ad6b6380d1bb",
        "colab": {
          "base_uri": "https://localhost:8080/",
          "height": 1000
        }
      },
      "source": [
        "pd.options.display.max_colwidth = 0\n",
        "variables"
      ],
      "execution_count": 0,
      "outputs": [
        {
          "output_type": "execute_result",
          "data": {
            "text/html": [
              "<div>\n",
              "<style scoped>\n",
              "    .dataframe tbody tr th:only-of-type {\n",
              "        vertical-align: middle;\n",
              "    }\n",
              "\n",
              "    .dataframe tbody tr th {\n",
              "        vertical-align: top;\n",
              "    }\n",
              "\n",
              "    .dataframe thead th {\n",
              "        text-align: right;\n",
              "    }\n",
              "</style>\n",
              "<table border=\"1\" class=\"dataframe\">\n",
              "  <thead>\n",
              "    <tr style=\"text-align: right;\">\n",
              "      <th></th>\n",
              "      <th>Unique number identifying the order</th>\n",
              "    </tr>\n",
              "    <tr>\n",
              "      <th>Order No</th>\n",
              "      <th></th>\n",
              "    </tr>\n",
              "  </thead>\n",
              "  <tbody>\n",
              "    <tr>\n",
              "      <th>User Id</th>\n",
              "      <td>Unique number identifying the customer on a platform</td>\n",
              "    </tr>\n",
              "    <tr>\n",
              "      <th>Vehicle Type</th>\n",
              "      <td>For this competition limited to bikes, however in practice Sendy service extends to trucks and vans</td>\n",
              "    </tr>\n",
              "    <tr>\n",
              "      <th>Platform Type</th>\n",
              "      <td>Platform used to place the order, there are 4 types</td>\n",
              "    </tr>\n",
              "    <tr>\n",
              "      <th>Personal or Business</th>\n",
              "      <td>Customer type</td>\n",
              "    </tr>\n",
              "    <tr>\n",
              "      <th>Placement - Day of Month</th>\n",
              "      <td>Placement - Day of Month i.e 1-31</td>\n",
              "    </tr>\n",
              "    <tr>\n",
              "      <th>Placement - Weekday (Mo = 1)</th>\n",
              "      <td>Placement - Weekday (Monday = 1)</td>\n",
              "    </tr>\n",
              "    <tr>\n",
              "      <th>Placement - Time</th>\n",
              "      <td>Placement - Time - Time of day the order was placed</td>\n",
              "    </tr>\n",
              "    <tr>\n",
              "      <th>Confirmation - Day of Month</th>\n",
              "      <td>Confirmation - Day of Month i.e 1-31</td>\n",
              "    </tr>\n",
              "    <tr>\n",
              "      <th>Confirmation - Weekday (Mo = 1)</th>\n",
              "      <td>Confirmation - Weekday (Monday = 1)</td>\n",
              "    </tr>\n",
              "    <tr>\n",
              "      <th>Confirmation - Time</th>\n",
              "      <td>Confirmation - Time - Time of day the order was confirmed by a rider</td>\n",
              "    </tr>\n",
              "    <tr>\n",
              "      <th>Arrival at Pickup - Day of Month</th>\n",
              "      <td>Arrival at Pickup - Day of Month i.e 1-31</td>\n",
              "    </tr>\n",
              "    <tr>\n",
              "      <th>Arrival at Pickup - Weekday (Mo = 1)</th>\n",
              "      <td>Arrival at Pickup - Weekday (Monday = 1)</td>\n",
              "    </tr>\n",
              "    <tr>\n",
              "      <th>Arrival at Pickup - Time</th>\n",
              "      <td>Time of day the the rider arrived at the location to pick up the order - as marked by the rider through the Sendy application</td>\n",
              "    </tr>\n",
              "    <tr>\n",
              "      <th>Pickup - Day of Month</th>\n",
              "      <td>Pickup - Day of Month i.e 1-31</td>\n",
              "    </tr>\n",
              "    <tr>\n",
              "      <th>Pickup - Weekday (Mo = 1)</th>\n",
              "      <td>Pickup - Weekday (Monday = 1)</td>\n",
              "    </tr>\n",
              "    <tr>\n",
              "      <th>Pickup - Time</th>\n",
              "      <td>Pickup - Time - Time of day the the rider picked up the order - as marked by the rider through the Sendy application</td>\n",
              "    </tr>\n",
              "    <tr>\n",
              "      <th>Arrival at Destination - Day of Month</th>\n",
              "      <td>Arrival at Delivery - Day of Month i.e 1-31</td>\n",
              "    </tr>\n",
              "    <tr>\n",
              "      <th>Arrival at Destination - Weekday (Mo = 1)</th>\n",
              "      <td>Arrival at Delivery - Weekday (Monday = 1)</td>\n",
              "    </tr>\n",
              "    <tr>\n",
              "      <th>Arrival at Destination - Time</th>\n",
              "      <td>Arrival at Delivery Time - Time of day the rider arrived at the destination to deliver the order - as marked by the rider through the Sendy application</td>\n",
              "    </tr>\n",
              "    <tr>\n",
              "      <th>Distance (KM)</th>\n",
              "      <td>The distance from Pickup to Destination</td>\n",
              "    </tr>\n",
              "    <tr>\n",
              "      <th>Temperature</th>\n",
              "      <td>Temperature at the time of order placement in Degrees Celsius (measured every three hours)</td>\n",
              "    </tr>\n",
              "    <tr>\n",
              "      <th>Precipitation in millimeters</th>\n",
              "      <td>Precipitation at the time of order placement (measured every three hours)</td>\n",
              "    </tr>\n",
              "    <tr>\n",
              "      <th>Pickup Lat</th>\n",
              "      <td>Latitude of pick up location</td>\n",
              "    </tr>\n",
              "    <tr>\n",
              "      <th>Pickup Long</th>\n",
              "      <td>Longitude of pick up location</td>\n",
              "    </tr>\n",
              "    <tr>\n",
              "      <th>Destination Lat</th>\n",
              "      <td>Latitude of delivery location</td>\n",
              "    </tr>\n",
              "    <tr>\n",
              "      <th>Destination Long</th>\n",
              "      <td>Longitude of delivery location</td>\n",
              "    </tr>\n",
              "    <tr>\n",
              "      <th>Rider Id</th>\n",
              "      <td>ID of the Rider who accepted the order</td>\n",
              "    </tr>\n",
              "    <tr>\n",
              "      <th>Time from Pickup to Arrival</th>\n",
              "      <td>Time in seconds between 'Pickup' and 'Arrival at Destination' - calculated from the columns for the purpose of facilitating the task</td>\n",
              "    </tr>\n",
              "    <tr>\n",
              "      <th>NaN</th>\n",
              "      <td>NaN</td>\n",
              "    </tr>\n",
              "    <tr>\n",
              "      <th>Rider Metrics</th>\n",
              "      <td>NaN</td>\n",
              "    </tr>\n",
              "    <tr>\n",
              "      <th>Rider Id</th>\n",
              "      <td>Unique number identifying the rider (same as in order details)</td>\n",
              "    </tr>\n",
              "    <tr>\n",
              "      <th>No_Of_Orders</th>\n",
              "      <td>Number of Orders the rider has delivered</td>\n",
              "    </tr>\n",
              "    <tr>\n",
              "      <th>Age</th>\n",
              "      <td>Number of days since the rider delivered the first order</td>\n",
              "    </tr>\n",
              "    <tr>\n",
              "      <th>Average_Rating</th>\n",
              "      <td>Average rating of the rider</td>\n",
              "    </tr>\n",
              "    <tr>\n",
              "      <th>No_of_Ratings</th>\n",
              "      <td>Number of ratings the rider has received. Rating an order is optional for the customer.</td>\n",
              "    </tr>\n",
              "  </tbody>\n",
              "</table>\n",
              "</div>"
            ],
            "text/plain": [
              "                                                                                                                                                               Unique number identifying the order\n",
              "Order No                                                                                                                                                                                          \n",
              "User Id                                    Unique number identifying the customer on a platform                                                                                                   \n",
              "Vehicle Type                               For this competition limited to bikes, however in practice Sendy service extends to trucks and vans                                                    \n",
              "Platform Type                              Platform used to place the order, there are 4 types                                                                                                    \n",
              "Personal or Business                       Customer type                                                                                                                                          \n",
              "Placement - Day of Month                   Placement - Day of Month i.e 1-31                                                                                                                      \n",
              "Placement - Weekday (Mo = 1)               Placement - Weekday (Monday = 1)                                                                                                                       \n",
              "Placement - Time                           Placement - Time - Time of day the order was placed                                                                                                    \n",
              "Confirmation - Day of Month                Confirmation - Day of Month i.e 1-31                                                                                                                   \n",
              "Confirmation - Weekday (Mo = 1)            Confirmation - Weekday (Monday = 1)                                                                                                                    \n",
              "Confirmation - Time                        Confirmation - Time - Time of day the order was confirmed by a rider                                                                                   \n",
              "Arrival at Pickup - Day of Month           Arrival at Pickup - Day of Month i.e 1-31                                                                                                              \n",
              "Arrival at Pickup - Weekday (Mo = 1)       Arrival at Pickup - Weekday (Monday = 1)                                                                                                               \n",
              "Arrival at Pickup - Time                   Time of day the the rider arrived at the location to pick up the order - as marked by the rider through the Sendy application                          \n",
              "Pickup - Day of Month                      Pickup - Day of Month i.e 1-31                                                                                                                         \n",
              "Pickup - Weekday (Mo = 1)                  Pickup - Weekday (Monday = 1)                                                                                                                          \n",
              "Pickup - Time                              Pickup - Time - Time of day the the rider picked up the order - as marked by the rider through the Sendy application                                   \n",
              "Arrival at Destination - Day of Month      Arrival at Delivery - Day of Month i.e 1-31                                                                                                            \n",
              "Arrival at Destination - Weekday (Mo = 1)  Arrival at Delivery - Weekday (Monday = 1)                                                                                                             \n",
              "Arrival at Destination - Time              Arrival at Delivery Time - Time of day the rider arrived at the destination to deliver the order - as marked by the rider through the Sendy application\n",
              "Distance (KM)                              The distance from Pickup to Destination                                                                                                                \n",
              "Temperature                                Temperature at the time of order placement in Degrees Celsius (measured every three hours)                                                             \n",
              "Precipitation in millimeters                Precipitation at the time of order placement (measured every three hours)                                                                             \n",
              "Pickup Lat                                 Latitude of pick up location                                                                                                                           \n",
              "Pickup Long                                Longitude of pick up location                                                                                                                          \n",
              "Destination Lat                            Latitude of delivery location                                                                                                                          \n",
              "Destination Long                           Longitude of delivery location                                                                                                                         \n",
              "Rider Id                                    ID of the Rider who accepted the order                                                                                                                \n",
              "Time from Pickup to Arrival                Time in seconds between 'Pickup' and 'Arrival at Destination' - calculated from the columns for the purpose of facilitating the task                   \n",
              "NaN                                        NaN                                                                                                                                                    \n",
              "Rider Metrics                              NaN                                                                                                                                                    \n",
              "Rider Id                                   Unique number identifying the rider (same as in order details)                                                                                         \n",
              "No_Of_Orders                                Number of Orders the rider has delivered                                                                                                              \n",
              "Age                                        Number of days since the rider delivered the first order                                                                                               \n",
              "Average_Rating                             Average rating of the rider                                                                                                                            \n",
              "No_of_Ratings                               Number of ratings the rider has received. Rating an order is optional for the customer.                                                               "
            ]
          },
          "metadata": {
            "tags": []
          },
          "execution_count": 68
        }
      ]
    },
    {
      "cell_type": "code",
      "metadata": {
        "id": "YzMq0AnTf1uB",
        "colab_type": "code",
        "colab": {}
      },
      "source": [
        "pd.options.display.max_colwidth = 50"
      ],
      "execution_count": 0,
      "outputs": []
    },
    {
      "cell_type": "markdown",
      "metadata": {
        "id": "dsAYGVL6gf0l",
        "colab_type": "text"
      },
      "source": [
        "## 4. Data cleaning and preprocessing (BBP)"
      ]
    },
    {
      "cell_type": "code",
      "metadata": {
        "id": "S4NfA0gvgnza",
        "colab_type": "code",
        "outputId": "f6d6a3d7-d842-4bd1-9406-e009cf378e9d",
        "colab": {
          "base_uri": "https://localhost:8080/",
          "height": 680
        }
      },
      "source": [
        "pd.merge(train_df, riders_df, how='left', on='Rider Id').info()"
      ],
      "execution_count": 0,
      "outputs": [
        {
          "output_type": "stream",
          "text": [
            "<class 'pandas.core.frame.DataFrame'>\n",
            "Int64Index: 21201 entries, 0 to 21200\n",
            "Data columns (total 32 columns):\n",
            " #   Column                                     Non-Null Count  Dtype  \n",
            "---  ------                                     --------------  -----  \n",
            " 0   User Id                                    21201 non-null  object \n",
            " 1   Vehicle Type                               21201 non-null  object \n",
            " 2   Platform Type                              21201 non-null  int64  \n",
            " 3   Personal or Business                       21201 non-null  object \n",
            " 4   Placement - Day of Month                   21201 non-null  int64  \n",
            " 5   Placement - Weekday (Mo = 1)               21201 non-null  int64  \n",
            " 6   Placement - Time                           21201 non-null  object \n",
            " 7   Confirmation - Day of Month                21201 non-null  int64  \n",
            " 8   Confirmation - Weekday (Mo = 1)            21201 non-null  int64  \n",
            " 9   Confirmation - Time                        21201 non-null  object \n",
            " 10  Arrival at Pickup - Day of Month           21201 non-null  int64  \n",
            " 11  Arrival at Pickup - Weekday (Mo = 1)       21201 non-null  int64  \n",
            " 12  Arrival at Pickup - Time                   21201 non-null  object \n",
            " 13  Pickup - Day of Month                      21201 non-null  int64  \n",
            " 14  Pickup - Weekday (Mo = 1)                  21201 non-null  int64  \n",
            " 15  Pickup - Time                              21201 non-null  object \n",
            " 16  Arrival at Destination - Day of Month      21201 non-null  int64  \n",
            " 17  Arrival at Destination - Weekday (Mo = 1)  21201 non-null  int64  \n",
            " 18  Arrival at Destination - Time              21201 non-null  object \n",
            " 19  Distance (KM)                              21201 non-null  int64  \n",
            " 20  Temperature                                16835 non-null  float64\n",
            " 21  Precipitation in millimeters               552 non-null    float64\n",
            " 22  Pickup Lat                                 21201 non-null  float64\n",
            " 23  Pickup Long                                21201 non-null  float64\n",
            " 24  Destination Lat                            21201 non-null  float64\n",
            " 25  Destination Long                           21201 non-null  float64\n",
            " 26  Rider Id                                   21201 non-null  object \n",
            " 27  Time from Pickup to Arrival                21201 non-null  int64  \n",
            " 28  No_Of_Orders                               21201 non-null  int64  \n",
            " 29  Age                                        21201 non-null  int64  \n",
            " 30  Average_Rating                             21201 non-null  float64\n",
            " 31  No_of_Ratings                              21201 non-null  int64  \n",
            "dtypes: float64(7), int64(16), object(9)\n",
            "memory usage: 5.3+ MB\n"
          ],
          "name": "stdout"
        }
      ]
    },
    {
      "cell_type": "code",
      "metadata": {
        "id": "ynUGSw2mN5ip",
        "colab_type": "code",
        "colab": {
          "base_uri": "https://localhost:8080/",
          "height": 170
        },
        "outputId": "9c32a11f-03ae-4eee-9007-3a3bb5799c60"
      },
      "source": [
        "train_df['Distance (KM)'].describe()"
      ],
      "execution_count": 81,
      "outputs": [
        {
          "output_type": "execute_result",
          "data": {
            "text/plain": [
              "count    21201.000000\n",
              "mean         9.506533\n",
              "std          5.668963\n",
              "min          1.000000\n",
              "25%          5.000000\n",
              "50%          8.000000\n",
              "75%         13.000000\n",
              "max         49.000000\n",
              "Name: Distance (KM), dtype: float64"
            ]
          },
          "metadata": {
            "tags": []
          },
          "execution_count": 81
        }
      ]
    },
    {
      "cell_type": "markdown",
      "metadata": {
        "id": "ebiohcLYg107",
        "colab_type": "text"
      },
      "source": [
        "### Data types\n",
        "#### **Numerical**\n",
        "- Ratio\n",
        "  - *Number of Orders*\n",
        "  - *Age*\n",
        "  - *Number of Ratings*\n",
        "  - *Time from pickup to arrival* - Target\n",
        "- Interval\n",
        "  - *Time (Placement, Confimation, Arrival, etc)* \n",
        "  - *Distance (KM)*\n",
        "  - *Temperature*\n",
        "  - *Precipitation*\n",
        "  - *Co-ordinates*\n",
        "\n",
        "#### **Categorical**\n",
        "- Nominal\n",
        "  - *User Id*\n",
        "    - This is categorical as it only varies in the user that has\\\n",
        "      placed the order.\n",
        "    - It may be possible to determine the frequency of orders\\\n",
        "      placed by customers and determine their loyalty. This may\\\n",
        "      reflect a drivers motivation to provide higher quality\\\n",
        "      service to that user.\n",
        "  - *Vehicle Type*\n",
        "    - The type of vehicle used would ordinarily have an impact on\\\n",
        "      delivery time as a motorcycle would be faster than a truck.\n",
        "    - Since there is only one vehicle type to consider (bike)\\\n",
        "      there is no value to be gained from this data\n",
        "  - *Platform Type*\n",
        "    - The source of order placement is qualitative and may give\\\n",
        "      information about the level of service delivery for the\\\n",
        "      various platforms. More frequently used platforms may be\\\n",
        "      serviced better by drivers as they may provide a steady\\\n",
        "      stream of customers.\n",
        "    - The platform can only take on the values from 1 to 4 and\\\n",
        "      should be stored as an `int16`\n",
        "  - *Personal or Business*\n",
        "    - Business orders are likely to be frequent and and located\\\n",
        "      near central business district, whereas personal orders\\\n",
        "      may require further travel to suburban areas. This could\\\n",
        "      have an effect on the travel time.\n",
        "  - *Day of month (Placement, Confimation, Arrival, etc)*\n",
        "    - The day of month can only vary in its quality. There may\\\n",
        "      more or less orders placed on a given day of the month.\\\n",
        "    - Since the values of day of month can take on values between\\\n",
        "      1 and 31 it would be most effecient to store it as an `int16`\\\n",
        "      instead of `int64` which is for larger numbers.\n",
        "    - It may be that more orders are placed on certain days that\\\n",
        "      would result in longer delivery times.    \n",
        "  - *Weekday*\n",
        "    - Businesses typically operate on weekdays. It would logically\\\n",
        "      follow that weekdays are busier than weekends resulting in\\\n",
        "      longer delivery times due  to traffic or the volume of\\\n",
        "      orders.\n",
        "    - Since the weekday is represented by 1 to 7, it should be\\\n",
        "      stored as an `int16`\n",
        "    - *Rider Id*\n",
        "\n",
        "- Ordinal\n",
        "  - *Average rating*\n",
        "    - Drivers are usually rated on a scale from one to 5. As a driver\\\n",
        "      recieves more ratings, the will begin to settle around their\\\n",
        "      true score. This score could reflect"
      ]
    },
    {
      "cell_type": "markdown",
      "metadata": {
        "id": "P5Op6JNbArOn",
        "colab_type": "text"
      },
      "source": [
        "### Cleaning functions"
      ]
    },
    {
      "cell_type": "code",
      "metadata": {
        "id": "BNpmt19EYwGM",
        "colab_type": "code",
        "colab": {}
      },
      "source": [
        "def data_preprocessing(df, na_thresh = 0, strategy = 'mean'):\n",
        "  \"\"\"Function that preprocesses data used for predictions and testing\n",
        "  Parameters\n",
        "  ----------\n",
        "  df: DataFrame\n",
        "          DataFrame to preprocess.\n",
        "  na_thresh: float\n",
        "          float between 0.0 and 1.0 specifying the drop/fillna\n",
        "          threshhold\n",
        "  strategy: string\n",
        "          Filling strategy, 'mean', 'median' or  'rolling'\n",
        "  Returns\n",
        "  -------\n",
        "  df: DataFrame\n",
        "          Preprocessed DataFrame\n",
        "\n",
        "  \"\"\"\n",
        "  cdf = df.copy()\n",
        "  old = cdf.memory_usage().sum()\n",
        "  # Create lists of columns to change\n",
        "  integers = [col for col in cdf.columns if cdf[col].dtypes == 'int64']\n",
        "  floats = [col for col in cdf.columns if cdf[col].dtypes == 'float64']\n",
        "  time_cols = [col for col in cdf.columns if col.endswith(\"Time\")]\n",
        "\n",
        "  # Reduce size of data storage types\n",
        "  cdf[integers] = cdf[integers].astype('int16')\n",
        "  cdf[floats] = cdf[floats].astype('float16')\n",
        "  for col in time_cols:\n",
        "    cdf[col] = pd.to_datetime(cdf[col]).dt.time\n",
        "  \n",
        "  # Correcting specific columns\n",
        "  if 'Distance (KM)' in cdf.columns:\n",
        "    cdf['Distance (KM)'] = cdf['Distance (KM)'].astype('float16') \n",
        "  \n",
        "  # Dropping NaN's\n",
        "  for col in cdf.columns:\n",
        "    missing = cdf[col].isnull().sum()/len(cdf)\n",
        "    if missing > na_thresh:\n",
        "      cdf.drop(columns=col, inplace=True)\n",
        "  \n",
        "  # Filling NaN's\n",
        "  for col in cdf.columns:\n",
        "    if cdf[col].isnull().sum() > 0:\n",
        "      if cdf[col].dtypes == 'object':\n",
        "        cdf[col].fillna(cdf[col].mode(), inplace=True) \n",
        "      elif strategy == 'mean':\n",
        "        cdf[col].fillna(round(cdf[col].mean()), inplace=True)\n",
        "      elif strategy == 'median':\n",
        "        cdf[col].fillna(round(cdf[col].median()), inplace=True)\n",
        "      elif strategy == 'rolling':\n",
        "        cdf[col].fillna(cdf[col].rolling(7).mean(), inplace=True)\n",
        "      else:\n",
        "        raise ValueError\n",
        "\n",
        "  new = cdf.memory_usage().sum()\n",
        "  print(\"Bytes\\t\",\"\\nOld:\\t\", str(old), \"\\nNew:\\t\", \"(\"+str(new)+\")\", \"\\nSaved:\\t\", str(old - new))\n",
        "  return cdf"
      ],
      "execution_count": 0,
      "outputs": []
    },
    {
      "cell_type": "code",
      "metadata": {
        "id": "cd6EF4eazKzB",
        "colab_type": "code",
        "colab": {}
      },
      "source": [
        "%%capture [[--no-display]]\n",
        "# Store transformations in EDA DataFrame\n",
        "eda_df, test_clean, riders_clean = data_preprocessing(train_df, na_thresh = 0, strategy = 'mean'), data_preprocessing(test_df, na_thresh = 0, strategy = 'mean'), data_preprocessing(riders_df, na_thresh = 0, strategy = 'mean')"
      ],
      "execution_count": 0,
      "outputs": []
    },
    {
      "cell_type": "markdown",
      "metadata": {
        "id": "bjIOpRPArj63",
        "colab_type": "text"
      },
      "source": [
        "## 5. Data Exploration and preparation"
      ]
    },
    {
      "cell_type": "markdown",
      "metadata": {
        "id": "EvKxCBEZ40F0",
        "colab_type": "text"
      },
      "source": [
        "a. Exploratory data analysis\n"
      ]
    },
    {
      "cell_type": "code",
      "metadata": {
        "id": "l27TUjOfvIkY",
        "colab_type": "code",
        "colab": {}
      },
      "source": [
        "columns = train_df.columns"
      ],
      "execution_count": 0,
      "outputs": []
    },
    {
      "cell_type": "markdown",
      "metadata": {
        "id": "Y-Z4j7DAvCHA",
        "colab_type": "text"
      },
      "source": [
        "1. Target - Time from Pickup to Arrival"
      ]
    },
    {
      "cell_type": "code",
      "metadata": {
        "id": "brB30PHpvYS5",
        "colab_type": "code",
        "outputId": "f6d16c14-67dd-4545-97a5-5faa6ae9e846",
        "colab": {
          "base_uri": "https://localhost:8080/",
          "height": 34
        }
      },
      "source": [
        "# Setting variable for Target\n",
        "target = columns[-1]\n",
        "\n",
        "# Confirming the caluclation of the Target\n",
        "\n",
        "Target = pd.to_datetime(train_df['Arrival at Destination - Time']) - pd.to_datetime(train_df['Pickup - Time'])\n",
        "list(Target.dt.seconds[:]) == list(train_df[target][:])"
      ],
      "execution_count": 0,
      "outputs": [
        {
          "output_type": "execute_result",
          "data": {
            "text/plain": [
              "True"
            ]
          },
          "metadata": {
            "tags": []
          },
          "execution_count": 74
        }
      ]
    },
    {
      "cell_type": "code",
      "metadata": {
        "id": "NV_QVGhm5BLD",
        "colab_type": "code",
        "outputId": "8bee5bf0-0156-4ab5-b0e3-5ab86fd88ed7",
        "colab": {
          "base_uri": "https://localhost:8080/",
          "height": 170
        }
      },
      "source": [
        "eda_df[target].describe()"
      ],
      "execution_count": 0,
      "outputs": [
        {
          "output_type": "execute_result",
          "data": {
            "text/plain": [
              "count    21201.000000\n",
              "mean      1556.920947\n",
              "std        987.270788\n",
              "min          1.000000\n",
              "25%        882.000000\n",
              "50%       1369.000000\n",
              "75%       2040.000000\n",
              "max       7883.000000\n",
              "Name: Time from Pickup to Arrival, dtype: float64"
            ]
          },
          "metadata": {
            "tags": []
          },
          "execution_count": 75
        }
      ]
    },
    {
      "cell_type": "code",
      "metadata": {
        "id": "_Ha9Rp4Hy1Pq",
        "colab_type": "code",
        "outputId": "f99bee79-e9c4-4257-b8a0-1633ed0855f7",
        "colab": {
          "base_uri": "https://localhost:8080/",
          "height": 307
        }
      },
      "source": [
        "# Histogram\n",
        "fig = plt.figure(figsize=(12,4))\n",
        "sns.distplot(eda_df[target]/60, bins =20)\n",
        "plt.title('Distribution of Delivery times (target)')\n",
        "plt.xlabel('\\n'+target+' in minutes')\n",
        "plt.ylabel(\"Probability\")\n",
        "plt.show()"
      ],
      "execution_count": 0,
      "outputs": [
        {
          "output_type": "display_data",
          "data": {
            "image/png": "[encoded data removed]",
            "text/plain": [
              "<Figure size 864x288 with 1 Axes>"
            ]
          },
          "metadata": {
            "tags": []
          }
        }
      ]
    },
    {
      "cell_type": "code",
      "metadata": {
        "id": "EmLiIhlN-vdB",
        "colab_type": "code",
        "outputId": "53392080-51e8-4021-8417-fa009353ce4d",
        "colab": {
          "base_uri": "https://localhost:8080/",
          "height": 296
        }
      },
      "source": [
        "# Outliers\n",
        "\n",
        "sns.boxplot(x=target,data=eda_df)"
      ],
      "execution_count": 0,
      "outputs": [
        {
          "output_type": "execute_result",
          "data": {
            "text/plain": [
              "<matplotlib.axes._subplots.AxesSubplot at 0x7f39b4a8dcf8>"
            ]
          },
          "metadata": {
            "tags": []
          },
          "execution_count": 60
        },
        {
          "output_type": "display_data",
          "data": {
            "image/png": "[encoded data removed]",
            "text/plain": [
              "<Figure size 432x288 with 1 Axes>"
            ]
          },
          "metadata": {
            "tags": []
          }
        }
      ]
    },
    {
      "cell_type": "markdown",
      "metadata": {
        "id": "Hl3ZX6T9_HCU",
        "colab_type": "text"
      },
      "source": [
        "quick notes\n",
        " - majority of trips are arund 2000 seconds"
      ]
    },
    {
      "cell_type": "markdown",
      "metadata": {
        "id": "T3QVEaFi-ems",
        "colab_type": "text"
      },
      "source": [
        "2. Univariate analysis (D)"
      ]
    },
    {
      "cell_type": "markdown",
      "metadata": {
        "id": "0b_3FhKPu8_X",
        "colab_type": "text"
      },
      "source": [
        "3. Bivariate analysis (AB)"
      ]
    },
    {
      "cell_type": "markdown",
      "metadata": {
        "id": "BtyUrLZDNIQB",
        "colab_type": "text"
      },
      "source": [
        "5. Remove Collinearity (HELPER FUNCTIONS)\n",
        "6. Missing values treatment (HELPER FUNCTIONS)\n",
        "7. Outlier treatment (HELPER FUNCTIONS)"
      ]
    },
    {
      "cell_type": "markdown",
      "metadata": {
        "id": "M6d9e3j1rqTI",
        "colab_type": "text"
      },
      "source": [
        "b. Feature engineering and selection\n"
      ]
    },
    {
      "cell_type": "markdown",
      "metadata": {
        "id": "2SfhOdovuiCo",
        "colab_type": "text"
      },
      "source": [
        "1. Variable transformation"
      ]
    },
    {
      "cell_type": "markdown",
      "metadata": {
        "id": "iCEgkxoauoww",
        "colab_type": "text"
      },
      "source": [
        "2. Variable creation"
      ]
    },
    {
      "cell_type": "markdown",
      "metadata": {
        "id": "7qC02bUDTQ5I",
        "colab_type": "text"
      },
      "source": [
        "### 6. Model building"
      ]
    },
    {
      "cell_type": "code",
      "metadata": {
        "id": "5FcAuNLYTPaD",
        "colab_type": "code",
        "colab": {}
      },
      "source": [
        ""
      ],
      "execution_count": 0,
      "outputs": []
    },
    {
      "cell_type": "markdown",
      "metadata": {
        "id": "m4yi7wvk48hF",
        "colab_type": "text"
      },
      "source": [
        "## 6. Results interpretation"
      ]
    },
    {
      "cell_type": "markdown",
      "metadata": {
        "id": "R1Q-kort485Q",
        "colab_type": "text"
      },
      "source": [
        "## 7. Conclusion"
      ]
    }
  ]
}