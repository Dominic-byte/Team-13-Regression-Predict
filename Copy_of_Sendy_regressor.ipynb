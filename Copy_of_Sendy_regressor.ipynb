{
  "nbformat": 4,
  "nbformat_minor": 0,
  "metadata": {
    "colab": {
      "name": "Copy of Sendy_regressor.ipynb",
      "provenance": [],
      "collapsed_sections": [],
      "toc_visible": true,
      "include_colab_link": true
    },
    "kernelspec": {
      "name": "python3",
      "display_name": "Python 3"
    }
  },
  "cells": [
    {
      "cell_type": "markdown",
      "metadata": {
        "id": "view-in-github",
        "colab_type": "text"
      },
      "source": [
        "<a href=\"https://colab.research.google.com/github/Dominic-byte/Team-13-Regression-Predict/blob/master/Copy_of_Sendy_regressor.ipynb\" target=\"_parent\"><img src=\"https://colab.research.google.com/assets/colab-badge.svg\" alt=\"Open In Colab\"/></a>"
      ]
    },
    {
      "cell_type": "markdown",
      "metadata": {
        "id": "_vsUG8_gZS7O",
        "colab_type": "text"
      },
      "source": [
        "# Team 13 Sendy Logistics Challenge"
      ]
    },
    {
      "cell_type": "markdown",
      "metadata": {
        "id": "yg1-a7VuZhcE",
        "colab_type": "text"
      },
      "source": [
        "## Contents (finish sections 4, 5, 8, 9)"
      ]
    },
    {
      "cell_type": "markdown",
      "metadata": {
        "id": "jCOb5fnLldFU",
        "colab_type": "text"
      },
      "source": [
        "1. Introduction\n",
        "2. Imports\n",
        "3. Definitions\n",
        "4. Data cleaning and preprocessing\n",
        "5. Exploratory data analysis\n",
        "6. Feature engineering and selection\n",
        "7. Model building\n",
        "8. Results interpretation\n",
        "9. Conclusion"
      ]
    },
    {
      "cell_type": "markdown",
      "metadata": {
        "id": "CVmo1d8VTmHx",
        "colab_type": "text"
      },
      "source": [
        "## 1. Introduction"
      ]
    },
    {
      "cell_type": "markdown",
      "metadata": {
        "id": "tH-uogFCVA0r",
        "colab_type": "text"
      },
      "source": [
        "**Problem Landscape**\n",
        "\n",
        "*About Sendy:* Sendy is a platform established to enable businesses to transport goods efficently across East Africa. Sendy focuses on on building practical solutions for Africa's transportation needs, from developing apps and web solutions, to providing dedicated support for goods on the move.\n",
        "\n",
        "*Problem* Sendy would like to be able to predict the estimated time of delivery of orders from the point of driver pickup to the point of arrival at final destination.\n",
        "\n",
        "*Value* This will help Sendy improve customer experience by enhancing customer communication and improving service reliability. In addition, the solution will enable the realisation of cost savings through improved resource management.\n",
        "\n",
        "*Problem Statement*: **Build** a model to predict the estimated time of delivery of orders from the **`point of driver pickup`** to the **`point of arrival at final destination`**."
      ]
    },
    {
      "cell_type": "markdown",
      "metadata": {
        "id": "9gyOJVvsa1uL",
        "colab_type": "text"
      },
      "source": [
        "## 2. Imports"
      ]
    },
    {
      "cell_type": "markdown",
      "metadata": {
        "id": "vAQH-5jpRYqF",
        "colab_type": "text"
      },
      "source": [
        "!pip install bayesian-optimization\n",
        "!pip install geopy\n",
        "!pip install scikit-optimize"
      ]
    },
    {
      "cell_type": "markdown",
      "metadata": {
        "id": "G4GDFAPE5xds",
        "colab_type": "text"
      },
      "source": [
        "Packages"
      ]
    },
    {
      "cell_type": "code",
      "metadata": {
        "id": "ZUDvR6NIZfP2",
        "colab_type": "code",
        "colab": {}
      },
      "source": [
        "%%capture\n",
        "# Standard Imports\n",
        "import numpy as np\n",
        "import pandas as pd\n",
        "import datetime\n",
        "\n",
        "# Visualisations\n",
        "import matplotlib.pyplot as plt\n",
        "import seaborn as sns\n",
        "\n",
        "# Feature engineering\n",
        "import geopy.distance\n",
        "\n",
        "# Modelling\n",
        "from statsmodels.formula.api import ols\n",
        "from sklearn.preprocessing import StandardScaler\n",
        "from sklearn.model_selection import train_test_split, KFold\n",
        "from sklearn.model_selection import cross_val_score\n",
        "from sklearn.metrics import mean_squared_error\n",
        "from sklearn.linear_model import LinearRegression, Lasso\n",
        "from sklearn.ensemble import ExtraTreesRegressor, RandomForestRegressor\n",
        "from sklearn.ensemble import GradientBoostingRegressor, BaggingRegressor\n",
        "from sklearn.ensemble import AdaBoostRegressor\n",
        "from sklearn.tree import DecisionTreeRegressor\n",
        "\n",
        "import xgboost as xgb\n",
        "import lightgbm as lgb\n",
        "\n",
        "#tuning hyperparameters\n",
        "from bayes_opt import BayesianOptimization\n",
        "from skopt  import BayesSearchCV\n",
        "\n",
        "# Storing Model\n",
        "import pickle\n",
        "\n",
        "# Notebook Settings\n",
        "%matplotlib inline\n",
        "pd.options.display.max_columns = 60\n",
        "sns.set_style(\"whitegrid\")"
      ],
      "execution_count": 0,
      "outputs": []
    },
    {
      "cell_type": "markdown",
      "metadata": {
        "id": "8AL4-rdr51tr",
        "colab_type": "text"
      },
      "source": [
        "Data"
      ]
    },
    {
      "cell_type": "code",
      "metadata": {
        "id": "xkYuYEzfbQAP",
        "colab_type": "code",
        "colab": {}
      },
      "source": [
        "# URL to training and testing data\n",
        "trurl = 'https://raw.githubusercontent.com/Dominic-byte/Team-13-Regression-Predict/master/Train.csv'\n",
        "turl = 'https://raw.githubusercontent.com/Dominic-byte/Team-13-Regression-Predict/master/Test.csv'\n",
        "rurl = 'https://raw.githubusercontent.com/Dominic-byte/Team-13-Regression-Predict/master/Riders.csv'\n",
        "vurl = 'https://raw.githubusercontent.com/Dominic-byte/Team-13-Regression-Predict/master/VariableDefinitions.csv'\n",
        "\n",
        "# Loading datasets\n",
        "train_df = pd.read_csv(trurl, index_col=0)\n",
        "test_df = pd.read_csv(turl, index_col=0)\n",
        "riders_df = pd.read_csv(rurl)\n",
        "variables = pd.read_csv(vurl, index_col=0)"
      ],
      "execution_count": 0,
      "outputs": []
    },
    {
      "cell_type": "markdown",
      "metadata": {
        "id": "qYjMBH10fmFd",
        "colab_type": "text"
      },
      "source": [
        "## 3. Definitions"
      ]
    },
    {
      "cell_type": "code",
      "metadata": {
        "id": "LMN_CafzfwxW",
        "colab_type": "code",
        "outputId": "3bd65c60-aa3a-43b1-b120-274cebfccd3b",
        "colab": {
          "base_uri": "https://localhost:8080/"
        }
      },
      "source": [
        "pd.options.display.max_colwidth = 0\n",
        "variables"
      ],
      "execution_count": 0,
      "outputs": [
        {
          "output_type": "execute_result",
          "data": {
            "text/html": [
              "<div>\n",
              "<style scoped>\n",
              "    .dataframe tbody tr th:only-of-type {\n",
              "        vertical-align: middle;\n",
              "    }\n",
              "\n",
              "    .dataframe tbody tr th {\n",
              "        vertical-align: top;\n",
              "    }\n",
              "\n",
              "    .dataframe thead th {\n",
              "        text-align: right;\n",
              "    }\n",
              "</style>\n",
              "<table border=\"1\" class=\"dataframe\">\n",
              "  <thead>\n",
              "    <tr style=\"text-align: right;\">\n",
              "      <th></th>\n",
              "      <th>Unique number identifying the order</th>\n",
              "    </tr>\n",
              "    <tr>\n",
              "      <th>Order No</th>\n",
              "      <th></th>\n",
              "    </tr>\n",
              "  </thead>\n",
              "  <tbody>\n",
              "    <tr>\n",
              "      <th>User Id</th>\n",
              "      <td>Unique number identifying the customer on a platform</td>\n",
              "    </tr>\n",
              "    <tr>\n",
              "      <th>Vehicle Type</th>\n",
              "      <td>For this competition limited to bikes, however in practice Sendy service extends to trucks and vans</td>\n",
              "    </tr>\n",
              "    <tr>\n",
              "      <th>Platform Type</th>\n",
              "      <td>Platform used to place the order, there are 4 types</td>\n",
              "    </tr>\n",
              "    <tr>\n",
              "      <th>Personal or Business</th>\n",
              "      <td>Customer type</td>\n",
              "    </tr>\n",
              "    <tr>\n",
              "      <th>Placement - Day of Month</th>\n",
              "      <td>Placement - Day of Month i.e 1-31</td>\n",
              "    </tr>\n",
              "    <tr>\n",
              "      <th>Placement - Weekday (Mo = 1)</th>\n",
              "      <td>Placement - Weekday (Monday = 1)</td>\n",
              "    </tr>\n",
              "    <tr>\n",
              "      <th>Placement - Time</th>\n",
              "      <td>Placement - Time - Time of day the order was placed</td>\n",
              "    </tr>\n",
              "    <tr>\n",
              "      <th>Confirmation - Day of Month</th>\n",
              "      <td>Confirmation - Day of Month i.e 1-31</td>\n",
              "    </tr>\n",
              "    <tr>\n",
              "      <th>Confirmation - Weekday (Mo = 1)</th>\n",
              "      <td>Confirmation - Weekday (Monday = 1)</td>\n",
              "    </tr>\n",
              "    <tr>\n",
              "      <th>Confirmation - Time</th>\n",
              "      <td>Confirmation - Time - Time of day the order was confirmed by a rider</td>\n",
              "    </tr>\n",
              "    <tr>\n",
              "      <th>Arrival at Pickup - Day of Month</th>\n",
              "      <td>Arrival at Pickup - Day of Month i.e 1-31</td>\n",
              "    </tr>\n",
              "    <tr>\n",
              "      <th>Arrival at Pickup - Weekday (Mo = 1)</th>\n",
              "      <td>Arrival at Pickup - Weekday (Monday = 1)</td>\n",
              "    </tr>\n",
              "    <tr>\n",
              "      <th>Arrival at Pickup - Time</th>\n",
              "      <td>Time of day the the rider arrived at the location to pick up the order - as marked by the rider through the Sendy application</td>\n",
              "    </tr>\n",
              "    <tr>\n",
              "      <th>Pickup - Day of Month</th>\n",
              "      <td>Pickup - Day of Month i.e 1-31</td>\n",
              "    </tr>\n",
              "    <tr>\n",
              "      <th>Pickup - Weekday (Mo = 1)</th>\n",
              "      <td>Pickup - Weekday (Monday = 1)</td>\n",
              "    </tr>\n",
              "    <tr>\n",
              "      <th>Pickup - Time</th>\n",
              "      <td>Pickup - Time - Time of day the the rider picked up the order - as marked by the rider through the Sendy application</td>\n",
              "    </tr>\n",
              "    <tr>\n",
              "      <th>Arrival at Destination - Day of Month</th>\n",
              "      <td>Arrival at Delivery - Day of Month i.e 1-31</td>\n",
              "    </tr>\n",
              "    <tr>\n",
              "      <th>Arrival at Destination - Weekday (Mo = 1)</th>\n",
              "      <td>Arrival at Delivery - Weekday (Monday = 1)</td>\n",
              "    </tr>\n",
              "    <tr>\n",
              "      <th>Arrival at Destination - Time</th>\n",
              "      <td>Arrival at Delivery Time - Time of day the rider arrived at the destination to deliver the order - as marked by the rider through the Sendy application</td>\n",
              "    </tr>\n",
              "    <tr>\n",
              "      <th>Distance (KM)</th>\n",
              "      <td>The distance from Pickup to Destination</td>\n",
              "    </tr>\n",
              "    <tr>\n",
              "      <th>Temperature</th>\n",
              "      <td>Temperature at the time of order placement in Degrees Celsius (measured every three hours)</td>\n",
              "    </tr>\n",
              "    <tr>\n",
              "      <th>Precipitation in millimeters</th>\n",
              "      <td>Precipitation at the time of order placement (measured every three hours)</td>\n",
              "    </tr>\n",
              "    <tr>\n",
              "      <th>Pickup Lat</th>\n",
              "      <td>Latitude of pick up location</td>\n",
              "    </tr>\n",
              "    <tr>\n",
              "      <th>Pickup Long</th>\n",
              "      <td>Longitude of pick up location</td>\n",
              "    </tr>\n",
              "    <tr>\n",
              "      <th>Destination Lat</th>\n",
              "      <td>Latitude of delivery location</td>\n",
              "    </tr>\n",
              "    <tr>\n",
              "      <th>Destination Long</th>\n",
              "      <td>Longitude of delivery location</td>\n",
              "    </tr>\n",
              "    <tr>\n",
              "      <th>Rider Id</th>\n",
              "      <td>ID of the Rider who accepted the order</td>\n",
              "    </tr>\n",
              "    <tr>\n",
              "      <th>Time from Pickup to Arrival</th>\n",
              "      <td>Time in seconds between 'Pickup' and 'Arrival at Destination' - calculated from the columns for the purpose of facilitating the task</td>\n",
              "    </tr>\n",
              "    <tr>\n",
              "      <th>NaN</th>\n",
              "      <td>NaN</td>\n",
              "    </tr>\n",
              "    <tr>\n",
              "      <th>Rider Metrics</th>\n",
              "      <td>NaN</td>\n",
              "    </tr>\n",
              "    <tr>\n",
              "      <th>Rider Id</th>\n",
              "      <td>Unique number identifying the rider (same as in order details)</td>\n",
              "    </tr>\n",
              "    <tr>\n",
              "      <th>No_Of_Orders</th>\n",
              "      <td>Number of Orders the rider has delivered</td>\n",
              "    </tr>\n",
              "    <tr>\n",
              "      <th>Age</th>\n",
              "      <td>Number of days since the rider delivered the first order</td>\n",
              "    </tr>\n",
              "    <tr>\n",
              "      <th>Average_Rating</th>\n",
              "      <td>Average rating of the rider</td>\n",
              "    </tr>\n",
              "    <tr>\n",
              "      <th>No_of_Ratings</th>\n",
              "      <td>Number of ratings the rider has received. Rating an order is optional for the customer.</td>\n",
              "    </tr>\n",
              "  </tbody>\n",
              "</table>\n",
              "</div>"
            ],
            "text/plain": [
              "                                                                                                                                                               Unique number identifying the order\n",
              "Order No                                                                                                                                                                                          \n",
              "User Id                                    Unique number identifying the customer on a platform                                                                                                   \n",
              "Vehicle Type                               For this competition limited to bikes, however in practice Sendy service extends to trucks and vans                                                    \n",
              "Platform Type                              Platform used to place the order, there are 4 types                                                                                                    \n",
              "Personal or Business                       Customer type                                                                                                                                          \n",
              "Placement - Day of Month                   Placement - Day of Month i.e 1-31                                                                                                                      \n",
              "Placement - Weekday (Mo = 1)               Placement - Weekday (Monday = 1)                                                                                                                       \n",
              "Placement - Time                           Placement - Time - Time of day the order was placed                                                                                                    \n",
              "Confirmation - Day of Month                Confirmation - Day of Month i.e 1-31                                                                                                                   \n",
              "Confirmation - Weekday (Mo = 1)            Confirmation - Weekday (Monday = 1)                                                                                                                    \n",
              "Confirmation - Time                        Confirmation - Time - Time of day the order was confirmed by a rider                                                                                   \n",
              "Arrival at Pickup - Day of Month           Arrival at Pickup - Day of Month i.e 1-31                                                                                                              \n",
              "Arrival at Pickup - Weekday (Mo = 1)       Arrival at Pickup - Weekday (Monday = 1)                                                                                                               \n",
              "Arrival at Pickup - Time                   Time of day the the rider arrived at the location to pick up the order - as marked by the rider through the Sendy application                          \n",
              "Pickup - Day of Month                      Pickup - Day of Month i.e 1-31                                                                                                                         \n",
              "Pickup - Weekday (Mo = 1)                  Pickup - Weekday (Monday = 1)                                                                                                                          \n",
              "Pickup - Time                              Pickup - Time - Time of day the the rider picked up the order - as marked by the rider through the Sendy application                                   \n",
              "Arrival at Destination - Day of Month      Arrival at Delivery - Day of Month i.e 1-31                                                                                                            \n",
              "Arrival at Destination - Weekday (Mo = 1)  Arrival at Delivery - Weekday (Monday = 1)                                                                                                             \n",
              "Arrival at Destination - Time              Arrival at Delivery Time - Time of day the rider arrived at the destination to deliver the order - as marked by the rider through the Sendy application\n",
              "Distance (KM)                              The distance from Pickup to Destination                                                                                                                \n",
              "Temperature                                Temperature at the time of order placement in Degrees Celsius (measured every three hours)                                                             \n",
              "Precipitation in millimeters                Precipitation at the time of order placement (measured every three hours)                                                                             \n",
              "Pickup Lat                                 Latitude of pick up location                                                                                                                           \n",
              "Pickup Long                                Longitude of pick up location                                                                                                                          \n",
              "Destination Lat                            Latitude of delivery location                                                                                                                          \n",
              "Destination Long                           Longitude of delivery location                                                                                                                         \n",
              "Rider Id                                    ID of the Rider who accepted the order                                                                                                                \n",
              "Time from Pickup to Arrival                Time in seconds between 'Pickup' and 'Arrival at Destination' - calculated from the columns for the purpose of facilitating the task                   \n",
              "NaN                                        NaN                                                                                                                                                    \n",
              "Rider Metrics                              NaN                                                                                                                                                    \n",
              "Rider Id                                   Unique number identifying the rider (same as in order details)                                                                                         \n",
              "No_Of_Orders                                Number of Orders the rider has delivered                                                                                                              \n",
              "Age                                        Number of days since the rider delivered the first order                                                                                               \n",
              "Average_Rating                             Average rating of the rider                                                                                                                            \n",
              "No_of_Ratings                               Number of ratings the rider has received. Rating an order is optional for the customer.                                                               "
            ]
          },
          "metadata": {
            "tags": []
          },
          "execution_count": 3
        }
      ]
    },
    {
      "cell_type": "code",
      "metadata": {
        "id": "YzMq0AnTf1uB",
        "colab_type": "code",
        "colab": {}
      },
      "source": [
        "pd.options.display.max_colwidth = 50"
      ],
      "execution_count": 0,
      "outputs": []
    },
    {
      "cell_type": "code",
      "metadata": {
        "id": "o4kH1WhVGotN",
        "colab_type": "code",
        "colab": {}
      },
      "source": [
        "def col_rename(df):\n",
        "  \"\"\"Function that renames columns and drops columns that \n",
        "  were not used in the test set\n",
        "  Parameters\n",
        "  ----------\n",
        "  df: DataFrame\n",
        "          input df to rename columns for\n",
        "  Returns\n",
        "  -------\n",
        "  new_df: DataFrame\n",
        "          output df with renamed and dropped columns\n",
        "          as well as a printout of dropped columns\n",
        "  \"\"\"\n",
        "  static_dict = {\"Order No\":\"Order No\",\"User Id\":\"User Id\",\"Vehicle Type\":\"Vehicle Type\",\"Platform Type\":\"Platform\",\n",
        "        \"Personal or Business\":\"Pers Business\",\"Placement - Day of Month\":\"Place DoM\",\n",
        "        \"Placement - Weekday (Mo = 1)\":\"Place Weekday\",\"Placement - Time\":\"Place Time\",\n",
        "        \"Confirmation - Day of Month\":\"Confirm DoM\",\"Confirmation - Weekday (Mo = 1)\":\"Confirm Weekday\",\n",
        "        \"Confirmation - Time\":\"Confirm Time\",\"Arrival at Pickup - Day of Month\":\"Arr Pickup DoM\",\n",
        "        \"Arrival at Pickup - Weekday (Mo = 1)\":\"Arr Pickup Weekday\",\"Arrival at Pickup - Time\":\"Arr Pickup Time\",\n",
        "        \"Pickup - Day of Month\":\"Pickup DoM\",\"Pickup - Weekday (Mo = 1)\":\"Pickup Weekday\",\"Pickup - Time\":\"Pickup Time\",\n",
        "        \"Distance (KM)\":\"Distance KM\",\"Temperature\":\"Temperature\",\"Precipitation in millimeters\":\"Precipitation mm\",\n",
        "        \"Pickup Lat\":\"Pickup Lat\",\"Pickup Long\":\"Pickup Long\",\"Destination Lat\":\"Destination Lat\",\"Time from Pickup to Arrival\":\"Time from Pickup to Arrival\",\n",
        "        \"Destination Long\":\"Destination Long\",\"Rider Id\":\"Rider Id\"}\n",
        "  new_df = df.copy()\n",
        "  new_cols = {}\n",
        "  droplist = []\n",
        "  for col in new_df.columns:\n",
        "    if col in static_dict.keys():\n",
        "      new_cols[col] = static_dict[col].replace(\" \",\"_\")\n",
        "    else:\n",
        "      droplist.append(col)\n",
        "  new_df.rename(columns = new_cols, inplace=True)\n",
        "  for col in droplist:\n",
        "    if col in new_df.index:\n",
        "      return new_df.drop(columns=droplist, inplace=True)\n",
        "  return new_df"
      ],
      "execution_count": 0,
      "outputs": []
    },
    {
      "cell_type": "code",
      "metadata": {
        "id": "9qBdKFL4KiZG",
        "colab_type": "code",
        "colab": {}
      },
      "source": [
        "atrain_df  = col_rename(train_df)\n",
        "atest_df =  col_rename(test_df)\n",
        "ariders_df = col_rename(riders_df)"
      ],
      "execution_count": 0,
      "outputs": []
    },
    {
      "cell_type": "code",
      "metadata": {
        "id": "sIz79vKhZXHy",
        "colab_type": "code",
        "outputId": "875f7d24-fdfd-4365-e979-667d37cc39a1",
        "colab": {
          "base_uri": "https://localhost:8080/"
        }
      },
      "source": [
        "for col in atrain_df.columns:\n",
        "    if col not in atest_df.columns and col != 'Time_from_Pickup_to_Arrival':\n",
        "        print(col)\n",
        "        atrain_df.drop(columns=col, inplace = True)"
      ],
      "execution_count": 0,
      "outputs": [
        {
          "output_type": "stream",
          "text": [
            "Arrival at Destination - Day of Month\n",
            "Arrival at Destination - Weekday (Mo = 1)\n",
            "Arrival at Destination - Time\n"
          ],
          "name": "stdout"
        }
      ]
    },
    {
      "cell_type": "code",
      "metadata": {
        "id": "Zygc5FEeTAGZ",
        "colab_type": "code",
        "outputId": "c555f20e-2fd1-41b9-bd6f-63ff7e86825b",
        "colab": {
          "base_uri": "https://localhost:8080/"
        }
      },
      "source": [
        "# Storing variable names and test index\n",
        "train_columns = atrain_df.columns\n",
        "test_columns = atest_df.columns\n",
        "riders_columns = ariders_df.columns\n",
        "test_index = atest_df.index\n",
        "target = train_columns[-1]\n",
        "\n",
        "# Inspect data\n",
        "print(train_df.shape, test_df.shape, riders_df.shape)\n",
        "train_df.head(3)\n",
        "print(target)"
      ],
      "execution_count": 0,
      "outputs": [
        {
          "output_type": "stream",
          "text": [
            "(21201, 28) (7068, 24) (960, 5)\n",
            "Time_from_Pickup_to_Arrival\n"
          ],
          "name": "stdout"
        }
      ]
    },
    {
      "cell_type": "markdown",
      "metadata": {
        "id": "dsAYGVL6gf0l",
        "colab_type": "text"
      },
      "source": [
        "## 4. Data cleaning and preprocessing (BBP)"
      ]
    },
    {
      "cell_type": "code",
      "metadata": {
        "id": "S4NfA0gvgnza",
        "colab_type": "code",
        "outputId": "032b6257-8d29-4942-9d5a-0f96344e7a2b",
        "colab": {
          "base_uri": "https://localhost:8080/"
        }
      },
      "source": [
        "pd.merge(atrain_df, ariders_df, how='left', on='Rider_Id').info()"
      ],
      "execution_count": 0,
      "outputs": [
        {
          "output_type": "stream",
          "text": [
            "<class 'pandas.core.frame.DataFrame'>\n",
            "Int64Index: 21201 entries, 0 to 21200\n",
            "Data columns (total 29 columns):\n",
            " #   Column                       Non-Null Count  Dtype  \n",
            "---  ------                       --------------  -----  \n",
            " 0   User_Id                      21201 non-null  object \n",
            " 1   Vehicle_Type                 21201 non-null  object \n",
            " 2   Platform                     21201 non-null  int64  \n",
            " 3   Pers_Business                21201 non-null  object \n",
            " 4   Place_DoM                    21201 non-null  int64  \n",
            " 5   Place_Weekday                21201 non-null  int64  \n",
            " 6   Place_Time                   21201 non-null  object \n",
            " 7   Confirm_DoM                  21201 non-null  int64  \n",
            " 8   Confirm_Weekday              21201 non-null  int64  \n",
            " 9   Confirm_Time                 21201 non-null  object \n",
            " 10  Arr_Pickup_DoM               21201 non-null  int64  \n",
            " 11  Arr_Pickup_Weekday           21201 non-null  int64  \n",
            " 12  Arr_Pickup_Time              21201 non-null  object \n",
            " 13  Pickup_DoM                   21201 non-null  int64  \n",
            " 14  Pickup_Weekday               21201 non-null  int64  \n",
            " 15  Pickup_Time                  21201 non-null  object \n",
            " 16  Distance_KM                  21201 non-null  int64  \n",
            " 17  Temperature                  16835 non-null  float64\n",
            " 18  Precipitation_mm             552 non-null    float64\n",
            " 19  Pickup_Lat                   21201 non-null  float64\n",
            " 20  Pickup_Long                  21201 non-null  float64\n",
            " 21  Destination_Lat              21201 non-null  float64\n",
            " 22  Destination_Long             21201 non-null  float64\n",
            " 23  Rider_Id                     21201 non-null  object \n",
            " 24  Time_from_Pickup_to_Arrival  21201 non-null  int64  \n",
            " 25  No_Of_Orders                 21201 non-null  int64  \n",
            " 26  Age                          21201 non-null  int64  \n",
            " 27  Average_Rating               21201 non-null  float64\n",
            " 28  No_of_Ratings                21201 non-null  int64  \n",
            "dtypes: float64(7), int64(14), object(8)\n",
            "memory usage: 4.9+ MB\n"
          ],
          "name": "stdout"
        }
      ]
    },
    {
      "cell_type": "markdown",
      "metadata": {
        "id": "ebiohcLYg107",
        "colab_type": "text"
      },
      "source": [
        "### a. Data types"
      ]
    },
    {
      "cell_type": "markdown",
      "metadata": {
        "id": "MBHPWVZyk_zq",
        "colab_type": "text"
      },
      "source": [
        "** *italicized text*Numerical**\n",
        "- Ratio\n",
        "  - *Number of Orders*\n",
        "    - It is possible to have no orders, making this a ratio.\n",
        "    - This may indicate \n",
        "  - *Age*\n",
        "  - *Number of Ratings*\n",
        "  - *Time from pickup to arrival* - Target\n",
        "  - *Geospatial Distance*`\n",
        "- Interval\n",
        "  - *Time (Placement, Confimation, Arrival, etc)* \n",
        "  - *Distance (KM)*\n",
        "  - *Temperature*\n",
        "  - *Precipitation*\n",
        "  - *Co-ordinates*\n",
        "\n",
        "**Categorical**\n",
        "- Nominal\n",
        "  - *User Id*\n",
        "    - This is categorical as it only varies in the user that has\\\n",
        "      placed the order.\n",
        "    - It may be possible to determine the most frequent customers\\\n",
        "      who may receive a higher quality of service from drivers.\n",
        "  - *Vehicle Type*\n",
        "    - The type of vehicle used would ordinarily have an impact on\\\n",
        "      delivery time as a motorcycle would be faster than a truck.\n",
        "    - Since there is only one vehicle type to consider (bike)\\\n",
        "      there is no value to be gained from this data\n",
        "  - *Platform Type*\n",
        "    - The source of order placement is qualitative and may give\\\n",
        "      information about the level of service delivery for the\\\n",
        "      various platforms. More frequently used platforms may be\\\n",
        "      serviced better by drivers as they may provide a steady\\\n",
        "      stream of customers.\n",
        "    - The platform can only take on the values from 1 to 4 and\\\n",
        "      should be stored as an `int16`\n",
        "  - *Personal or Business*\n",
        "    - Business orders are likely to be frequent and and located\\\n",
        "      near central business district, whereas personal orders\\\n",
        "      may require further travel to suburban areas. This could\\\n",
        "      have an effect on the travel time.\n",
        "  - *Day of month (Placement, Confimation, Arrival, etc)*\n",
        "    - The day of month can only vary in its quality. There may\\\n",
        "      more or less orders placed on a given day of the month.\\\n",
        "    - Since the values of day of month can take on values between\\\n",
        "      1 and 31 it would be most effecient to store it as an `int16`\\\n",
        "      instead of `int64` which is for larger numbers.\n",
        "    - It may be that more orders are placed on certain days that\\\n",
        "      would result in longer delivery times.    \n",
        "  - *Weekday*\n",
        "    - Businesses typically operate on weekdays. It would logically\\\n",
        "      follow that weekdays are busier than weekends resulting in\\\n",
        "      longer delivery times due  to traffic or the volume of\\\n",
        "      orders.\n",
        "    - Since the weekday is represented by 1 to 7, it should be\\\n",
        "      stored as an `int16`\n",
        "    - *Rider Id*\n",
        "\n",
        "- Ordinal\n",
        "  - *Average rating*\n",
        "    - Drivers are usually rated on a scale from one to 5. As a driver\\\n",
        "      recieves more ratings, the will begin to settle around their\\\n",
        "      true score. This score could reflect the driver's performance\\\n",
        "      with respect to timeliness.\n",
        "\n",
        "**Continuous data**\n",
        "\n",
        "The evaluation of continuous data is that they are values that can assume and value over a specific range. We will now look at all the features that represent continuous characteristics and evaluate thenon our explanatory data analysis\n",
        "\n",
        "- Time(Placement, Arrival, Pickup etc)\n",
        " - Times can occur at and given instance in a 24hr range. Due to the flexible nature of time given in hrs, minutes and seconds it is safe to say this follows a continuous scale\n",
        " -Times can occur at any moment and the column value shows the randomness of that time.\n",
        "Time is saved as objects(string values). The idea is to save them as date time objects and extract meaningful insights on the different times\n",
        " - We will gather insights from extracting hour, minutes and seconds data from the datetime objects\n",
        "\n",
        "- Latitutude and Longitude data(Pickup Long and Lat, Destination Long and lat)\n",
        "\n",
        " - Lat and Long information depicts every location to be represented by a scale of numbers on Earth. Now these numbers may exist on the span of the entire globe since the earth is very big. \n",
        " - Since  continuous in nature. We would like to gather insights by using geopy library to get exact distance\n",
        "\n",
        "- Temperature\n",
        "  - Temperature is a continuous variable due to its ability to take any value from a set of real numbers between -273 degrees Celsius to positive infinity.\n",
        "  - It is currently saved as float64, we can take it down to int16 because the values are not large enoough to take on that value\n",
        "  - Contains missing values, we would like to see the best strategy to fill the missing values with\n",
        "\n",
        "- Precipitation in millimeters\n",
        " - Precipitation is a contiuous scale due to it being able to assume any value from zero to infinity. \n",
        " - It is also saved as an float64 and we can take down to float16 due to the numbers not being too large\n",
        " - Large Quantity of missing values, we will investing gather what is the best strategy to deal with the missing values\n"
      ]
    },
    {
      "cell_type": "markdown",
      "metadata": {
        "id": "P5Op6JNbArOn",
        "colab_type": "text"
      },
      "source": [
        "### b. Cleaning functions"
      ]
    },
    {
      "cell_type": "code",
      "metadata": {
        "id": "BNpmt19EYwGM",
        "colab_type": "code",
        "colab": {}
      },
      "source": [
        "def data_preprocessing(df):\n",
        "  \"\"\"Function that preprocesses data used for predictions and testing\n",
        "  Parameters\n",
        "  ----------\n",
        "  df: DataFrame\n",
        "          DataFrame to preprocess.\n",
        "  Returns\n",
        "  -------\n",
        "  df: DataFrame\n",
        "          Preprocessed DataFrame\n",
        "\n",
        "  \"\"\"\n",
        "  cdf = df.copy()\n",
        "  old = cdf.memory_usage().sum()\n",
        "  # Create lists of columns to change\n",
        "  integers = [col for col in cdf.columns if cdf[col].dtypes == 'int64']\n",
        "  floats = [col for col in cdf.columns if cdf[col].dtypes == 'float64']\n",
        "  time_cols = [col for col in cdf.columns if col.endswith(\"Time\")]\n",
        "\n",
        "  # Reduce size of data storage types\n",
        "  cdf[integers] = cdf[integers].astype('int16')\n",
        "  cdf[floats] = cdf[floats].astype('float16')\n",
        "  for col in time_cols:\n",
        "    cdf[col] = pd.to_datetime(cdf[col])\n",
        "    cdf[col] = [time.time() for time in cdf[col]]\n",
        "    cdf[col] = cdf[col].apply(lambda x: x.hour)\n",
        "  # Correcting specific columns\n",
        "  if 'Distance (KM)' in cdf.columns:\n",
        "    cdf['Distance (KM)'] = cdf['Distance (KM)'].astype('float16') \n",
        "\n",
        "  new = cdf.memory_usage().sum()\n",
        "  print(\"Bytes\\t\",\"\\nOld:\\t\", str(old), \"\\nNew:\\t\", \"(\"+str(new)+\")\", \"\\nSaved:\\t\", str(old - new))\n",
        "  return cdf"
      ],
      "execution_count": 0,
      "outputs": []
    },
    {
      "cell_type": "code",
      "metadata": {
        "id": "cd6EF4eazKzB",
        "colab_type": "code",
        "colab": {}
      },
      "source": [
        "%%capture [--no-display]\n",
        "# Store transformations in EDA DataFrame\n",
        "eda_df, eda_test, eda_riders = data_preprocessing(atrain_df), data_preprocessing(atest_df), data_preprocessing(ariders_df)"
      ],
      "execution_count": 0,
      "outputs": []
    },
    {
      "cell_type": "markdown",
      "metadata": {
        "id": "bjIOpRPArj63",
        "colab_type": "text"
      },
      "source": [
        "## 5. Data Exploration and preparation"
      ]
    },
    {
      "cell_type": "markdown",
      "metadata": {
        "id": "EvKxCBEZ40F0",
        "colab_type": "text"
      },
      "source": [
        "### a. Exploratory data analysis\n"
      ]
    },
    {
      "cell_type": "markdown",
      "metadata": {
        "id": "Y-Z4j7DAvCHA",
        "colab_type": "text"
      },
      "source": [
        "#### 1. Target - Time from Pickup to Arrival"
      ]
    },
    {
      "cell_type": "code",
      "metadata": {
        "id": "brB30PHpvYS5",
        "colab_type": "code",
        "outputId": "6a449e7e-059f-4594-9398-462dfc5b7143",
        "colab": {
          "base_uri": "https://localhost:8080/"
        }
      },
      "source": [
        "# Confirming the caluclation of the Target\n",
        "Target = pd.to_datetime(train_df['Arrival at Destination - Time']) - pd.to_datetime(train_df['Pickup - Time'])\n",
        "list(Target.dt.seconds[:]) == list(atrain_df[target][:])"
      ],
      "execution_count": 0,
      "outputs": [
        {
          "output_type": "execute_result",
          "data": {
            "text/plain": [
              "True"
            ]
          },
          "metadata": {
            "tags": []
          },
          "execution_count": 12
        }
      ]
    },
    {
      "cell_type": "code",
      "metadata": {
        "id": "NV_QVGhm5BLD",
        "colab_type": "code",
        "outputId": "9f2fdd9e-dcb3-4414-db57-9e4a834cd2ca",
        "colab": {
          "base_uri": "https://localhost:8080/"
        }
      },
      "source": [
        "eda_df[target].describe()"
      ],
      "execution_count": 0,
      "outputs": [
        {
          "output_type": "execute_result",
          "data": {
            "text/plain": [
              "count    21201.000000\n",
              "mean      1556.920947\n",
              "std        987.270788\n",
              "min          1.000000\n",
              "25%        882.000000\n",
              "50%       1369.000000\n",
              "75%       2040.000000\n",
              "max       7883.000000\n",
              "Name: Time_from_Pickup_to_Arrival, dtype: float64"
            ]
          },
          "metadata": {
            "tags": []
          },
          "execution_count": 13
        }
      ]
    },
    {
      "cell_type": "markdown",
      "metadata": {
        "id": "09KwDJqP9D-Q",
        "colab_type": "text"
      },
      "source": [
        "**Analysis:** **Measures of central tendency**"
      ]
    },
    {
      "cell_type": "code",
      "metadata": {
        "id": "_Ha9Rp4Hy1Pq",
        "colab_type": "code",
        "outputId": "f21a13cf-2548-4fcc-a4d0-890c9f8b1d5f",
        "colab": {
          "base_uri": "https://localhost:8080/"
        }
      },
      "source": [
        "# Histogram\n",
        "fig = plt.figure(figsize=(12,4))\n",
        "sns.violinplot(eda_df[target]/60)\n",
        "plt.title('Distribution of Delivery times (target)\\n')\n",
        "plt.xlabel('\\n'+target+' in minutes')\n",
        "plt.ylabel(\"Probability\")\n",
        "plt.show()"
      ],
      "execution_count": 0,
      "outputs": [
        {
          "output_type": "display_data",
          "data": {
            "image/png": "[encoded data removed]",
            "text/plain": [
              "<Figure size 864x288 with 1 Axes>"
            ]
          },
          "metadata": {
            "tags": [],
            "needs_background": "light"
          }
        }
      ]
    },
    {
      "cell_type": "code",
      "metadata": {
        "id": "R4zIBKqh8vyD",
        "colab_type": "code",
        "outputId": "1e0d9263-2a7b-4438-8951-56b353f6beb2",
        "colab": {
          "base_uri": "https://localhost:8080/"
        }
      },
      "source": [
        "train_df.columns"
      ],
      "execution_count": 0,
      "outputs": [
        {
          "output_type": "execute_result",
          "data": {
            "text/plain": [
              "Index(['User Id', 'Vehicle Type', 'Platform Type', 'Personal or Business',\n",
              "       'Placement - Day of Month', 'Placement - Weekday (Mo = 1)',\n",
              "       'Placement - Time', 'Confirmation - Day of Month',\n",
              "       'Confirmation - Weekday (Mo = 1)', 'Confirmation - Time',\n",
              "       'Arrival at Pickup - Day of Month',\n",
              "       'Arrival at Pickup - Weekday (Mo = 1)', 'Arrival at Pickup - Time',\n",
              "       'Pickup - Day of Month', 'Pickup - Weekday (Mo = 1)', 'Pickup - Time',\n",
              "       'Arrival at Destination - Day of Month',\n",
              "       'Arrival at Destination - Weekday (Mo = 1)',\n",
              "       'Arrival at Destination - Time', 'Distance (KM)', 'Temperature',\n",
              "       'Precipitation in millimeters', 'Pickup Lat', 'Pickup Long',\n",
              "       'Destination Lat', 'Destination Long', 'Rider Id',\n",
              "       'Time from Pickup to Arrival'],\n",
              "      dtype='object')"
            ]
          },
          "metadata": {
            "tags": []
          },
          "execution_count": 15
        }
      ]
    },
    {
      "cell_type": "markdown",
      "metadata": {
        "id": "T3QVEaFi-ems",
        "colab_type": "text"
      },
      "source": [
        "#### 2. Univariate analysis (D)"
      ]
    },
    {
      "cell_type": "markdown",
      "metadata": {
        "id": "TuNV19PkhRKL",
        "colab_type": "text"
      },
      "source": [
        "2.1 Numerical"
      ]
    },
    {
      "cell_type": "code",
      "metadata": {
        "id": "0kh34pzciW3M",
        "colab_type": "code",
        "outputId": "2e3202d6-35a5-412f-8c68-cc6f517ffaed",
        "colab": {
          "base_uri": "https://localhost:8080/",
          "height": 317
        }
      },
      "source": [
        "#Analysing the features based on one variable type\n",
        "col_numerical = [col for col in eda_df.columns if eda_df[col].dtypes != 'object' and col !=target]\n",
        "eda_df[col_numerical].describe()"
      ],
      "execution_count": 0,
      "outputs": [
        {
          "output_type": "execute_result",
          "data": {
            "text/html": [
              "<div>\n",
              "<style scoped>\n",
              "    .dataframe tbody tr th:only-of-type {\n",
              "        vertical-align: middle;\n",
              "    }\n",
              "\n",
              "    .dataframe tbody tr th {\n",
              "        vertical-align: top;\n",
              "    }\n",
              "\n",
              "    .dataframe thead th {\n",
              "        text-align: right;\n",
              "    }\n",
              "</style>\n",
              "<table border=\"1\" class=\"dataframe\">\n",
              "  <thead>\n",
              "    <tr style=\"text-align: right;\">\n",
              "      <th></th>\n",
              "      <th>Platform</th>\n",
              "      <th>Place_DoM</th>\n",
              "      <th>Place_Weekday</th>\n",
              "      <th>Place_Time</th>\n",
              "      <th>Confirm_DoM</th>\n",
              "      <th>Confirm_Weekday</th>\n",
              "      <th>Confirm_Time</th>\n",
              "      <th>Arr_Pickup_DoM</th>\n",
              "      <th>Arr_Pickup_Weekday</th>\n",
              "      <th>Arr_Pickup_Time</th>\n",
              "      <th>Pickup_DoM</th>\n",
              "      <th>Pickup_Weekday</th>\n",
              "      <th>Pickup_Time</th>\n",
              "      <th>Distance_KM</th>\n",
              "      <th>Temperature</th>\n",
              "      <th>Precipitation_mm</th>\n",
              "      <th>Pickup_Lat</th>\n",
              "      <th>Pickup_Long</th>\n",
              "      <th>Destination_Lat</th>\n",
              "      <th>Destination_Long</th>\n",
              "    </tr>\n",
              "  </thead>\n",
              "  <tbody>\n",
              "    <tr>\n",
              "      <th>count</th>\n",
              "      <td>21201.000000</td>\n",
              "      <td>21201.000000</td>\n",
              "      <td>21201.000000</td>\n",
              "      <td>21201.000000</td>\n",
              "      <td>21201.000000</td>\n",
              "      <td>21201.000000</td>\n",
              "      <td>21201.000000</td>\n",
              "      <td>21201.000000</td>\n",
              "      <td>21201.000000</td>\n",
              "      <td>21201.000000</td>\n",
              "      <td>21201.000000</td>\n",
              "      <td>21201.000000</td>\n",
              "      <td>21201.000000</td>\n",
              "      <td>21201.000000</td>\n",
              "      <td>1.683500e+04</td>\n",
              "      <td>552.000000</td>\n",
              "      <td>21201.000000</td>\n",
              "      <td>2.120100e+04</td>\n",
              "      <td>21201.000000</td>\n",
              "      <td>2.120100e+04</td>\n",
              "    </tr>\n",
              "    <tr>\n",
              "      <th>mean</th>\n",
              "      <td>2.752182</td>\n",
              "      <td>15.653696</td>\n",
              "      <td>3.240083</td>\n",
              "      <td>12.326824</td>\n",
              "      <td>15.653837</td>\n",
              "      <td>3.240225</td>\n",
              "      <td>12.447998</td>\n",
              "      <td>15.653837</td>\n",
              "      <td>3.240225</td>\n",
              "      <td>12.663223</td>\n",
              "      <td>15.653837</td>\n",
              "      <td>3.240225</td>\n",
              "      <td>12.873214</td>\n",
              "      <td>9.506533</td>\n",
              "      <td>inf</td>\n",
              "      <td>7.906250</td>\n",
              "      <td>-1.281250</td>\n",
              "      <td>inf</td>\n",
              "      <td>-1.282227</td>\n",
              "      <td>inf</td>\n",
              "    </tr>\n",
              "    <tr>\n",
              "      <th>std</th>\n",
              "      <td>0.625178</td>\n",
              "      <td>8.798916</td>\n",
              "      <td>1.567295</td>\n",
              "      <td>2.541007</td>\n",
              "      <td>8.798886</td>\n",
              "      <td>1.567228</td>\n",
              "      <td>2.556059</td>\n",
              "      <td>8.798886</td>\n",
              "      <td>1.567228</td>\n",
              "      <td>2.558333</td>\n",
              "      <td>8.798886</td>\n",
              "      <td>1.567228</td>\n",
              "      <td>2.551666</td>\n",
              "      <td>5.668963</td>\n",
              "      <td>3.617188e+00</td>\n",
              "      <td>17.093750</td>\n",
              "      <td>0.030548</td>\n",
              "      <td>3.918457e-02</td>\n",
              "      <td>0.034851</td>\n",
              "      <td>4.562378e-02</td>\n",
              "    </tr>\n",
              "    <tr>\n",
              "      <th>min</th>\n",
              "      <td>1.000000</td>\n",
              "      <td>1.000000</td>\n",
              "      <td>1.000000</td>\n",
              "      <td>0.000000</td>\n",
              "      <td>1.000000</td>\n",
              "      <td>1.000000</td>\n",
              "      <td>0.000000</td>\n",
              "      <td>1.000000</td>\n",
              "      <td>1.000000</td>\n",
              "      <td>0.000000</td>\n",
              "      <td>1.000000</td>\n",
              "      <td>1.000000</td>\n",
              "      <td>0.000000</td>\n",
              "      <td>1.000000</td>\n",
              "      <td>1.120312e+01</td>\n",
              "      <td>0.099976</td>\n",
              "      <td>-1.438477</td>\n",
              "      <td>3.665625e+01</td>\n",
              "      <td>-1.430664</td>\n",
              "      <td>3.659375e+01</td>\n",
              "    </tr>\n",
              "    <tr>\n",
              "      <th>25%</th>\n",
              "      <td>3.000000</td>\n",
              "      <td>8.000000</td>\n",
              "      <td>2.000000</td>\n",
              "      <td>10.000000</td>\n",
              "      <td>8.000000</td>\n",
              "      <td>2.000000</td>\n",
              "      <td>10.000000</td>\n",
              "      <td>8.000000</td>\n",
              "      <td>2.000000</td>\n",
              "      <td>11.000000</td>\n",
              "      <td>8.000000</td>\n",
              "      <td>2.000000</td>\n",
              "      <td>11.000000</td>\n",
              "      <td>5.000000</td>\n",
              "      <td>2.059375e+01</td>\n",
              "      <td>1.074219</td>\n",
              "      <td>-1.300781</td>\n",
              "      <td>3.678125e+01</td>\n",
              "      <td>-1.300781</td>\n",
              "      <td>3.678125e+01</td>\n",
              "    </tr>\n",
              "    <tr>\n",
              "      <th>50%</th>\n",
              "      <td>3.000000</td>\n",
              "      <td>15.000000</td>\n",
              "      <td>3.000000</td>\n",
              "      <td>12.000000</td>\n",
              "      <td>15.000000</td>\n",
              "      <td>3.000000</td>\n",
              "      <td>12.000000</td>\n",
              "      <td>15.000000</td>\n",
              "      <td>3.000000</td>\n",
              "      <td>13.000000</td>\n",
              "      <td>15.000000</td>\n",
              "      <td>3.000000</td>\n",
              "      <td>13.000000</td>\n",
              "      <td>8.000000</td>\n",
              "      <td>2.350000e+01</td>\n",
              "      <td>2.900391</td>\n",
              "      <td>-1.279297</td>\n",
              "      <td>3.681250e+01</td>\n",
              "      <td>-1.284180</td>\n",
              "      <td>3.681250e+01</td>\n",
              "    </tr>\n",
              "    <tr>\n",
              "      <th>75%</th>\n",
              "      <td>3.000000</td>\n",
              "      <td>23.000000</td>\n",
              "      <td>5.000000</td>\n",
              "      <td>14.000000</td>\n",
              "      <td>23.000000</td>\n",
              "      <td>5.000000</td>\n",
              "      <td>14.000000</td>\n",
              "      <td>23.000000</td>\n",
              "      <td>5.000000</td>\n",
              "      <td>15.000000</td>\n",
              "      <td>23.000000</td>\n",
              "      <td>5.000000</td>\n",
              "      <td>15.000000</td>\n",
              "      <td>13.000000</td>\n",
              "      <td>2.600000e+01</td>\n",
              "      <td>4.898438</td>\n",
              "      <td>-1.256836</td>\n",
              "      <td>3.684375e+01</td>\n",
              "      <td>-1.260742</td>\n",
              "      <td>3.684375e+01</td>\n",
              "    </tr>\n",
              "    <tr>\n",
              "      <th>max</th>\n",
              "      <td>4.000000</td>\n",
              "      <td>31.000000</td>\n",
              "      <td>7.000000</td>\n",
              "      <td>22.000000</td>\n",
              "      <td>31.000000</td>\n",
              "      <td>7.000000</td>\n",
              "      <td>22.000000</td>\n",
              "      <td>31.000000</td>\n",
              "      <td>7.000000</td>\n",
              "      <td>23.000000</td>\n",
              "      <td>31.000000</td>\n",
              "      <td>7.000000</td>\n",
              "      <td>23.000000</td>\n",
              "      <td>49.000000</td>\n",
              "      <td>3.209375e+01</td>\n",
              "      <td>99.125000</td>\n",
              "      <td>-1.147461</td>\n",
              "      <td>3.700000e+01</td>\n",
              "      <td>-1.030273</td>\n",
              "      <td>3.703125e+01</td>\n",
              "    </tr>\n",
              "  </tbody>\n",
              "</table>\n",
              "</div>"
            ],
            "text/plain": [
              "           Platform     Place_DoM  Place_Weekday    Place_Time   Confirm_DoM  \\\n",
              "count  21201.000000  21201.000000   21201.000000  21201.000000  21201.000000   \n",
              "mean       2.752182     15.653696       3.240083     12.326824     15.653837   \n",
              "std        0.625178      8.798916       1.567295      2.541007      8.798886   \n",
              "min        1.000000      1.000000       1.000000      0.000000      1.000000   \n",
              "25%        3.000000      8.000000       2.000000     10.000000      8.000000   \n",
              "50%        3.000000     15.000000       3.000000     12.000000     15.000000   \n",
              "75%        3.000000     23.000000       5.000000     14.000000     23.000000   \n",
              "max        4.000000     31.000000       7.000000     22.000000     31.000000   \n",
              "\n",
              "       Confirm_Weekday  Confirm_Time  Arr_Pickup_DoM  Arr_Pickup_Weekday  \\\n",
              "count     21201.000000  21201.000000    21201.000000        21201.000000   \n",
              "mean          3.240225     12.447998       15.653837            3.240225   \n",
              "std           1.567228      2.556059        8.798886            1.567228   \n",
              "min           1.000000      0.000000        1.000000            1.000000   \n",
              "25%           2.000000     10.000000        8.000000            2.000000   \n",
              "50%           3.000000     12.000000       15.000000            3.000000   \n",
              "75%           5.000000     14.000000       23.000000            5.000000   \n",
              "max           7.000000     22.000000       31.000000            7.000000   \n",
              "\n",
              "       Arr_Pickup_Time    Pickup_DoM  Pickup_Weekday   Pickup_Time  \\\n",
              "count     21201.000000  21201.000000    21201.000000  21201.000000   \n",
              "mean         12.663223     15.653837        3.240225     12.873214   \n",
              "std           2.558333      8.798886        1.567228      2.551666   \n",
              "min           0.000000      1.000000        1.000000      0.000000   \n",
              "25%          11.000000      8.000000        2.000000     11.000000   \n",
              "50%          13.000000     15.000000        3.000000     13.000000   \n",
              "75%          15.000000     23.000000        5.000000     15.000000   \n",
              "max          23.000000     31.000000        7.000000     23.000000   \n",
              "\n",
              "        Distance_KM   Temperature  Precipitation_mm    Pickup_Lat  \\\n",
              "count  21201.000000  1.683500e+04        552.000000  21201.000000   \n",
              "mean       9.506533           inf          7.906250     -1.281250   \n",
              "std        5.668963  3.617188e+00         17.093750      0.030548   \n",
              "min        1.000000  1.120312e+01          0.099976     -1.438477   \n",
              "25%        5.000000  2.059375e+01          1.074219     -1.300781   \n",
              "50%        8.000000  2.350000e+01          2.900391     -1.279297   \n",
              "75%       13.000000  2.600000e+01          4.898438     -1.256836   \n",
              "max       49.000000  3.209375e+01         99.125000     -1.147461   \n",
              "\n",
              "        Pickup_Long  Destination_Lat  Destination_Long  \n",
              "count  2.120100e+04     21201.000000      2.120100e+04  \n",
              "mean            inf        -1.282227               inf  \n",
              "std    3.918457e-02         0.034851      4.562378e-02  \n",
              "min    3.665625e+01        -1.430664      3.659375e+01  \n",
              "25%    3.678125e+01        -1.300781      3.678125e+01  \n",
              "50%    3.681250e+01        -1.284180      3.681250e+01  \n",
              "75%    3.684375e+01        -1.260742      3.684375e+01  \n",
              "max    3.700000e+01        -1.030273      3.703125e+01  "
            ]
          },
          "metadata": {
            "tags": []
          },
          "execution_count": 16
        }
      ]
    },
    {
      "cell_type": "code",
      "metadata": {
        "id": "DWJXKDYf6zPe",
        "colab_type": "code",
        "outputId": "34873477-e7ca-4f0c-f224-ff768bdfdbaf",
        "colab": {
          "base_uri": "https://localhost:8080/",
          "height": 1000
        }
      },
      "source": [
        "#Plot histogram of numerical values\n",
        "def histogram_plot(df,cols,bins = 10):\n",
        "\n",
        "  \"\"\"Function creates histogram of all numerical columns\n",
        "  Parameters\n",
        "  ----------\n",
        "  df: DataFrame\n",
        "          DataFrame to preprocess.\n",
        "  cols: list\n",
        "          list of numerical columns or object columns\n",
        "  bins: string\n",
        "          number of bins you want histogram to create\n",
        "  Returns\n",
        "  -------\n",
        "  {Plot}: Returns plot of column histograms for analysis\n",
        "          \n",
        "  \"\"\"\n",
        "  df[cols].hist(bins = bins, figsize  = (20,20))\n",
        "  return plt.show()\n",
        "histogram_plot(eda_df,col_numerical,30)"
      ],
      "execution_count": 0,
      "outputs": [
        {
          "output_type": "display_data",
          "data": {
            "image/png": "[encoded data removed]",
            "text/plain": [
              "<Figure size 1440x1440 with 20 Axes>"
            ]
          },
          "metadata": {
            "tags": [],
            "needs_background": "light"
          }
        }
      ]
    },
    {
      "cell_type": "code",
      "metadata": {
        "id": "Q7fpkzRJ-DpP",
        "colab_type": "code",
        "outputId": "87876749-1123-47c1-f996-b9048425e045",
        "colab": {
          "base_uri": "https://localhost:8080/",
          "height": 729
        }
      },
      "source": [
        "#Plot Boxplot of graphs\n",
        "def box_plot(df,cols):\n",
        "  \"\"\"Function creates histogram of all numerical columns\n",
        "  Parameters\n",
        "  ----------\n",
        "  df: DataFrame\n",
        "          DataFrame to preprocess.\n",
        "  cols: list\n",
        "          list of numerical columns\n",
        "  Returns\n",
        "  -------\n",
        "  {Plot}: Returns plot of boxplot for dataframe\n",
        "          \n",
        "  \"\"\"\n",
        "  plt.figure(figsize=(22,10))\n",
        "  ax = sns.boxplot(data = df[cols])\n",
        "  ax.set_xticklabels(ax.get_xticklabels(), rotation=40, ha=\"right\")\n",
        "  plt.tight_layout()\n",
        "  return plt.show()\n",
        "box_plot(eda_df,col_numerical)"
      ],
      "execution_count": 0,
      "outputs": [
        {
          "output_type": "display_data",
          "data": {
            "image/png": "[encoded data removed]",
            "text/plain": [
              "<Figure size 1584x720 with 1 Axes>"
            ]
          },
          "metadata": {
            "tags": [],
            "needs_background": "light"
          }
        }
      ]
    },
    {
      "cell_type": "markdown",
      "metadata": {
        "id": "Rd1_jPhzp4Qm",
        "colab_type": "text"
      },
      "source": [
        "**Analysis:** **Histogram**\n",
        "\n",
        "From the individual numerical data plots, You can see that all the weekday varaibles follow uniform distribution except for Saturday and Sunday. Those appear to be very low compared to deliveries in the week.  \n",
        "\n",
        "All data for days of the month follow a bimodal distribution and the peaks seem to vary between day 5-15 and day 25-30 which insinuates that the customers have capital to spend money on deliveries in these days of the month, but day 30 seems to have an exceedingly high peak compared to the rest of the days, this could be due to every client getting paid at the end of the month. \n",
        "\n",
        "Destination lat and long show normal distribution with most of the deliveries going to approximately (-1.28,36.85)\n",
        "\n",
        "Pickup lat follows a normal distribution with a peak of (-1.27) and Pickup long shows a skewed left distribution which means most of the observations are happening around coordinate (36.9). Approximately between these two coordinates seem to be where most of the pickups happen.\n",
        "\n",
        "The platform type distribution is left skewed showing that most of the deliveries by a substantial amount happen on platform 3. \n",
        "\n",
        "Temperature follows a normal distribution with the peak being 23.5. Distance and precipitation show a skewed right distribution with most of the kilometres ranging between 0-15km and most precipitation ranging from 0-5mm of rain.\n",
        "\n",
        "**Analysis:** **Boxplot**\n",
        "\n",
        "From looking at the box plot, all numerical values range differently from the plot above therefore might have to do some standardisation/normalisation for the models that depend on scaling for accuracy, the GPS range is very small since a changing the decimal coordinates slightly takes you to a new area. The distance and precipitation show outliers that may affect our results so we need to pay close attention to these two variables.\n",
        "\n"
      ]
    },
    {
      "cell_type": "markdown",
      "metadata": {
        "id": "RQSfzuBxpkZo",
        "colab_type": "text"
      },
      "source": [
        "2.2 Objects"
      ]
    },
    {
      "cell_type": "code",
      "metadata": {
        "id": "Q5Ub-MJCptVP",
        "colab_type": "code",
        "outputId": "fd42232b-ae4b-4e1f-b2d4-986f631596ee",
        "colab": {
          "base_uri": "https://localhost:8080/",
          "height": 517
        }
      },
      "source": [
        "#Plotting two histograms to show insight of the Vehicle type and customer type\n",
        "obj2_cols = [col for col in eda_df.columns if (col == 'Pers_Business')] + ['Vehicle_Type']\n",
        "fig,axes = plt.subplots(1, len(obj2_cols), figsize=(12,8), squeeze=False)\n",
        "\n",
        "for i, col in enumerate(obj2_cols):\n",
        "    eda_df[obj2_cols[i]].value_counts().plot(kind='bar', x=col, ax=axes[0, i], alpha=0.5)\n",
        "\n",
        "plt.show()"
      ],
      "execution_count": 0,
      "outputs": [
        {
          "output_type": "display_data",
          "data": {
            "image/png": "[encoded data removed]",
            "text/plain": [
              "<Figure size 864x576 with 2 Axes>"
            ]
          },
          "metadata": {
            "tags": [],
            "needs_background": "light"
          }
        }
      ]
    },
    {
      "cell_type": "markdown",
      "metadata": {
        "id": "1yR9ng0Nyk_G",
        "colab_type": "text"
      },
      "source": [
        "**Analysis**\n",
        "\n",
        "From looking at the results, it shows that mainly businesses use the delivery platform and the vehicle type is only bike. Since the Vehicle type is only bike, it is safe to drop the vehicle type column as it is giving no insight to the dependent variable"
      ]
    },
    {
      "cell_type": "code",
      "metadata": {
        "id": "1Aosqqg2yqO7",
        "colab_type": "code",
        "colab": {}
      },
      "source": [
        "%%capture\n",
        "#Creating a hour dataframe to to get insight at the total number of deliveries volume per hour. \n",
        "#This will show in which hours most of the deliveries were made\n",
        "\n",
        "import datetime as dt\n",
        "time_cols = [col for col in eda_df.columns if col.endswith('Time')]\n",
        "time_df = eda_df[time_cols]"
      ],
      "execution_count": 0,
      "outputs": []
    },
    {
      "cell_type": "code",
      "metadata": {
        "id": "e7w1krNFzALa",
        "colab_type": "code",
        "outputId": "79a83874-a233-4ca0-c737-8b805c9c4ee6",
        "colab": {
          "base_uri": "https://localhost:8080/",
          "height": 607
        }
      },
      "source": [
        "#Analysing the hours for further insight with bar graphs\n",
        "col_names = time_df.columns\n",
        "\n",
        "fig,axes = plt.subplots(2,2, figsize=(20,10), squeeze=False,sharey=True)\n",
        "time_df[col_names[0]].value_counts().sort_index().plot(kind='bar',x=col_names[i], ax=axes[0, 0], alpha=0.5)\n",
        "axes[0, 0].set_xticklabels(axes[0, 0].get_xticklabels(), rotation=0, ha=\"right\")\n",
        "axes[0, 0].tick_params(labelsize=11)\n",
        "axes[0, 0].set_title(col_names[0])\n",
        "\n",
        "time_df[col_names[1]].value_counts().sort_index().plot(kind='bar',x=col_names[i], ax=axes[0, 1], alpha=0.5)\n",
        "axes[0, 1].set_xticklabels(axes[0, 1].get_xticklabels(), rotation=0, ha=\"right\")\n",
        "axes[0, 1].tick_params(labelsize=11)\n",
        "axes[0, 1].set_title(col_names[1])\n",
        "\n",
        "time_df[col_names[2]].value_counts().sort_index().plot(kind='bar',x=col_names[i], ax=axes[1, 0], alpha=0.5)\n",
        "axes[1, 0].set_xticklabels(axes[1, 0].get_xticklabels(), rotation=0, ha=\"right\")\n",
        "axes[1, 0].tick_params(labelsize=11)\n",
        "axes[1, 0].set_title(col_names[2])\n",
        "\n",
        "time_df[col_names[3]].value_counts().sort_index().plot(kind='bar',x=col_names[i], ax=axes[1, 1], alpha=0.5)\n",
        "axes[1, 1].set_xticklabels(axes[1, 1].get_xticklabels(), rotation=0, ha=\"right\")\n",
        "axes[1, 1].tick_params(labelsize=11)\n",
        "axes[1, 1].set_title(col_names[3])\n",
        "\n",
        "plt.show()"
      ],
      "execution_count": 0,
      "outputs": [
        {
          "output_type": "display_data",
          "data": {
            "image/png": "[encoded data removed]",
            "text/plain": [
              "<Figure size 1440x720 with 4 Axes>"
            ]
          },
          "metadata": {
            "tags": [],
            "needs_background": "light"
          }
        }
      ]
    },
    {
      "cell_type": "markdown",
      "metadata": {
        "id": "4NPxk9MbzYMM",
        "colab_type": "text"
      },
      "source": [
        "**Analysis**\n",
        "\n",
        "From looking at the results it shows a normal distribution, with the peak delivery times showing a range of 9hrs - 16hrs, the times for placement, confirmation, arrival and pickup show the exact same graph, assumming that the delivery happens within the same hour from placement to destination."
      ]
    },
    {
      "cell_type": "code",
      "metadata": {
        "id": "QNcXao0Zza2T",
        "colab_type": "code",
        "outputId": "d38fd43b-3b97-4ace-ecf3-bb0588fb52a6",
        "colab": {
          "base_uri": "https://localhost:8080/",
          "height": 408
        }
      },
      "source": [
        "# the user_id and rider_id get show important information of who the loyal customers are \n",
        "#and which drivers do most of the deliveries\n",
        "\n",
        "# Select on user_id and rider_id\n",
        "col_id = [col for col in eda_df.columns if col.endswith('Id')]\n",
        "print(eda_df[col_id[0]].value_counts(),eda_df[col_id[1]].value_counts())"
      ],
      "execution_count": 0,
      "outputs": [
        {
          "output_type": "stream",
          "text": [
            "User_Id_393     645\n",
            "User_Id_2330    322\n",
            "User_Id_3647    312\n",
            "User_Id_1500    301\n",
            "User_Id_635     290\n",
            "               ... \n",
            "User_Id_1391      1\n",
            "User_Id_2033      1\n",
            "User_Id_1114      1\n",
            "User_Id_241       1\n",
            "User_Id_3402      1\n",
            "Name: User_Id, Length: 3186, dtype: int64 Rider_Id_726    247\n",
            "Rider_Id_576    223\n",
            "Rider_Id_523    199\n",
            "Rider_Id_101    183\n",
            "Rider_Id_205    182\n",
            "               ... \n",
            "Rider_Id_236      1\n",
            "Rider_Id_464      1\n",
            "Rider_Id_94       1\n",
            "Rider_Id_302      1\n",
            "Rider_Id_251      1\n",
            "Name: Rider_Id, Length: 924, dtype: int64\n"
          ],
          "name": "stdout"
        }
      ]
    },
    {
      "cell_type": "markdown",
      "metadata": {
        "id": "SpUNY3-Bzurb",
        "colab_type": "text"
      },
      "source": [
        "**Analysis**\n",
        "\n",
        "The results above can confirm that there are loyal customers, User 393 has done double the amount of deliveries than the second highest user. It also shows rider 223 has done the most deliveries out of all the drivers."
      ]
    },
    {
      "cell_type": "markdown",
      "metadata": {
        "id": "0b_3FhKPu8_X",
        "colab_type": "text"
      },
      "source": [
        "#### 3. Bivariate analysis"
      ]
    },
    {
      "cell_type": "code",
      "metadata": {
        "id": "Sd_LgzK1t6x0",
        "colab_type": "code",
        "colab": {}
      },
      "source": [
        "bivariate_eda = pd.merge(eda_df, eda_riders, how='left', on='Rider_Id')"
      ],
      "execution_count": 0,
      "outputs": []
    },
    {
      "cell_type": "code",
      "metadata": {
        "id": "oziUGLh1oCWB",
        "colab_type": "code",
        "colab": {}
      },
      "source": [
        "# #split data into smaller subset for easier analysis on scatter plots without losing relatioships in the data\n",
        "# first_split = bivariate_eda.sample(frac=0.05,random_state=200)\n",
        "# #Looking at the pairplot to compare variables\n",
        "# grid = sns.pairplot(data = first_split)\n",
        "\n",
        "# # Map a scatter plot to the bivariates, with alpha\n",
        "# grid = grid.map_upper(plt.scatter, color = 'darkred',alpha = 0.15)\n",
        "# grid = grid.map_lower(plt.scatter, color = 'darkred',alpha = 0.15)\n",
        "\n",
        "# #reg plot\n",
        "# grid = grid.map_upper(sns.regplot, color='darkred',scatter_kws={'alpha':0.15})\n",
        "# grid = grid.map_lower(sns.regplot, color='darkred', scatter_kws={'alpha':0.15})"
      ],
      "execution_count": 0,
      "outputs": []
    },
    {
      "cell_type": "markdown",
      "metadata": {
        "id": "nTTtJcNnzJ_4",
        "colab_type": "text"
      },
      "source": [
        "**Analysis**\n",
        "\n",
        "This plot gives the ability to see the relationship one variable has with another, the issue with plotting pairplots that has many datapoints is overplotting. Therefore added transparency to the dots to allow for overlaps to be visible, also reduced data size by taking a random sample without losing value to the data and decrease overlapping. Further analysis will be done using a heat map, where colour indicates the number of points in each bin. \n",
        "\n",
        "1. **Perfect positive linearity**\n",
        "\n",
        "We can see that all four of the day of the month categories(Placement, Confirmation, Arrival at pickup, pickup) seem to have a very strong linear relationship, this could cause multicolinearity if the model trains all these day of the month categories. The same goes for the weekdays with a few having one or two outliers, it is safe to say all weekday categories show strong linearity which should intuitively be dealt with before training the model.\n",
        "\n",
        "2. **Positive linearity**\n",
        "\n",
        "Distance has positve correlation with the the dependent variable y. This shows as a good indicator that there is a linear relationship.\n",
        "\n",
        "3. **Categorical variables evident in dependent variables**\n",
        "\n",
        "It is evident in the plot that some data shows a pattern of categorical data. The variables with this tendency is platform and weekday. The gps long coordinates show categorical patterns, but since the coordinates can take on any value with any level of specificity (or decimal places), it is confirmed to be continuous in this data form. \n",
        "\n",
        "4. **Futher Analysis** \n",
        "\n",
        "Some of the variables do not show correlation at all, the gps coordiantes lat shows a spread of data with a specific hot spot, this could be due to how close decimal degrees can be in one area but different location. The day of month and temperature seem to be quite spread out and shows no correlation. Precipitation shows no correlation but has a few deliveries with heavy rain that gives the correlation a slight positive (outliers).\n",
        "\n",
        "\n",
        "\n"
      ]
    },
    {
      "cell_type": "code",
      "metadata": {
        "id": "aLjxQ4xgUh_C",
        "colab_type": "code",
        "outputId": "2054c6d9-0f53-4dc5-fa5b-3503f7f95341",
        "colab": {
          "base_uri": "https://localhost:8080/",
          "height": 745
        }
      },
      "source": [
        "fig = plt.figure(figsize=(15,10))\n",
        "sns.heatmap(bivariate_eda.corr().round(2), annot=True)"
      ],
      "execution_count": 0,
      "outputs": [
        {
          "output_type": "execute_result",
          "data": {
            "text/plain": [
              "<matplotlib.axes._subplots.AxesSubplot at 0x7f65b0e36240>"
            ]
          },
          "metadata": {
            "tags": []
          },
          "execution_count": 26
        },
        {
          "output_type": "display_data",
          "data": {
            "image/png": "[encoded data removed]",
            "text/plain": [
              "<Figure size 1080x720 with 2 Axes>"
            ]
          },
          "metadata": {
            "tags": [],
            "needs_background": "light"
          }
        }
      ]
    },
    {
      "cell_type": "markdown",
      "metadata": {
        "id": "_ePtIGsmdNC0",
        "colab_type": "text"
      },
      "source": [
        "From the above correlation matrix some features are strongly postively and negatively correlated, suggesting that these features may lead to an increased standard error as well as a difficulty to determine the effect of any one predictor variable on the response variable. This could lead to the removal of some if not all of these features."
      ]
    },
    {
      "cell_type": "markdown",
      "metadata": {
        "id": "BtyUrLZDNIQB",
        "colab_type": "text"
      },
      "source": [
        "#### 4. Remove Collinearity\n"
      ]
    },
    {
      "cell_type": "code",
      "metadata": {
        "id": "4XvLoVEyiwrT",
        "colab_type": "code",
        "colab": {}
      },
      "source": [
        "def collinear(df):\n",
        "  \"\"\"Function that drops chosen columns\n",
        "  Parameters\n",
        "  ----------\n",
        "  df: DataFrame\n",
        "          DataFrame to drop columns from\n",
        "  cols: list-like\n",
        "          Names of columns to be dropped from\n",
        "  Returns\n",
        "  -------\n",
        "  col_df: DataFrame\n",
        "          Modified DataFrame\n",
        "  \"\"\"\n",
        "  col_df = pd.merge(df, eda_riders, how='left', on='Rider_Id')\n",
        "  droplist = ['Place_DoM', 'Place_Weekday',\n",
        "              'Place_Time', 'Confirm_DoM', \n",
        "              'Confirm_Weekday', 'Confirm_Time',\n",
        "              'Arr_Pickup_DoM', 'Arr_Pickup_Weekday',\n",
        "              'Arr_Pickup_Time']\n",
        "  if droplist[0] in col_df.columns:\n",
        "    col_df = col_df.drop(columns=droplist)\n",
        "  \n",
        "  return col_df\n"
      ],
      "execution_count": 0,
      "outputs": []
    },
    {
      "cell_type": "code",
      "metadata": {
        "id": "dnQsqmmlqVi7",
        "colab_type": "code",
        "colab": {}
      },
      "source": [
        "btrain = collinear(eda_df)\n",
        "btest = collinear(eda_test)\n",
        "briders = collinear(eda_riders) \n"
      ],
      "execution_count": 0,
      "outputs": []
    },
    {
      "cell_type": "markdown",
      "metadata": {
        "id": "LvlASK7niu8b",
        "colab_type": "text"
      },
      "source": [
        "6. Missing values treatment"
      ]
    },
    {
      "cell_type": "code",
      "metadata": {
        "id": "mtQ-ZtwJyflt",
        "colab_type": "code",
        "colab": {}
      },
      "source": [
        "def null(df, na_thresh = 1.0 , strategy = \"median\"):\n",
        "  \"\"\"Function that drops columns with more than na_thresh null from\n",
        "  \n",
        "  \"\"\"\n",
        "  no_null=df.copy()\n",
        "  # Dropping NaN's\n",
        "  for col in no_null.columns:\n",
        "    missing = no_null[col].isnull().sum()/len(no_null)\n",
        "    if missing > na_thresh:\n",
        "      no_null.drop(columns=col, inplace=True)\n",
        "    \n",
        "  # Filling NaN's\n",
        "  for col in no_null.columns:\n",
        "    if no_null[col].isnull().sum() > 0:\n",
        "      if no_null[col].dtypes == 'object':\n",
        "        no_null[col].fillna(no_null[col].mode(), inplace=True) \n",
        "      elif strategy == 'mean':\n",
        "        no_null[col].fillna(round(no_null[col].mean()), inplace=True)\n",
        "      elif strategy == 'median':\n",
        "        no_null[col].fillna(round(no_null[col].median()), inplace=True)\n",
        "      elif strategy == 'rolling':\n",
        "        no_null[col].fillna(no_null[col].rolling(7).mean(), inplace=True)\n",
        "      else:\n",
        "        raise ValueError\n",
        "  return no_null"
      ],
      "execution_count": 0,
      "outputs": []
    },
    {
      "cell_type": "code",
      "metadata": {
        "id": "EFxEX5xngktb",
        "colab_type": "code",
        "colab": {}
      },
      "source": [
        "ctrain = null(btrain)\n",
        "ctest = null(btest)\n",
        "criders = null(briders)"
      ],
      "execution_count": 0,
      "outputs": []
    },
    {
      "cell_type": "code",
      "metadata": {
        "id": "J21R6Fll7axk",
        "colab_type": "code",
        "outputId": "d36a9a48-7653-4096-c8e0-1ac7b895723d",
        "colab": {
          "base_uri": "https://localhost:8080/",
          "height": 476
        }
      },
      "source": [
        "ctrain.info()"
      ],
      "execution_count": 0,
      "outputs": [
        {
          "output_type": "stream",
          "text": [
            "<class 'pandas.core.frame.DataFrame'>\n",
            "Int64Index: 21201 entries, 0 to 21200\n",
            "Data columns (total 20 columns):\n",
            " #   Column                       Non-Null Count  Dtype  \n",
            "---  ------                       --------------  -----  \n",
            " 0   User_Id                      21201 non-null  object \n",
            " 1   Vehicle_Type                 21201 non-null  object \n",
            " 2   Platform                     21201 non-null  int16  \n",
            " 3   Pers_Business                21201 non-null  object \n",
            " 4   Pickup_DoM                   21201 non-null  int16  \n",
            " 5   Pickup_Weekday               21201 non-null  int16  \n",
            " 6   Pickup_Time                  21201 non-null  int64  \n",
            " 7   Distance_KM                  21201 non-null  int16  \n",
            " 8   Temperature                  21201 non-null  float16\n",
            " 9   Precipitation_mm             21201 non-null  float16\n",
            " 10  Pickup_Lat                   21201 non-null  float16\n",
            " 11  Pickup_Long                  21201 non-null  float16\n",
            " 12  Destination_Lat              21201 non-null  float16\n",
            " 13  Destination_Long             21201 non-null  float16\n",
            " 14  Rider_Id                     21201 non-null  object \n",
            " 15  Time_from_Pickup_to_Arrival  21201 non-null  int16  \n",
            " 16  No_Of_Orders                 21201 non-null  int16  \n",
            " 17  Age                          21201 non-null  int16  \n",
            " 18  Average_Rating               21201 non-null  float16\n",
            " 19  No_of_Ratings                21201 non-null  int16  \n",
            "dtypes: float16(7), int16(8), int64(1), object(4)\n",
            "memory usage: 1.6+ MB\n"
          ],
          "name": "stdout"
        }
      ]
    },
    {
      "cell_type": "markdown",
      "metadata": {
        "id": "M6d9e3j1rqTI",
        "colab_type": "text"
      },
      "source": [
        "b. Feature engineering and selection (B)\n"
      ]
    },
    {
      "cell_type": "markdown",
      "metadata": {
        "id": "2SfhOdovuiCo",
        "colab_type": "text"
      },
      "source": [
        "1. Variable transformation"
      ]
    },
    {
      "cell_type": "code",
      "metadata": {
        "id": "mgBF8GDVMBM4",
        "colab_type": "code",
        "outputId": "9707a2d4-6812-4062-efee-671dd798ad8a",
        "colab": {
          "base_uri": "https://localhost:8080/",
          "height": 34
        }
      },
      "source": [
        "time_cols"
      ],
      "execution_count": 0,
      "outputs": [
        {
          "output_type": "execute_result",
          "data": {
            "text/plain": [
              "['Place_Time', 'Confirm_Time', 'Arr_Pickup_Time', 'Pickup_Time']"
            ]
          },
          "metadata": {
            "tags": []
          },
          "execution_count": 32
        }
      ]
    },
    {
      "cell_type": "code",
      "metadata": {
        "id": "zhTaPey3vtAQ",
        "colab_type": "code",
        "colab": {}
      },
      "source": [
        "def variable_transformer(df):\n",
        "  \"\"\"Function to apply variable ALL transformations to dataset\n",
        "  Parameters\n",
        "  ----------\n",
        "  df: DataFrame\n",
        "          Input df to be transformed\n",
        "  Returns\n",
        "  -------\n",
        "  trans_df: DataFrame\n",
        "          Output df\n",
        "  \"\"\"\n",
        "  index = df.index\n",
        "  trans_df = df.copy()\n",
        "\n",
        "  # # Time to number\n",
        "  # for time in time_cols:\n",
        "  #   if time in trans_df.columns:\n",
        "  #     trans_df[time] = pd.to_datetime(trans_df[time])\n",
        "\n",
        "\n",
        "\n",
        "  # # Feature scaling\n",
        "  # predictor_cols = ['Distance_KM'\t,'Temperature\t','Precipitation_mm', 'No_Of_Orders', 'Age', 'Average_Rating',\t'No_of_Ratings']\n",
        "  # sc = StandardScaler()\n",
        "  # sc.fit_transform(trans_df[predictor_cols])\n",
        "  \n",
        "  # Drop unnecessary features\n",
        "  droplist = ['User_Id', 'Vehicle_Type', 'Rider_Id'] #, 'Pickup_Lat',\t'Pickup_Long',\t'Destination_Lat',\t'Destination_Long', 'Temperature','Precipitation_mm', 'Pay_Day', 'Pickup_DoM']\n",
        "  for col in droplist:\n",
        "    if col in trans_df.columns:\n",
        "      trans_df.drop(columns=col, inplace=True)\n",
        "\n",
        "  # Reorder columns\n",
        "  reindex_cols = [col for col in trans_df.columns if col != target] + [target]\n",
        "  trans_df = trans_df.reindex(columns = reindex_cols)\n",
        "  trans_df.index = (index)\n",
        "  original_features = [col for col in trans_df.columns if col != target]\n",
        "  return trans_df, original_features"
      ],
      "execution_count": 0,
      "outputs": []
    },
    {
      "cell_type": "code",
      "metadata": {
        "id": "B6ylXJ4p3kVT",
        "colab_type": "code",
        "colab": {}
      },
      "source": [
        "# Building final dataframes with complete features\n",
        "dtrain, o_features = variable_transformer(ctrain)\n",
        "dtest, test = variable_transformer(ctest)"
      ],
      "execution_count": 0,
      "outputs": []
    },
    {
      "cell_type": "markdown",
      "metadata": {
        "id": "iCEgkxoauoww",
        "colab_type": "text"
      },
      "source": [
        "2. Variable creation"
      ]
    },
    {
      "cell_type": "code",
      "metadata": {
        "id": "zc_ZjQrZz9L6",
        "colab_type": "code",
        "colab": {}
      },
      "source": [
        "def variable_creator(df):\n",
        "  \"\"\"Doctstring here\n",
        "  \"\"\"\n",
        "  create_df = df.copy()\n",
        "  \n",
        "  # covert GPS corrdinates to distance\n",
        "  def dist(df,lat1,long1,lat2,long2):\n",
        "      list1=[]\n",
        "      geo_df = df.copy()\n",
        "      for i in range (0,len(geo_df)):\n",
        "          coords_1 = (geo_df[lat1][i], geo_df[long1][i])\n",
        "          coords_2 = (geo_df[lat2][i], geo_df[long2][i])\n",
        "\n",
        "          distance=geopy.distance.vincenty(coords_1, coords_2).m\n",
        "          #print(distance)\n",
        "          list1.append(distance)\n",
        "      geo_df['Geo_Distance'] = list1\n",
        "      return geo_df\n",
        "  create_df = dist(create_df,'Pickup_Lat', 'Pickup_Long', 'Destination_Lat',\n",
        "        'Destination_Long')\n",
        " \n",
        "  # # Extract hours from columns\n",
        "  # create_df['Pickup_Hour'] = pd.to_datetime(create_df['Pickup_Time'].astype(str)).dt.hour\n",
        "  \n",
        " \n",
        "  \n",
        "  # Determine which platform is busiest\n",
        "  def is_busy(platform):\n",
        "    if platform == 3:\n",
        "      return True\n",
        "    else:\n",
        "      return False\n",
        "  create_df['Platform_load'] = create_df['Platform'].apply(is_busy)\n",
        "\n",
        "  # Which drivers are the most experienced\n",
        "  def experience(age):\n",
        "    if age < 1000:\n",
        "      return 1\n",
        "    elif age < 2000:\n",
        "      return 2\n",
        "    elif age < 3000:\n",
        "      return 3\n",
        "    return 4\n",
        "  create_df['Driver_exp'] = create_df['Age'].apply(experience)\n",
        "\n",
        "  # Business day\n",
        "  def weekday(day):\n",
        "    if day in [1,2,3,4,5]:\n",
        "      return 1\n",
        "    return 0\n",
        "  create_df['Business_day'] = create_df['Pickup_Weekday'].apply(weekday)\n",
        "\n",
        "  # Is it hot?\n",
        "  def comfort(temp):\n",
        "    \n",
        "    if temp < 18:\n",
        "      return 0\n",
        "    elif temp < 28.75:\n",
        "      return 1\n",
        "    return 2\n",
        "  create_df['Comfort'] = create_df['Temperature'].apply(comfort)\n",
        "\n",
        "  # Is pay day?\n",
        "  def pay_day(DoM):\n",
        "    if DoM in [30,31]:\n",
        "      return True\n",
        "    return False\n",
        "  create_df['Pay_Day'] = create_df['Pickup_DoM'].apply(pay_day)\n",
        "    \n",
        "  # Get dummies\n",
        "  dummy_cols = ['Pers_Business','Pickup_Weekday', 'Pickup_DoM','Platform','Pickup_Time']\n",
        "  create_df = pd.get_dummies(create_df,columns = dummy_cols, drop_first=True,)\n",
        "  \n",
        "  # Reorder columns\n",
        "  reindex_cols = [col for col in create_df.columns if col != target] + [target]\n",
        "  create_df = create_df.reindex(columns = reindex_cols)\n",
        "  \n",
        "\n",
        "  \n",
        "  create_features = [col for col in create_df.columns if col not in df.columns]\n",
        "\n",
        "  return create_df, create_features"
      ],
      "execution_count": 0,
      "outputs": []
    },
    {
      "cell_type": "code",
      "metadata": {
        "id": "NkdlXfoU4CWr",
        "colab_type": "code",
        "colab": {}
      },
      "source": [
        "# Building final dataframes with complete features\n",
        "etrain, c_features  = variable_creator(dtrain)\n",
        "etest, test_feats = variable_creator(dtest)"
      ],
      "execution_count": 0,
      "outputs": []
    },
    {
      "cell_type": "markdown",
      "metadata": {
        "id": "7qC02bUDTQ5I",
        "colab_type": "text"
      },
      "source": [
        "## 6. Model building"
      ]
    },
    {
      "cell_type": "code",
      "metadata": {
        "id": "6Ld7cyqLaFXU",
        "colab_type": "code",
        "colab": {}
      },
      "source": [
        "# Creating working df\n",
        "final = etrain.copy()\n",
        "final_features = [# 'Feature',  # Individual P-Score\n",
        "                  # 'Platform',\n",
        "                  # 'Pers_Business',\n",
        "                  # 'Pickup_DoM',\n",
        "                  # 'Pickup_Weekday',\n",
        "                  # 'Pickup_Time',\n",
        "                  'Distance_KM', # P - 0.00\n",
        "                  # 'Temperature', # P - 0.305\n",
        "                  # 'Precipitation_mm', # P - 0.216\n",
        "                  # 'Pickup_Lat', # location does not consider obstacles\n",
        "                  # 'Pickup_Long',  # location does not consider obstacles\n",
        "                  # 'Destination_Lat',  # location does not consider obstacles\n",
        "                  # 'Destination_Long', # location does not consider obstacles \n",
        "                  # 'No_Of_Orders', # condition number is large, 5.09e+03.\n",
        "                  # 'Age', # condition number is large, 2.88e+03.\n",
        "                  'Average_Rating', # P - 0.000\n",
        "                  # 'No_of_Ratings', # condition number is large, 1.11e+03.\n",
        "                  # 'Geo_Distance',  # condition number is large, 1.6e+04.\n",
        "                  # 'Platform_load', # P - 0.229\n",
        "                  'Driver_exp', # P - 0.000\n",
        "                  # 'Business_day', # P - 0.000 # multicollinearity\n",
        "                  # 'Comfort', # P - 0.104\n",
        "                  # 'Pay_Day', # P - 0.306\n",
        "                  'Pers_Business_Personal', # P - 0.002\n",
        "                  'Pickup_Weekday_2', # P - 0.000\n",
        "                  # 'Pickup_Weekday_3', # P - 0.369\n",
        "                  # 'Pickup_Weekday_4', # P - 0.123\n",
        "                  'Pickup_Weekday_5', # P - 0.000 \n",
        "                  'Pickup_Weekday_6', # P - 0.000\n",
        "                  # 'Pickup_Weekday_7', # P - 0.292\n",
        "                  # 'Pickup_DoM_2', # P - 0.939\n",
        "                  # 'Pickup_DoM_3', # P - 0.947\n",
        "                  # 'Pickup_DoM_4', # P - 0.355\n",
        "                  # 'Pickup_DoM_5', # P - 0.577\n",
        "                  # 'Pickup_DoM_6', # P - 0.737\n",
        "                  # 'Pickup_DoM_7', # P - 0.304\n",
        "                  'Pickup_DoM_8', # P - 0.023\n",
        "                  'Pickup_DoM_9', # P - 0.021\n",
        "                  # 'Pickup_DoM_10', # P - 0.725\n",
        "                  'Pickup_DoM_11', # P - 0.140\n",
        "                  # 'Pickup_DoM_12', # P - 0.332\n",
        "                  # 'Pickup_DoM_13', # P - 0.550\n",
        "                  # 'Pickup_DoM_14', # P - 0.288\n",
        "                  # 'Pickup_DoM_15', # P - 0.735\n",
        "                  # 'Pickup_DoM_16', # P - 0.195\n",
        "                  'Pickup_DoM_17', # P - 0.098\n",
        "                  # 'Pickup_DoM_18', # P - 0.229\n",
        "                  # 'Pickup_DoM_19', # P - 0.425\n",
        "                  # 'Pickup_DoM_20', # P - 0.845\n",
        "                  # 'Pickup_DoM_21', # P - 0.553\n",
        "                  'Pickup_DoM_22', # P - 0.098\n",
        "                  # 'Pickup_DoM_23', # P - 0.500\n",
        "                  # 'Pickup_DoM_24', # P - 0.627\n",
        "                  # 'Pickup_DoM_25', # P - 0.352\n",
        "                  # 'Pickup_DoM_26', # P - 0.245\n",
        "                  'Pickup_DoM_27', # P - 0.001\n",
        "                  # 'Pickup_DoM_28', # P - 0.746\n",
        "                  'Pickup_DoM_29', # P - 0.096\n",
        "                  'Pickup_DoM_30', # P - 0.079 \n",
        "                  # 'Pickup_DoM_31', # P - 0.565\n",
        "                  # 'Platform_2', # P - 0.342\n",
        "                  # 'Platform_3', # P - 0.229\n",
        "                  # 'Platform_4', # P - 0.155\n",
        "                  # 'Pickup_Time_7',  # P - 0.947\n",
        "                  'Pickup_Time_8',  # P - 0.043\n",
        "                  'Pickup_Time_9',  # P - 0.000\n",
        "                  'Pickup_Time_10', # P - 0.000\n",
        "                  # 'Pickup_Time_11', # P - 0.380\n",
        "                  'Pickup_Time_12', # P - 0.086\n",
        "                  # 'Pickup_Time_13', # P - 0.879\n",
        "                  # 'Pickup_Time_14', # P - 0.625\n",
        "                  'Pickup_Time_15', # P - 0.000\n",
        "                  'Pickup_Time_16', # P - 0.086\n",
        "                  # 'Pickup_Time_17', # P -0.325\n",
        "                  # 'Pickup_Time_18', # P - 0.585\n",
        "                  # 'Pickup_Time_19', # P - 0.741\n",
        "                  # 'Pickup_Time_20', # P - 0.461\n",
        "                  # 'Pickup_Time_21', # P - 0.300\n",
        "                  # 'Pickup_Time_22', # P - 0.158\n",
        "                  # 'Pickup_Time_23' # P - 0.514\n",
        "                  ]"
      ],
      "execution_count": 0,
      "outputs": []
    },
    {
      "cell_type": "code",
      "metadata": {
        "id": "zU9PbosBIny3",
        "colab_type": "code",
        "outputId": "c9a9f18c-8283-401d-e723-7dd05d3fe86f",
        "colab": {
          "base_uri": "https://localhost:8080/",
          "height": 510
        }
      },
      "source": [
        "final[final_features+[target]].info()"
      ],
      "execution_count": 0,
      "outputs": [
        {
          "output_type": "stream",
          "text": [
            "<class 'pandas.core.frame.DataFrame'>\n",
            "Int64Index: 21201 entries, 0 to 21200\n",
            "Data columns (total 22 columns):\n",
            " #   Column                       Non-Null Count  Dtype  \n",
            "---  ------                       --------------  -----  \n",
            " 0   Distance_KM                  21201 non-null  int16  \n",
            " 1   Average_Rating               21201 non-null  float16\n",
            " 2   Driver_exp                   21201 non-null  int64  \n",
            " 3   Pers_Business_Personal       21201 non-null  uint8  \n",
            " 4   Pickup_Weekday_2             21201 non-null  uint8  \n",
            " 5   Pickup_Weekday_5             21201 non-null  uint8  \n",
            " 6   Pickup_Weekday_6             21201 non-null  uint8  \n",
            " 7   Pickup_DoM_8                 21201 non-null  uint8  \n",
            " 8   Pickup_DoM_9                 21201 non-null  uint8  \n",
            " 9   Pickup_DoM_11                21201 non-null  uint8  \n",
            " 10  Pickup_DoM_17                21201 non-null  uint8  \n",
            " 11  Pickup_DoM_22                21201 non-null  uint8  \n",
            " 12  Pickup_DoM_27                21201 non-null  uint8  \n",
            " 13  Pickup_DoM_29                21201 non-null  uint8  \n",
            " 14  Pickup_DoM_30                21201 non-null  uint8  \n",
            " 15  Pickup_Time_8                21201 non-null  uint8  \n",
            " 16  Pickup_Time_9                21201 non-null  uint8  \n",
            " 17  Pickup_Time_10               21201 non-null  uint8  \n",
            " 18  Pickup_Time_12               21201 non-null  uint8  \n",
            " 19  Pickup_Time_15               21201 non-null  uint8  \n",
            " 20  Pickup_Time_16               21201 non-null  uint8  \n",
            " 21  Time_from_Pickup_to_Arrival  21201 non-null  int16  \n",
            "dtypes: float16(1), int16(2), int64(1), uint8(18)\n",
            "memory usage: 828.2 KB\n"
          ],
          "name": "stdout"
        }
      ]
    },
    {
      "cell_type": "code",
      "metadata": {
        "id": "nMDModiCvRdH",
        "colab_type": "code",
        "outputId": "078164fd-eaf3-45ea-c332-9bea71338cd7",
        "colab": {
          "base_uri": "https://localhost:8080/",
          "height": 34
        }
      },
      "source": [
        "# Setting the seed\n",
        "rs = 42\n",
        "# Features (X), Target(y)\n",
        "X = final[final_features].values\n",
        "y = final[target].values\n",
        "\n",
        "# Train/Test split (size=0.2)\n",
        "X_train, X_test, y_train, y_test = train_test_split(X, y, test_size=0.2, shuffle=False)\n",
        "print(X_train.shape, X_test.shape, y_train.shape, y_test.shape)"
      ],
      "execution_count": 0,
      "outputs": [
        {
          "output_type": "stream",
          "text": [
            "(16960, 21) (4241, 21) (16960,) (4241,)\n"
          ],
          "name": "stdout"
        }
      ]
    },
    {
      "cell_type": "markdown",
      "metadata": {
        "id": "F58BxZoLE0m3",
        "colab_type": "text"
      },
      "source": [
        "Analysis of Features"
      ]
    },
    {
      "cell_type": "code",
      "metadata": {
        "id": "DuY6vxnDE0MO",
        "colab_type": "code",
        "outputId": "6b7a4ba0-52d5-4e1a-d15b-8416cac3892c",
        "colab": {
          "base_uri": "https://localhost:8080/",
          "height": 71
        }
      },
      "source": [
        "OLS_df = final[final_features+[target]].copy()\n",
        "X_names = [col for col in OLS_df.columns if col != target and col != 'Order_No']\n",
        "# Build the OLS formula string \" y ~ X \"\n",
        "formula_str = target+\" ~ \"+\" + \".join(X_names);\n",
        "print('Formula:\\n\\t {}'.format(formula_str))"
      ],
      "execution_count": 0,
      "outputs": [
        {
          "output_type": "stream",
          "text": [
            "Formula:\n",
            "\t Time_from_Pickup_to_Arrival ~ Distance_KM + Average_Rating + Driver_exp + Pers_Business_Personal + Pickup_Weekday_2 + Pickup_Weekday_5 + Pickup_Weekday_6 + Pickup_DoM_8 + Pickup_DoM_9 + Pickup_DoM_11 + Pickup_DoM_17 + Pickup_DoM_22 + Pickup_DoM_27 + Pickup_DoM_29 + Pickup_DoM_30 + Pickup_Time_8 + Pickup_Time_9 + Pickup_Time_10 + Pickup_Time_12 + Pickup_Time_15 + Pickup_Time_16\n"
          ],
          "name": "stdout"
        }
      ]
    },
    {
      "cell_type": "code",
      "metadata": {
        "id": "HjefPc-vvTV2",
        "colab_type": "code",
        "outputId": "d40ce9ed-dfd7-4dff-ac77-bd6176af3844",
        "colab": {
          "base_uri": "https://localhost:8080/",
          "height": 782
        }
      },
      "source": [
        "# Fit the model using the model dataframe\n",
        "model=ols(formula=formula_str, data=OLS_df)\n",
        "fitted = model.fit()\n",
        "\n",
        "# Output the fitted summary\n",
        "print(fitted.summary())"
      ],
      "execution_count": 0,
      "outputs": [
        {
          "output_type": "stream",
          "text": [
            "                                 OLS Regression Results                                \n",
            "=======================================================================================\n",
            "Dep. Variable:     Time_from_Pickup_to_Arrival   R-squared:                       0.345\n",
            "Model:                                     OLS   Adj. R-squared:                  0.344\n",
            "Method:                          Least Squares   F-statistic:                     531.2\n",
            "Date:                         Sun, 31 May 2020   Prob (F-statistic):               0.00\n",
            "Time:                                 16:04:11   Log-Likelihood:            -1.7178e+05\n",
            "No. Observations:                        21201   AIC:                         3.436e+05\n",
            "Df Residuals:                            21179   BIC:                         3.438e+05\n",
            "Df Model:                                   21                                         \n",
            "Covariance Type:                     nonrobust                                         \n",
            "==========================================================================================\n",
            "                             coef    std err          t      P>|t|      [0.025      0.975]\n",
            "------------------------------------------------------------------------------------------\n",
            "Intercept               1221.7674     85.454     14.297      0.000    1054.271    1389.263\n",
            "Distance_KM              101.6902      0.971    104.758      0.000      99.787     103.593\n",
            "Average_Rating           -41.3519      6.000     -6.893      0.000     -53.112     -29.592\n",
            "Driver_exp               -51.9563      7.831     -6.635      0.000     -67.305     -36.607\n",
            "Pers_Business_Personal    55.5902     14.348      3.874      0.000      27.467      83.713\n",
            "Pickup_Weekday_2          51.9603     14.737      3.526      0.000      23.074      80.846\n",
            "Pickup_Weekday_5          55.8163     14.702      3.797      0.000      26.999      84.633\n",
            "Pickup_Weekday_6        -132.1731     24.147     -5.474      0.000    -179.503     -84.843\n",
            "Pickup_DoM_8              55.7566     28.249      1.974      0.048       0.386     111.127\n",
            "Pickup_DoM_9              75.5803     31.675      2.386      0.017      13.494     137.667\n",
            "Pickup_DoM_11            -44.7548     29.891     -1.497      0.134    -103.342      13.833\n",
            "Pickup_DoM_17            -59.4353     33.548     -1.772      0.076    -125.192       6.322\n",
            "Pickup_DoM_22            -63.3904     32.111     -1.974      0.048    -126.330      -0.451\n",
            "Pickup_DoM_27            -94.4314     31.612     -2.987      0.003    -156.394     -32.469\n",
            "Pickup_DoM_29            -54.9473     31.227     -1.760      0.078    -116.154       6.260\n",
            "Pickup_DoM_30             49.9149     30.716      1.625      0.104     -10.290     110.120\n",
            "Pickup_Time_8            -88.7155     41.623     -2.131      0.033    -170.300      -7.131\n",
            "Pickup_Time_9            -72.1194     21.632     -3.334      0.001    -114.520     -29.719\n",
            "Pickup_Time_10           -63.3248     18.180     -3.483      0.000     -98.958     -27.691\n",
            "Pickup_Time_12            25.3346     17.457      1.451      0.147      -8.883      59.552\n",
            "Pickup_Time_15            62.9755     17.474      3.604      0.000      28.725      97.226\n",
            "Pickup_Time_16            27.5339     19.283      1.428      0.153     -10.263      65.331\n",
            "==============================================================================\n",
            "Omnibus:                     7164.725   Durbin-Watson:                   1.987\n",
            "Prob(Omnibus):                  0.000   Jarque-Bera (JB):            34097.642\n",
            "Skew:                           1.579   Prob(JB):                         0.00\n",
            "Kurtosis:                       8.350   Cond. No.                         269.\n",
            "==============================================================================\n",
            "\n",
            "Warnings:\n",
            "[1] Standard Errors assume that the covariance matrix of the errors is correctly specified.\n"
          ],
          "name": "stdout"
        }
      ]
    },
    {
      "cell_type": "markdown",
      "metadata": {
        "id": "DTaQapBcKPwH",
        "colab_type": "text"
      },
      "source": [
        "Validation"
      ]
    },
    {
      "cell_type": "code",
      "metadata": {
        "id": "85v-bzTpKPg7",
        "colab_type": "code",
        "colab": {}
      },
      "source": [
        "# KFold Cross Validation\n",
        "kf = KFold(n_splits=10,shuffle=False)\n",
        "kf.split(X)\n",
        "kfold = KFold(n_splits=10, random_state=rs, shuffle=True)\n",
        "\n",
        "# List of regressors to test\n",
        "regressors = []\n",
        "# regressors.append(LinearRegression())\n",
        "# regressors.append(Lasso(random_state=rs))\n",
        "# regressors.append(DecisionTreeRegressor(random_state=rs))\n",
        "# regressors.append(RandomForestRegressor(random_state=rs))\n",
        "# regressors.append(ExtraTreesRegressor(random_state=rs))\n",
        "# regressors.append(xgb.XGBRegressor(random_state=rs,\n",
        "                                  #  objective=\"reg:squarederror\"))\n",
        "regressors.append(lgb.LGBMRegressor(random_state=rs))\n",
        "# regressors.append(GradientBoostingRegressor(random_state=rs))\n",
        "\n",
        "def cross_val(regressors, kfold):\n",
        "  \"\"\"Function that returns a DataFrame of model scores and errors gain and loss\n",
        "  \"\"\"\n",
        "  regressors\n",
        "  cv_results = []\n",
        "  cv_means = []\n",
        "  cv_stds = []\n",
        "  cv_loss = []\n",
        "\n",
        "  # Train and test regressors (Long time)\n",
        "  for regressor in regressors:\n",
        "    cv_results.append(np.sqrt(abs(cross_val_score(regressor,\n",
        "                                                  X_train,\n",
        "                                                  y=y_train,\n",
        "                                                  scoring='neg_mean_squared_error',\n",
        "                                                  cv=kfold))))\n",
        "\n",
        "  for cv_result in cv_results:\n",
        "    cv_means.append(round(cv_result.mean(),2))\n",
        "    cv_stds.append(round(cv_result.std(),2))\n",
        "    cv_loss.append(round(min(cv_result),2))\n",
        "\n",
        "    \n",
        "  cv_res = pd.DataFrame({ \n",
        "    \"Algorithm\":[\"LGB\"],#, \"XTR\",\"MLR\", \"LASSO\",\"RFR\", \"XGBR\",\"GBR\"\"DTR\", \n",
        "    \"Mean RMSE\": cv_means,\n",
        "    \"Std Error\": cv_stds,\n",
        "    \"Min\": cv_loss,\n",
        "                       })\n",
        "  cv_res = cv_res.sort_values(\"Mean RMSE\", ascending=True)\n",
        "  return cv_res"
      ],
      "execution_count": 0,
      "outputs": []
    },
    {
      "cell_type": "code",
      "metadata": {
        "id": "U57Fg1OcvTKv",
        "colab_type": "code",
        "outputId": "d71d7b1c-e4b5-4c42-fb69-5ea15aee1514",
        "colab": {
          "base_uri": "https://localhost:8080/",
          "height": 80
        }
      },
      "source": [
        "cross_val(regressors, kfold)"
      ],
      "execution_count": 0,
      "outputs": [
        {
          "output_type": "execute_result",
          "data": {
            "text/html": [
              "<div>\n",
              "<style scoped>\n",
              "    .dataframe tbody tr th:only-of-type {\n",
              "        vertical-align: middle;\n",
              "    }\n",
              "\n",
              "    .dataframe tbody tr th {\n",
              "        vertical-align: top;\n",
              "    }\n",
              "\n",
              "    .dataframe thead th {\n",
              "        text-align: right;\n",
              "    }\n",
              "</style>\n",
              "<table border=\"1\" class=\"dataframe\">\n",
              "  <thead>\n",
              "    <tr style=\"text-align: right;\">\n",
              "      <th></th>\n",
              "      <th>Algorithm</th>\n",
              "      <th>Mean RMSE</th>\n",
              "      <th>Std Error</th>\n",
              "      <th>Min</th>\n",
              "    </tr>\n",
              "  </thead>\n",
              "  <tbody>\n",
              "    <tr>\n",
              "      <th>0</th>\n",
              "      <td>LGB</td>\n",
              "      <td>788.88</td>\n",
              "      <td>23.66</td>\n",
              "      <td>738.87</td>\n",
              "    </tr>\n",
              "  </tbody>\n",
              "</table>\n",
              "</div>"
            ],
            "text/plain": [
              "  Algorithm  Mean RMSE  Std Error     Min\n",
              "0       LGB     788.88      23.66  738.87"
            ]
          },
          "metadata": {
            "tags": []
          },
          "execution_count": 638
        }
      ]
    },
    {
      "cell_type": "markdown",
      "metadata": {
        "id": "r60Wcrtzb1NU",
        "colab_type": "text"
      },
      "source": [
        "Hyperparameter Optimization"
      ]
    },
    {
      "cell_type": "code",
      "metadata": {
        "id": "LcViHaArvS8G",
        "colab_type": "code",
        "outputId": "b5ff0137-5acf-4111-d894-41bad51d8987",
        "colab": {
          "base_uri": "https://localhost:8080/",
          "height": 51
        }
      },
      "source": [
        "%%time\n",
        "\n",
        "def bayes_parameter_opt_lgb(X, y, init_round=15, opt_round=25, n_folds=3, random_seed=6,n_estimators=10000, output_process=False):\n",
        "    # prepare data\n",
        "    train_data = lgb.Dataset(data=X, label=y, free_raw_data=False)\n",
        "    # parameters\n",
        "    def lgb_eval(learning_rate,num_leaves, feature_fraction, bagging_fraction, max_depth, max_bin, min_data_in_leaf,min_sum_hessian_in_leaf,subsample):\n",
        "        params = {'application':'binary', 'metric':'auc'}\n",
        "        params['learning_rate'] = max(min(learning_rate, 1), 0)\n",
        "        params[\"num_leaves\"] = int(round(num_leaves))\n",
        "        params['feature_fraction'] = max(min(feature_fraction, 1), 0)\n",
        "        params['bagging_fraction'] = max(min(bagging_fraction, 1), 0)\n",
        "        params['max_depth'] = int(round(max_depth))\n",
        "        params['max_bin'] = int(round(max_depth))\n",
        "        params['min_data_in_leaf'] = int(round(min_data_in_leaf))\n",
        "        params['min_sum_hessian_in_leaf'] = min_sum_hessian_in_leaf\n",
        "        params['subsample'] = max(min(subsample, 1), 0)\n",
        "        \n",
        "        cv_result = lgb.cv(params, train_data, nfold=n_folds, seed=random_seed, stratified=True, verbose_eval =200, metrics=['auc'])\n",
        "        return max(cv_result['auc-mean'])\n",
        "     \n",
        "    lgbBO = BayesianOptimization(lgb_eval, {'learning_rate': (0.01, 1.0),\n",
        "                                            'num_leaves': (24, 80),\n",
        "                                            'feature_fraction': (0.1, 0.9),\n",
        "                                            'bagging_fraction': (0.8, 1),\n",
        "                                            'max_depth': (5, 30),\n",
        "                                            'max_bin':(20,90),\n",
        "                                            'min_data_in_leaf': (20, 80),\n",
        "                                            'min_sum_hessian_in_leaf':(0,100),\n",
        "                                           'subsample': (0.01, 1.0)}, random_state=200)\n",
        "\n",
        "    \n",
        "    #n_iter: How many steps of bayesian optimization you want to perform. The more steps the more likely to find a good maximum you are.\n",
        "    #init_points: How many steps of random exploration you want to perform. Random exploration can help by diversifying the exploration space.\n",
        "    \n",
        "    lgbBO.maximize(init_points=init_round, n_iter=opt_round)\n",
        "    \n",
        "    model_auc=[]\n",
        "    for model in range(len( lgbBO.res)):\n",
        "        model_auc.append(lgbBO.res[model]['target'])\n",
        "    \n",
        "    # return best parameters\n",
        "    return lgbBO.res[pd.Series(model_auc).idxmax()]['target'],lgbBO.res[pd.Series(model_auc).idxmax()]['params']"
      ],
      "execution_count": 0,
      "outputs": [
        {
          "output_type": "stream",
          "text": [
            "CPU times: user 12 µs, sys: 0 ns, total: 12 µs\n",
            "Wall time: 16 µs\n"
          ],
          "name": "stdout"
        }
      ]
    },
    {
      "cell_type": "code",
      "metadata": {
        "id": "aveSwjPFQ7sy",
        "colab_type": "code",
        "outputId": "dd84a711-772b-45da-a666-8053d316adfd",
        "colab": {
          "base_uri": "https://localhost:8080/",
          "height": 833
        }
      },
      "source": [
        "opt_params = bayes_parameter_opt_lgb(X, y, init_round=5, opt_round=10, n_folds=10, random_seed=6,n_estimators=10000)"
      ],
      "execution_count": 0,
      "outputs": [
        {
          "output_type": "stream",
          "text": [
            "|   iter    |  target   | baggin... | featur... | learni... |  max_bin  | max_depth | min_da... | min_su... | num_le... | subsample |\n",
            "-------------------------------------------------------------------------------------------------------------------------------------\n"
          ],
          "name": "stdout"
        },
        {
          "output_type": "stream",
          "text": [
            "/usr/local/lib/python3.6/dist-packages/sklearn/model_selection/_split.py:667: UserWarning: The least populated class in y has only 1 members, which is less than n_splits=10.\n",
            "  % (min_groups, self.n_splits)), UserWarning)\n"
          ],
          "name": "stderr"
        },
        {
          "output_type": "stream",
          "text": [
            "| \u001b[0m 1       \u001b[0m | \u001b[0m 1.0     \u001b[0m | \u001b[0m 0.9895  \u001b[0m | \u001b[0m 0.2812  \u001b[0m | \u001b[0m 0.5985  \u001b[0m | \u001b[0m 49.98   \u001b[0m | \u001b[0m 24.1    \u001b[0m | \u001b[0m 20.17   \u001b[0m | \u001b[0m 35.74   \u001b[0m | \u001b[0m 74.94   \u001b[0m | \u001b[0m 0.4615  \u001b[0m |\n"
          ],
          "name": "stdout"
        },
        {
          "output_type": "stream",
          "text": [
            "/usr/local/lib/python3.6/dist-packages/sklearn/model_selection/_split.py:667: UserWarning: The least populated class in y has only 1 members, which is less than n_splits=10.\n",
            "  % (min_groups, self.n_splits)), UserWarning)\n"
          ],
          "name": "stderr"
        },
        {
          "output_type": "stream",
          "text": [
            "| \u001b[0m 2       \u001b[0m | \u001b[0m 1.0     \u001b[0m | \u001b[0m 0.9964  \u001b[0m | \u001b[0m 0.7939  \u001b[0m | \u001b[0m 0.9862  \u001b[0m | \u001b[0m 84.63   \u001b[0m | \u001b[0m 12.59   \u001b[0m | \u001b[0m 70.77   \u001b[0m | \u001b[0m 12.12   \u001b[0m | \u001b[0m 67.99   \u001b[0m | \u001b[0m 0.258   \u001b[0m |\n"
          ],
          "name": "stdout"
        },
        {
          "output_type": "stream",
          "text": [
            "/usr/local/lib/python3.6/dist-packages/sklearn/model_selection/_split.py:667: UserWarning: The least populated class in y has only 1 members, which is less than n_splits=10.\n",
            "  % (min_groups, self.n_splits)), UserWarning)\n"
          ],
          "name": "stderr"
        },
        {
          "output_type": "stream",
          "text": [
            "| \u001b[0m 3       \u001b[0m | \u001b[0m 1.0     \u001b[0m | \u001b[0m 0.8192  \u001b[0m | \u001b[0m 0.8548  \u001b[0m | \u001b[0m 0.8278  \u001b[0m | \u001b[0m 56.28   \u001b[0m | \u001b[0m 26.84   \u001b[0m | \u001b[0m 54.7    \u001b[0m | \u001b[0m 45.01   \u001b[0m | \u001b[0m 62.09   \u001b[0m | \u001b[0m 0.4252  \u001b[0m |\n"
          ],
          "name": "stdout"
        },
        {
          "output_type": "stream",
          "text": [
            "/usr/local/lib/python3.6/dist-packages/sklearn/model_selection/_split.py:667: UserWarning: The least populated class in y has only 1 members, which is less than n_splits=10.\n",
            "  % (min_groups, self.n_splits)), UserWarning)\n"
          ],
          "name": "stderr"
        },
        {
          "output_type": "stream",
          "text": [
            "| \u001b[0m 4       \u001b[0m | \u001b[0m 1.0     \u001b[0m | \u001b[0m 0.9281  \u001b[0m | \u001b[0m 0.5869  \u001b[0m | \u001b[0m 0.1144  \u001b[0m | \u001b[0m 87.62   \u001b[0m | \u001b[0m 23.97   \u001b[0m | \u001b[0m 60.78   \u001b[0m | \u001b[0m 32.93   \u001b[0m | \u001b[0m 25.48   \u001b[0m | \u001b[0m 0.8056  \u001b[0m |\n"
          ],
          "name": "stdout"
        },
        {
          "output_type": "stream",
          "text": [
            "/usr/local/lib/python3.6/dist-packages/sklearn/model_selection/_split.py:667: UserWarning: The least populated class in y has only 1 members, which is less than n_splits=10.\n",
            "  % (min_groups, self.n_splits)), UserWarning)\n"
          ],
          "name": "stderr"
        },
        {
          "output_type": "stream",
          "text": [
            "| \u001b[0m 5       \u001b[0m | \u001b[0m 1.0     \u001b[0m | \u001b[0m 0.9946  \u001b[0m | \u001b[0m 0.3264  \u001b[0m | \u001b[0m 0.6526  \u001b[0m | \u001b[0m 38.59   \u001b[0m | \u001b[0m 9.692   \u001b[0m | \u001b[0m 45.14   \u001b[0m | \u001b[0m 66.6    \u001b[0m | \u001b[0m 52.98   \u001b[0m | \u001b[0m 0.8559  \u001b[0m |\n"
          ],
          "name": "stdout"
        },
        {
          "output_type": "stream",
          "text": [
            "/usr/local/lib/python3.6/dist-packages/sklearn/model_selection/_split.py:667: UserWarning: The least populated class in y has only 1 members, which is less than n_splits=10.\n",
            "  % (min_groups, self.n_splits)), UserWarning)\n"
          ],
          "name": "stderr"
        },
        {
          "output_type": "stream",
          "text": [
            "| \u001b[0m 6       \u001b[0m | \u001b[0m 1.0     \u001b[0m | \u001b[0m 0.8547  \u001b[0m | \u001b[0m 0.4003  \u001b[0m | \u001b[0m 0.6962  \u001b[0m | \u001b[0m 24.2    \u001b[0m | \u001b[0m 15.32   \u001b[0m | \u001b[0m 78.9    \u001b[0m | \u001b[0m 97.79   \u001b[0m | \u001b[0m 25.94   \u001b[0m | \u001b[0m 0.5686  \u001b[0m |\n"
          ],
          "name": "stdout"
        },
        {
          "output_type": "stream",
          "text": [
            "/usr/local/lib/python3.6/dist-packages/sklearn/model_selection/_split.py:667: UserWarning: The least populated class in y has only 1 members, which is less than n_splits=10.\n",
            "  % (min_groups, self.n_splits)), UserWarning)\n"
          ],
          "name": "stderr"
        },
        {
          "output_type": "stream",
          "text": [
            "| \u001b[0m 7       \u001b[0m | \u001b[0m 1.0     \u001b[0m | \u001b[0m 0.8726  \u001b[0m | \u001b[0m 0.3116  \u001b[0m | \u001b[0m 0.6133  \u001b[0m | \u001b[0m 22.76   \u001b[0m | \u001b[0m 8.84    \u001b[0m | \u001b[0m 21.06   \u001b[0m | \u001b[0m 4.765   \u001b[0m | \u001b[0m 26.02   \u001b[0m | \u001b[0m 0.2456  \u001b[0m |\n"
          ],
          "name": "stdout"
        },
        {
          "output_type": "stream",
          "text": [
            "/usr/local/lib/python3.6/dist-packages/sklearn/model_selection/_split.py:667: UserWarning: The least populated class in y has only 1 members, which is less than n_splits=10.\n",
            "  % (min_groups, self.n_splits)), UserWarning)\n"
          ],
          "name": "stderr"
        },
        {
          "output_type": "stream",
          "text": [
            "| \u001b[0m 8       \u001b[0m | \u001b[0m 1.0     \u001b[0m | \u001b[0m 0.8531  \u001b[0m | \u001b[0m 0.5894  \u001b[0m | \u001b[0m 0.3971  \u001b[0m | \u001b[0m 86.88   \u001b[0m | \u001b[0m 13.08   \u001b[0m | \u001b[0m 29.2    \u001b[0m | \u001b[0m 99.73   \u001b[0m | \u001b[0m 25.58   \u001b[0m | \u001b[0m 0.7243  \u001b[0m |\n"
          ],
          "name": "stdout"
        },
        {
          "output_type": "stream",
          "text": [
            "/usr/local/lib/python3.6/dist-packages/sklearn/model_selection/_split.py:667: UserWarning: The least populated class in y has only 1 members, which is less than n_splits=10.\n",
            "  % (min_groups, self.n_splits)), UserWarning)\n"
          ],
          "name": "stderr"
        },
        {
          "output_type": "stream",
          "text": [
            "| \u001b[0m 9       \u001b[0m | \u001b[0m 1.0     \u001b[0m | \u001b[0m 0.8027  \u001b[0m | \u001b[0m 0.3417  \u001b[0m | \u001b[0m 0.7634  \u001b[0m | \u001b[0m 23.11   \u001b[0m | \u001b[0m 23.64   \u001b[0m | \u001b[0m 21.96   \u001b[0m | \u001b[0m 96.34   \u001b[0m | \u001b[0m 79.51   \u001b[0m | \u001b[0m 0.4476  \u001b[0m |\n"
          ],
          "name": "stdout"
        },
        {
          "output_type": "stream",
          "text": [
            "/usr/local/lib/python3.6/dist-packages/sklearn/model_selection/_split.py:667: UserWarning: The least populated class in y has only 1 members, which is less than n_splits=10.\n",
            "  % (min_groups, self.n_splits)), UserWarning)\n"
          ],
          "name": "stderr"
        },
        {
          "output_type": "stream",
          "text": [
            "| \u001b[0m 10      \u001b[0m | \u001b[0m 1.0     \u001b[0m | \u001b[0m 0.8445  \u001b[0m | \u001b[0m 0.3894  \u001b[0m | \u001b[0m 0.8828  \u001b[0m | \u001b[0m 87.86   \u001b[0m | \u001b[0m 5.342   \u001b[0m | \u001b[0m 79.13   \u001b[0m | \u001b[0m 95.67   \u001b[0m | \u001b[0m 75.99   \u001b[0m | \u001b[0m 0.7224  \u001b[0m |\n"
          ],
          "name": "stdout"
        },
        {
          "output_type": "stream",
          "text": [
            "/usr/local/lib/python3.6/dist-packages/sklearn/model_selection/_split.py:667: UserWarning: The least populated class in y has only 1 members, which is less than n_splits=10.\n",
            "  % (min_groups, self.n_splits)), UserWarning)\n"
          ],
          "name": "stderr"
        },
        {
          "output_type": "stream",
          "text": [
            "| \u001b[0m 11      \u001b[0m | \u001b[0m 1.0     \u001b[0m | \u001b[0m 0.8722  \u001b[0m | \u001b[0m 0.539   \u001b[0m | \u001b[0m 0.1459  \u001b[0m | \u001b[0m 75.5    \u001b[0m | \u001b[0m 29.72   \u001b[0m | \u001b[0m 68.65   \u001b[0m | \u001b[0m 31.57   \u001b[0m | \u001b[0m 33.03   \u001b[0m | \u001b[0m 0.07075 \u001b[0m |\n"
          ],
          "name": "stdout"
        },
        {
          "output_type": "stream",
          "text": [
            "/usr/local/lib/python3.6/dist-packages/sklearn/model_selection/_split.py:667: UserWarning: The least populated class in y has only 1 members, which is less than n_splits=10.\n",
            "  % (min_groups, self.n_splits)), UserWarning)\n"
          ],
          "name": "stderr"
        },
        {
          "output_type": "stream",
          "text": [
            "| \u001b[0m 12      \u001b[0m | \u001b[0m 1.0     \u001b[0m | \u001b[0m 0.9735  \u001b[0m | \u001b[0m 0.8011  \u001b[0m | \u001b[0m 0.01059 \u001b[0m | \u001b[0m 22.04   \u001b[0m | \u001b[0m 17.69   \u001b[0m | \u001b[0m 74.07   \u001b[0m | \u001b[0m 0.9261  \u001b[0m | \u001b[0m 77.89   \u001b[0m | \u001b[0m 0.4858  \u001b[0m |\n"
          ],
          "name": "stdout"
        },
        {
          "output_type": "stream",
          "text": [
            "/usr/local/lib/python3.6/dist-packages/sklearn/model_selection/_split.py:667: UserWarning: The least populated class in y has only 1 members, which is less than n_splits=10.\n",
            "  % (min_groups, self.n_splits)), UserWarning)\n"
          ],
          "name": "stderr"
        },
        {
          "output_type": "stream",
          "text": [
            "| \u001b[0m 13      \u001b[0m | \u001b[0m 1.0     \u001b[0m | \u001b[0m 0.8921  \u001b[0m | \u001b[0m 0.3534  \u001b[0m | \u001b[0m 0.1975  \u001b[0m | \u001b[0m 21.43   \u001b[0m | \u001b[0m 27.88   \u001b[0m | \u001b[0m 77.54   \u001b[0m | \u001b[0m 98.74   \u001b[0m | \u001b[0m 29.03   \u001b[0m | \u001b[0m 0.1942  \u001b[0m |\n"
          ],
          "name": "stdout"
        },
        {
          "output_type": "stream",
          "text": [
            "/usr/local/lib/python3.6/dist-packages/sklearn/model_selection/_split.py:667: UserWarning: The least populated class in y has only 1 members, which is less than n_splits=10.\n",
            "  % (min_groups, self.n_splits)), UserWarning)\n"
          ],
          "name": "stderr"
        },
        {
          "output_type": "stream",
          "text": [
            "| \u001b[0m 14      \u001b[0m | \u001b[0m 1.0     \u001b[0m | \u001b[0m 0.9479  \u001b[0m | \u001b[0m 0.8709  \u001b[0m | \u001b[0m 0.1779  \u001b[0m | \u001b[0m 88.82   \u001b[0m | \u001b[0m 5.384   \u001b[0m | \u001b[0m 20.38   \u001b[0m | \u001b[0m 0.07029 \u001b[0m | \u001b[0m 74.12   \u001b[0m | \u001b[0m 0.238   \u001b[0m |\n"
          ],
          "name": "stdout"
        },
        {
          "output_type": "stream",
          "text": [
            "/usr/local/lib/python3.6/dist-packages/sklearn/model_selection/_split.py:667: UserWarning: The least populated class in y has only 1 members, which is less than n_splits=10.\n",
            "  % (min_groups, self.n_splits)), UserWarning)\n"
          ],
          "name": "stderr"
        },
        {
          "output_type": "stream",
          "text": [
            "| \u001b[0m 15      \u001b[0m | \u001b[0m 1.0     \u001b[0m | \u001b[0m 0.8512  \u001b[0m | \u001b[0m 0.1726  \u001b[0m | \u001b[0m 0.5423  \u001b[0m | \u001b[0m 22.71   \u001b[0m | \u001b[0m 6.478   \u001b[0m | \u001b[0m 78.5    \u001b[0m | \u001b[0m 2.444   \u001b[0m | \u001b[0m 37.25   \u001b[0m | \u001b[0m 0.4017  \u001b[0m |\n",
            "=====================================================================================================================================\n"
          ],
          "name": "stdout"
        }
      ]
    },
    {
      "cell_type": "code",
      "metadata": {
        "id": "59iqgWuqVGwc",
        "colab_type": "code",
        "outputId": "ea64d69b-a778-4dfa-db6a-05542c0e95cf",
        "colab": {
          "base_uri": "https://localhost:8080/",
          "height": 187
        }
      },
      "source": [
        "opt_params"
      ],
      "execution_count": 0,
      "outputs": [
        {
          "output_type": "execute_result",
          "data": {
            "text/plain": [
              "(1.0,\n",
              " {'bagging_fraction': 0.9895264513703341,\n",
              "  'feature_fraction': 0.2812379369053784,\n",
              "  'learning_rate': 0.5984759429472213,\n",
              "  'max_bin': 49.981607945078636,\n",
              "  'max_depth': 24.10351716384675,\n",
              "  'min_data_in_leaf': 20.171635500856567,\n",
              "  'min_sum_hessian_in_leaf': 35.74236812873617,\n",
              "  'num_leaves': 74.94291359717887,\n",
              "  'subsample': 0.4615201756036703})"
            ]
          },
          "metadata": {
            "tags": []
          },
          "execution_count": 641
        }
      ]
    },
    {
      "cell_type": "code",
      "metadata": {
        "id": "PsVzPUaKR3uA",
        "colab_type": "code",
        "colab": {}
      },
      "source": [
        "lgbr = lgb.LGBMRegressor(bagging_fraction = 0.1,\n",
        "                         boosting_type='gbdt',\n",
        "  feature_fraction = 0.2812379369053784,\n",
        "  learning_rate = 0.32,\n",
        "  max_bin = 49,\n",
        "  max_depth = 4,\n",
        "  min_data_in_leaf = 20,\n",
        "  min_sum_hessian_in_leaf = 35.74236812873617,\n",
        "  num_leaves = 75,\n",
        "  subsample = 0.4615201756036703)"
      ],
      "execution_count": 0,
      "outputs": []
    },
    {
      "cell_type": "code",
      "metadata": {
        "id": "azzcCK_JSbT7",
        "colab_type": "code",
        "outputId": "d3cd4591-c5ef-4fe2-9fca-53ab3b5dda82",
        "colab": {
          "base_uri": "https://localhost:8080/",
          "height": 187
        }
      },
      "source": [
        "lgbr.fit(X_train, y_train)"
      ],
      "execution_count": 0,
      "outputs": [
        {
          "output_type": "execute_result",
          "data": {
            "text/plain": [
              "LGBMRegressor(bagging_fraction=0.1, boosting_type='gbdt', class_weight=None,\n",
              "              colsample_bytree=1.0, feature_fraction=0.2812379369053784,\n",
              "              importance_type='split', learning_rate=0.32, max_bin=49,\n",
              "              max_depth=4, min_child_samples=20, min_child_weight=0.001,\n",
              "              min_data_in_leaf=20, min_split_gain=0.0,\n",
              "              min_sum_hessian_in_leaf=35.74236812873617, n_estimators=100,\n",
              "              n_jobs=-1, num_leaves=75, objective=None, random_state=None,\n",
              "              reg_alpha=0.0, reg_lambda=0.0, silent=True,\n",
              "              subsample=0.4615201756036703, subsample_for_bin=200000,\n",
              "              subsample_freq=0)"
            ]
          },
          "metadata": {
            "tags": []
          },
          "execution_count": 699
        }
      ]
    },
    {
      "cell_type": "code",
      "metadata": {
        "id": "_7OvJgs4S9yC",
        "colab_type": "code",
        "outputId": "95f2d11b-fb10-4293-b672-e00cfa4f19b9",
        "colab": {
          "base_uri": "https://localhost:8080/",
          "height": 68
        }
      },
      "source": [
        "y_pred = lgbr.predict(X_test)\n",
        "y_pred_train = lgbr.predict(X_train)\n",
        "# check RMSE\n",
        "mse = mean_squared_error(y_test,y_pred)\n",
        "msetrain = mean_squared_error(y_train,y_pred_train)\n",
        "RMSE = np.sqrt(mse)\n",
        "RMSEt = np.sqrt(msetrain)\n",
        "print(\"Train RMSE: \\t\",RMSEt,\"\\nTest RMSE: \\t\", RMSE,\"\\nDifference\\t:\", RMSEt-RMSE)"
      ],
      "execution_count": 0,
      "outputs": [
        {
          "output_type": "stream",
          "text": [
            "Train RMSE: \t 775.349406507334 \n",
            "Test RMSE: \t 766.6688004092889 \n",
            "Difference\t: 8.680606098045132\n"
          ],
          "name": "stdout"
        }
      ]
    },
    {
      "cell_type": "markdown",
      "metadata": {
        "id": "xbOEXfYDcOJ8",
        "colab_type": "text"
      },
      "source": [
        "Bagging"
      ]
    },
    {
      "cell_type": "code",
      "metadata": {
        "id": "PiNss24Fbtr7",
        "colab_type": "code",
        "outputId": "b0a57e3b-c833-418f-aaea-46af64a80ffc",
        "colab": {
          "base_uri": "https://localhost:8080/",
          "height": 391
        }
      },
      "source": [
        "# Instantiate BaggingRegressor model with a decision tree as the base model\n",
        "bag_reg = BaggingRegressor(base_estimator = lgbr)\n",
        "bag_reg.fit(X_train, y_train)"
      ],
      "execution_count": 0,
      "outputs": [
        {
          "output_type": "execute_result",
          "data": {
            "text/plain": [
              "BaggingRegressor(base_estimator=LGBMRegressor(bagging_fraction=0.1,\n",
              "                                              boosting_type='gbdt',\n",
              "                                              class_weight=None,\n",
              "                                              colsample_bytree=1.0,\n",
              "                                              feature_fraction=0.2812379369053784,\n",
              "                                              importance_type='split',\n",
              "                                              learning_rate=0.32, max_bin=49,\n",
              "                                              max_depth=4, min_child_samples=20,\n",
              "                                              min_child_weight=0.001,\n",
              "                                              min_data_in_leaf=20,\n",
              "                                              min_split_gain=0.0,\n",
              "                                              min_sum_hessian_in_leaf=35.74236812873617,\n",
              "                                              n_estimators=100, n_jobs=-1,\n",
              "                                              num_leaves=75, objective=None,\n",
              "                                              random_state=None, reg_alpha=0.0,\n",
              "                                              reg_lambda=0.0, silent=True,\n",
              "                                              subsample=0.4615201756036703,\n",
              "                                              subsample_for_bin=200000,\n",
              "                                              subsample_freq=0),\n",
              "                 bootstrap=True, bootstrap_features=False, max_features=1.0,\n",
              "                 max_samples=1.0, n_estimators=10, n_jobs=None, oob_score=False,\n",
              "                 random_state=None, verbose=0, warm_start=False)"
            ]
          },
          "metadata": {
            "tags": []
          },
          "execution_count": 701
        }
      ]
    },
    {
      "cell_type": "code",
      "metadata": {
        "id": "mnuOrL92btk7",
        "colab_type": "code",
        "outputId": "f799244c-0115-4a2c-b27e-04af08b411ff",
        "colab": {
          "base_uri": "https://localhost:8080/",
          "height": 68
        }
      },
      "source": [
        "y_pred = bag_reg.predict(X_test)\n",
        "y_pred_train = bag_reg.predict(X_train)\n",
        "# check RMSE\n",
        "mse = mean_squared_error(y_test,y_pred)\n",
        "msetrain = mean_squared_error(y_train,y_pred_train)\n",
        "RMSE = np.sqrt(mse)\n",
        "RMSEt = np.sqrt(msetrain)\n",
        "print(\"Train RMSE: \\t\",RMSEt,\"\\nTest RMSE: \\t\", RMSE,\"\\nDifference\\t:\", RMSEt-RMSE)"
      ],
      "execution_count": 0,
      "outputs": [
        {
          "output_type": "stream",
          "text": [
            "Train RMSE: \t 775.2103213275316 \n",
            "Test RMSE: \t 764.9749286964704 \n",
            "Difference\t: 10.235392631061131\n"
          ],
          "name": "stdout"
        }
      ]
    },
    {
      "cell_type": "code",
      "metadata": {
        "id": "hrLjg7XYe20c",
        "colab_type": "code",
        "colab": {}
      },
      "source": [
        "model_save_path = \"Team_13_model.pkl\"\n",
        "with open(model_save_path,'wb') as file:\n",
        "    pickle.dump(model,file)"
      ],
      "execution_count": 0,
      "outputs": []
    },
    {
      "cell_type": "markdown",
      "metadata": {
        "id": "m4yi7wvk48hF",
        "colab_type": "text"
      },
      "source": [
        "## 6. Results interpretation"
      ]
    },
    {
      "cell_type": "markdown",
      "metadata": {
        "id": "9PYDaWSXsJPs",
        "colab_type": "text"
      },
      "source": [
        "**6.1 EXPLORATION DATA ANALYSIS**\n",
        "Exploration Data Analysis (EDA) is  a process where a number of techniques are used to better understand the dataset being used.The reason behind EDA is to have a good understanding of the dataset and also to use necessary steps to utilize the data inorder to extract information from the data.The steps that were followed in this section includes ,Extracting important variables and leaving behind  variables that was not needed\n",
        "Identifying outliers, missing values, or human error\n",
        "Understanding the relationship(s), or lack of, between variables\n",
        "Ultimately, maximizing your insights of a dataset and minimizing potential error later in the process.\n",
        "\n",
        "Inorder to understand the target variable, a histogram was used to visiualize the data and also understand the relationship it has with the independent variable(s).From the Histogram that is illustrated, shows that the mean is greater than the median , which means the histogram is skewed to the right.\n",
        "\n",
        "Furthermore, data was also divided into the Univariate and Bivariate analysis.Where Univariate analysis is the simplest form of data analysis where the data being analyzed contains only one variable. Since it's a single variable it doesn’t deal with causes or relationships.  The main purpose of univariate analysis is to describe the data and find patterns that exist within it. In this case variables such as Platforms, confirmation,Placements_Weekdays etc were analysed using the histograms, inorder to extract as much information as possible and also to make an informed decision with regards to which variables keep and which ones will not be necessary to have at a later stage .\n",
        "\n",
        "The remain Independent variables were then analysed using the Bivariate analysis.Bivariate analysis  used to find out if there is a relationship between the independent variables and the dependent  variable. In this case the scatterplots and heatmap were used to illustrated  the relationship between the  variables .The heatmap was used to show correlation between the variables, the variables that had the least correlation with the target variable (Time from pickup to arrival) were then dropped since they wont have any significant use at a later stage of the project.\n",
        "\n",
        "Scatterplot were used to determine any outlier that could possible affect the predicted RMSE or the performance of the model at a later stage .After that all these processes, an informed decision with regards to dropping unnecesarry variables. \n",
        "\n",
        "\n",
        "Furthermore, in this stage the missing value were also treated, depending on how valuable the data is . Whilst treating the missing data , careful consideration were taken due to the fact how it is treated could affect the performance of the model. In this case, the precipitation had the most missing values , which are approximately 97%  and Temperature have 20% missing value. The median in this case was used to calculate the missing values.\n",
        "\n",
        "6.3 MODEL BULDING \n",
        "\n",
        "At this final stage of the data interpretation, after the EDA and Feature engineering are done ,the  data is now ready to be utilized in building the model.Different models were placed into test before the best perfoming model was chosen.The models that were tested are as follows, Linear Regression,Lasso Regressor(Random_state),Randomn Forest Regressor, Extra Tree Regressor and XGBR Regressor.\n",
        "\n",
        "From the abovementioned Regression model , the model that performed best was then selected to be the one that carries on to do the prediction. All this regression model were tested using the kfold validation. Quick recap, Cross validation is a statistical method used to estimate the skill of machine learning models.\n",
        "\n",
        "It is commonly used in applied machine learning to compare and select a model for a given predictive modeling problem.In the case of this project, the number of splits that were used in the kfold methods are 10, which means the data was splited into approximately 10 equal sizes. After the dataset has been divided, For each unique group: the other group will be  held out or be used as test data set, the remaining groups were used as the  training data set, lastly a model was fitted  on the training set and evaluate it on the test set.This processes was done so the model could be settled.\n",
        "\n",
        "From the previous Section (Model Bulding) specifically under the k-fold cross validation , the observation could clearly indicated the best perfoming model, in this instance the the best one was the LGBM (LightGBM)with the  RMSE 788.88 and the stanadrd deviation error of 23.66 .\n",
        "\n",
        "The lightGBM is defined as the gradient boosting framework which uses tree based learning algorathims. The reason behind using this algorithm besides ,it  having the best perfoming model is because of its faster training speed and higher efficiency.\n",
        "\n",
        "After the best perfoming model has been determined, the hyperparameters were used  to observe how it affects the model's accuracy.  In this case,observing were mainly focused on how changing the number of estimators and the criterion can affect our Random Forest accuracy. From the results that were obtained, it shows that the Train RMSE is 775.35(2 decimals),and the recently the Test RMSE is now 766.67 (2 decimals), which means the difference between the RMSE is 8 , and therefore there is not much of a difference and this also emphasizes that the hyperparameters that has been choosen align with the results that have were gotten from the initial stage of training the model.In this case the  Bayesian optimization hyperparameters was choosen,because they use past evaluation results to choose the next values to evaluate and that asisted with the predicted  RMSE accuracy. In conclusion  the concept is limit expensive evaluations of the objective function by choosing the next input values based on those that have done well in the past.\n",
        "\n",
        "\n",
        "After the second RMSE prediction, the bagging method was the introduced. The reason behind choosing this method (Bagging) is because the aim was to create stability and improve the accuracy of the RMSE , that was obtained from the previous prediction. Furthermore, this methods also reduces the  varience and therefore overfitting is avoided at all costs.The prediction that have been calculated previsouly is still within a small range.After the Bagging method was used,  the RMSE has only changed from 775.21  to 764.74 .\n",
        "\n",
        "From  the bagging , Baysein optimazation hyperparameters and the cross validation methods, the model at this instance is perfoming at it outmost best and the prediction that has been made are likely to bring the best insights for Sendy logists .\n"
      ]
    },
    {
      "cell_type": "code",
      "metadata": {
        "id": "kdCGgg-McTqG",
        "colab_type": "code",
        "colab": {}
      },
      "source": [
        ""
      ],
      "execution_count": 0,
      "outputs": []
    },
    {
      "cell_type": "markdown",
      "metadata": {
        "id": "R1Q-kort485Q",
        "colab_type": "text"
      },
      "source": [
        "## 7. Conclusion\n",
        "\n",
        "From all the steps and processes that were followed in this project until the model was built , with confidence it is easy to say the this model has made the most accurate results, that will help Sendy logistics with insights and that could be beneficial to the business . Furthermore, Sendy logistics can now see what needs more improvement ."
      ]
    }
  ]
}